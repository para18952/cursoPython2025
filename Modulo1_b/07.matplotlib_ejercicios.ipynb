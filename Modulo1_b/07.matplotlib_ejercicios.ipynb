{
  "cells": [
    {
      "cell_type": "markdown",
      "metadata": {
        "id": "view-in-github",
        "colab_type": "text"
      },
      "source": [
        "<a href=\"https://colab.research.google.com/github/ednavivianasegura/ERAP_CursoPython/blob/main/Modulo1_b/07.matplotlib_ejercicios.ipynb\" target=\"_parent\"><img src=\"https://colab.research.google.com/assets/colab-badge.svg\" alt=\"Open In Colab\"/></a>"
      ]
    },
    {
      "cell_type": "markdown",
      "id": "72713824",
      "metadata": {
        "id": "72713824"
      },
      "source": [
        "## Ejercicios matplotlib"
      ]
    },
    {
      "cell_type": "code",
      "execution_count": null,
      "id": "751d03b8",
      "metadata": {
        "id": "751d03b8"
      },
      "outputs": [],
      "source": [
        "import numpy as np\n",
        "import pandas as pd\n",
        "import matplotlib.pyplot as plt"
      ]
    },
    {
      "cell_type": "markdown",
      "id": "8d86e30f",
      "metadata": {
        "id": "8d86e30f"
      },
      "source": [
        "### Ejercicio 1:\n",
        "- Gráfica una recta de (-7, -7) a (7, 7) de color rosa."
      ]
    },
    {
      "cell_type": "code",
      "execution_count": null,
      "id": "7d871885",
      "metadata": {
        "id": "7d871885"
      },
      "outputs": [],
      "source": []
    },
    {
      "cell_type": "code",
      "execution_count": null,
      "id": "8ea3a917",
      "metadata": {
        "id": "8ea3a917"
      },
      "outputs": [],
      "source": []
    },
    {
      "cell_type": "code",
      "execution_count": null,
      "id": "ade8f194",
      "metadata": {
        "id": "ade8f194"
      },
      "outputs": [],
      "source": []
    },
    {
      "cell_type": "markdown",
      "id": "49bd633b",
      "metadata": {
        "id": "49bd633b"
      },
      "source": [
        "### Ejercicio 2:\n",
        "- Obtén el siguiente resultado utilizando subplot y la ecuación anterior.\n",
        "\n",
        "<center>\n",
        " <img src=\"https://github.com/ednavivianasegura/ERAP_CursoPython/blob/main/Modulo1_b/Imagenes%20Notebooks/matplotlib_1.png?raw=true\" alt=\"descriptiva\" width=\"50%\" height=\"50%\">  \n",
        "</center>\n",
        "\n"
      ]
    },
    {
      "cell_type": "code",
      "execution_count": null,
      "id": "864c82f5",
      "metadata": {
        "id": "864c82f5"
      },
      "outputs": [],
      "source": []
    },
    {
      "cell_type": "code",
      "execution_count": null,
      "id": "c862a141",
      "metadata": {
        "id": "c862a141"
      },
      "outputs": [],
      "source": []
    },
    {
      "cell_type": "code",
      "execution_count": null,
      "id": "1f8a4b5c",
      "metadata": {
        "id": "1f8a4b5c"
      },
      "outputs": [],
      "source": []
    },
    {
      "cell_type": "markdown",
      "id": "7c8c388d",
      "metadata": {
        "id": "7c8c388d"
      },
      "source": [
        "### Ejercicio 3:\n",
        "- Obtén la siguiente gráfica de barras.\n",
        "\n",
        "\n",
        "<center>\n",
        " <img src=\"https://github.com/ednavivianasegura/ERAP_CursoPython/blob/main/Modulo1_b/Imagenes%20Notebooks/matplotlib_2.png?raw=true\" alt=\"descriptiva\" width=\"50%\" height=\"50%\">  \n",
        "</center>\n",
        "\n"
      ]
    },
    {
      "cell_type": "code",
      "execution_count": null,
      "id": "fa49dc1b",
      "metadata": {
        "id": "fa49dc1b"
      },
      "outputs": [],
      "source": []
    },
    {
      "cell_type": "code",
      "execution_count": null,
      "id": "7ff42943",
      "metadata": {
        "id": "7ff42943"
      },
      "outputs": [],
      "source": []
    },
    {
      "cell_type": "code",
      "execution_count": null,
      "id": "4ed57e15",
      "metadata": {
        "id": "4ed57e15"
      },
      "outputs": [],
      "source": []
    },
    {
      "cell_type": "markdown",
      "id": "a3d3b38c",
      "metadata": {
        "id": "a3d3b38c"
      },
      "source": [
        "### Ejercicio 4:\n",
        "- Obtener la siguiente gráfica.\n",
        "\n",
        "\n",
        "<center>\n",
        " <img src=\"https://github.com/ednavivianasegura/ERAP_CursoPython/blob/main/Modulo1_b/Imagenes%20Notebooks/matplotlib_3.png?raw=true\" alt=\"descriptiva\" width=\"50%\" height=\"50%\">  \n",
        "</center>\n"
      ]
    },
    {
      "cell_type": "code",
      "execution_count": null,
      "id": "d9aa6013",
      "metadata": {
        "id": "d9aa6013"
      },
      "outputs": [],
      "source": []
    },
    {
      "cell_type": "code",
      "execution_count": null,
      "id": "b68aa613",
      "metadata": {
        "id": "b68aa613"
      },
      "outputs": [],
      "source": []
    },
    {
      "cell_type": "code",
      "execution_count": null,
      "id": "e6efa50f",
      "metadata": {
        "id": "e6efa50f"
      },
      "outputs": [],
      "source": []
    },
    {
      "cell_type": "markdown",
      "id": "43323d51",
      "metadata": {
        "id": "43323d51"
      },
      "source": [
        "### Ejercicio 5:\n",
        "- Obtener el histograma del último atributo del dataset de la iris.\n",
        "\n",
        "\n",
        "<center>\n",
        " <img src=\"https://github.com/ednavivianasegura/ERAP_CursoPython/blob/main/Modulo1_b/Imagenes%20Notebooks/matplotlib_4.png?raw=true\" alt=\"descriptiva\" width=\"50%\" height=\"50%\">  \n",
        "</center>\n"
      ]
    },
    {
      "cell_type": "code",
      "execution_count": null,
      "id": "90144ade",
      "metadata": {
        "id": "90144ade"
      },
      "outputs": [],
      "source": []
    },
    {
      "cell_type": "code",
      "execution_count": null,
      "id": "876869f5",
      "metadata": {
        "id": "876869f5"
      },
      "outputs": [],
      "source": []
    },
    {
      "cell_type": "code",
      "execution_count": null,
      "id": "fd3bafad",
      "metadata": {
        "id": "fd3bafad"
      },
      "outputs": [],
      "source": []
    },
    {
      "cell_type": "markdown",
      "id": "36cefae2",
      "metadata": {
        "id": "36cefae2"
      },
      "source": [
        "### Ejercicio 6:\n",
        "- Muestra los histogramas de los últimos dos atributos de la iris plant.\n",
        "\n",
        "\n",
        "<center>\n",
        " <img src=\"https://github.com/ednavivianasegura/ERAP_CursoPython/blob/main/Modulo1_b/Imagenes%20Notebooks/matplotlib_5.png?raw=true\" alt=\"descriptiva\" width=\"50%\" height=\"50%\">  \n",
        "</center>\n",
        "\n"
      ]
    },
    {
      "cell_type": "code",
      "execution_count": null,
      "id": "adce8886",
      "metadata": {
        "id": "adce8886"
      },
      "outputs": [],
      "source": []
    },
    {
      "cell_type": "code",
      "execution_count": null,
      "id": "d228e38c",
      "metadata": {
        "id": "d228e38c"
      },
      "outputs": [],
      "source": []
    },
    {
      "cell_type": "code",
      "execution_count": null,
      "id": "197d26dc",
      "metadata": {
        "id": "197d26dc"
      },
      "outputs": [],
      "source": []
    },
    {
      "cell_type": "markdown",
      "id": "3fb02018",
      "metadata": {
        "id": "3fb02018"
      },
      "source": [
        "### Ejercicio 7:\n",
        "- Guarda el dataset de titanic en una variable."
      ]
    },
    {
      "cell_type": "code",
      "execution_count": null,
      "id": "bc26561d",
      "metadata": {
        "id": "bc26561d"
      },
      "outputs": [],
      "source": []
    },
    {
      "cell_type": "markdown",
      "id": "35430ff5",
      "metadata": {
        "id": "35430ff5"
      },
      "source": [
        "### Ejercicio 8:\n",
        "- Muestra en una grafica de barras el número de hombres y mujeres que sobrevivieron.\n",
        "\n",
        "\n",
        "<center>\n",
        " <img src=\"https://github.com/ednavivianasegura/ERAP_CursoPython/blob/main/Modulo1_b/Imagenes%20Notebooks/matplotlib_6.png?raw=true\" alt=\"descriptiva\" width=\"50%\" height=\"50%\">  \n",
        "</center>\n",
        "\n"
      ]
    },
    {
      "cell_type": "code",
      "execution_count": null,
      "id": "276814e2",
      "metadata": {
        "id": "276814e2"
      },
      "outputs": [],
      "source": []
    },
    {
      "cell_type": "code",
      "execution_count": null,
      "id": "d513d529",
      "metadata": {
        "id": "d513d529"
      },
      "outputs": [],
      "source": []
    },
    {
      "cell_type": "code",
      "execution_count": null,
      "id": "c62e24aa",
      "metadata": {
        "id": "c62e24aa"
      },
      "outputs": [],
      "source": []
    },
    {
      "cell_type": "markdown",
      "id": "f9b94c3f",
      "metadata": {
        "id": "f9b94c3f"
      },
      "source": [
        "### Ejercicio 9:\n",
        "- Muestra en una grafica de barras el número de hombres y mujeres que sobrevivieron.\n",
        "\n",
        "\n",
        "<center>\n",
        " <img src=\"https://github.com/ednavivianasegura/ERAP_CursoPython/blob/main/Modulo1_b/Imagenes%20Notebooks/matplotlib_7.png?raw=true\" alt=\"descriptiva\" width=\"50%\" height=\"50%\">  \n",
        "</center>\n",
        "\n"
      ]
    },
    {
      "cell_type": "code",
      "execution_count": null,
      "id": "cc489918",
      "metadata": {
        "id": "cc489918"
      },
      "outputs": [],
      "source": []
    },
    {
      "cell_type": "code",
      "execution_count": null,
      "id": "4098d4a0",
      "metadata": {
        "id": "4098d4a0"
      },
      "outputs": [],
      "source": []
    },
    {
      "cell_type": "code",
      "execution_count": null,
      "id": "c61ff4e1",
      "metadata": {
        "id": "c61ff4e1"
      },
      "outputs": [],
      "source": []
    },
    {
      "cell_type": "markdown",
      "id": "0d50d1d0",
      "metadata": {
        "id": "0d50d1d0"
      },
      "source": [
        "### Ejercicio 10:\n",
        "- Muestra en una grafica de barras agrupada la cantidad de hombres y mujeres de cada clase (**`Pclass`**).\n",
        "\n",
        "<center>\n",
        " <img src=\"https://github.com/ednavivianasegura/ERAP_CursoPython/blob/main/Modulo1_b/Imagenes%20Notebooks/matplotlib_8.png?raw=true\" alt=\"descriptiva\" width=\"50%\" height=\"50%\">  \n",
        "</center>\n",
        "\n"
      ]
    },
    {
      "cell_type": "code",
      "execution_count": null,
      "id": "2c7d5d91",
      "metadata": {
        "id": "2c7d5d91"
      },
      "outputs": [],
      "source": []
    },
    {
      "cell_type": "code",
      "execution_count": null,
      "id": "2e60e8b9",
      "metadata": {
        "id": "2e60e8b9"
      },
      "outputs": [],
      "source": []
    },
    {
      "cell_type": "code",
      "execution_count": null,
      "id": "c92d3698",
      "metadata": {
        "id": "c92d3698"
      },
      "outputs": [],
      "source": []
    },
    {
      "cell_type": "markdown",
      "id": "164ea9fc",
      "metadata": {
        "id": "164ea9fc"
      },
      "source": [
        "### Ejercicio 11:\n",
        "- Muestra en una gráfica el número de sobrevivientes por clase (**`Pclass`**).\n",
        "\n",
        "<center>\n",
        " <img src=\"https://github.com/ednavivianasegura/ERAP_CursoPython/blob/main/Modulo1_b/Imagenes%20Notebooks/matplotlib_9.png?raw=true\" alt=\"descriptiva\" width=\"50%\" height=\"50%\">  \n",
        "</center>\n",
        "\n"
      ]
    },
    {
      "cell_type": "code",
      "execution_count": null,
      "id": "ac4adfd6",
      "metadata": {
        "id": "ac4adfd6"
      },
      "outputs": [],
      "source": []
    },
    {
      "cell_type": "code",
      "execution_count": null,
      "id": "100a31ad",
      "metadata": {
        "id": "100a31ad"
      },
      "outputs": [],
      "source": []
    },
    {
      "cell_type": "code",
      "execution_count": null,
      "id": "7f68b348",
      "metadata": {
        "id": "7f68b348"
      },
      "outputs": [],
      "source": []
    },
    {
      "cell_type": "markdown",
      "id": "28e2a9dc",
      "metadata": {
        "id": "28e2a9dc"
      },
      "source": [
        "### Ejercicio 12:\n",
        "- Muestra en una gráfica de sectores el número de los que no sobrevivieron por clase (**`Pclass`**).\n",
        "\n",
        "<center>\n",
        " <img src=\"https://github.com/ednavivianasegura/ERAP_CursoPython/blob/main/Modulo1_b/Imagenes%20Notebooks/matplotlib_10.png?raw=true\" alt=\"descriptiva\" width=\"50%\" height=\"50%\">  \n",
        "</center>\n",
        "\n",
        "\n"
      ]
    },
    {
      "cell_type": "code",
      "execution_count": null,
      "id": "071de799",
      "metadata": {
        "id": "071de799"
      },
      "outputs": [],
      "source": []
    },
    {
      "cell_type": "code",
      "execution_count": null,
      "id": "fed9eeb9",
      "metadata": {
        "id": "fed9eeb9"
      },
      "outputs": [],
      "source": []
    },
    {
      "cell_type": "code",
      "execution_count": null,
      "id": "15d4f959",
      "metadata": {
        "id": "15d4f959"
      },
      "outputs": [],
      "source": []
    },
    {
      "cell_type": "markdown",
      "id": "55a6402f",
      "metadata": {
        "id": "55a6402f"
      },
      "source": [
        "### Ejercicio 13:\n",
        "- Muestra en 2 graficas de sectores con **`plt.subplots()`** la siguiente información:\n",
        "    1. En la primera gráfica mostrar el número de pasajeros que murieron de cada clase.\n",
        "    2. En la segunda gráfica mostrar el número de pasajeros que sobrevivieron de cada clase.\n",
        "\n",
        "<center>\n",
        " <img src=\"https://github.com/ednavivianasegura/ERAP_CursoPython/blob/main/Modulo1_b/Imagenes%20Notebooks/matplotlib_11.png?raw=true\" alt=\"descriptiva\" width=\"50%\" height=\"50%\">  \n",
        "</center>\n"
      ]
    },
    {
      "cell_type": "code",
      "execution_count": null,
      "id": "710e16a6",
      "metadata": {
        "id": "710e16a6"
      },
      "outputs": [],
      "source": []
    },
    {
      "cell_type": "code",
      "execution_count": null,
      "id": "d2229132",
      "metadata": {
        "id": "d2229132"
      },
      "outputs": [],
      "source": []
    },
    {
      "cell_type": "code",
      "execution_count": null,
      "id": "9f92fa88",
      "metadata": {
        "id": "9f92fa88"
      },
      "outputs": [],
      "source": []
    },
    {
      "cell_type": "markdown",
      "id": "1ece3927",
      "metadata": {
        "id": "1ece3927"
      },
      "source": [
        "### Ejercicio 14:\n",
        "- Muestra en una gráfica lineal las edades de los pasajeros que sobrevivieron y en otra la de los pasajeros que no sobrevivieron.\n",
        "\n",
        "<center>\n",
        " <img src=\"https://github.com/ednavivianasegura/ERAP_CursoPython/blob/main/Modulo1_b/Imagenes%20Notebooks/matplotlib_12.png?raw=true\" alt=\"descriptiva\" width=\"50%\" height=\"50%\">  \n",
        "</center>\n"
      ]
    },
    {
      "cell_type": "code",
      "execution_count": null,
      "id": "120210ed",
      "metadata": {
        "id": "120210ed"
      },
      "outputs": [],
      "source": []
    },
    {
      "cell_type": "code",
      "execution_count": null,
      "id": "ef8b0927",
      "metadata": {
        "id": "ef8b0927"
      },
      "outputs": [],
      "source": []
    },
    {
      "cell_type": "code",
      "execution_count": null,
      "id": "3fcfad17",
      "metadata": {
        "id": "3fcfad17"
      },
      "outputs": [],
      "source": []
    },
    {
      "cell_type": "markdown",
      "id": "83634ccc",
      "metadata": {
        "id": "83634ccc"
      },
      "source": [
        "### Ejercicio 15:\n",
        "- Muestra en una grafica de caja la edad de los que sobrevivieron y de los que no sobrevivieron.\n",
        "\n",
        "**Nota**: Para poder graficarlo hay que reemplazar los NaN por el promedio de edad.\n",
        "\n",
        "<center>\n",
        " <img src=\"https://github.com/ednavivianasegura/ERAP_CursoPython/blob/main/Modulo1_b/Imagenes%20Notebooks/matplotlib_13.png?raw=true\" alt=\"descriptiva\" width=\"50%\" height=\"50%\">  \n",
        "</center>\n",
        "\n",
        "\n"
      ]
    },
    {
      "cell_type": "code",
      "execution_count": null,
      "id": "697234dd",
      "metadata": {
        "id": "697234dd"
      },
      "outputs": [],
      "source": []
    },
    {
      "cell_type": "code",
      "execution_count": null,
      "id": "6b4d6dc0",
      "metadata": {
        "id": "6b4d6dc0"
      },
      "outputs": [],
      "source": []
    },
    {
      "cell_type": "code",
      "execution_count": null,
      "id": "f740fac6",
      "metadata": {
        "id": "f740fac6"
      },
      "outputs": [],
      "source": []
    },
    {
      "cell_type": "markdown",
      "id": "dfb28998",
      "metadata": {
        "id": "dfb28998"
      },
      "source": [
        "### Ejercicio 16:\n",
        "- Mostrar en una gráfica de caja por clase la edad de los pasajeros.\n",
        "\n",
        "<center>\n",
        " <img src=\"https://github.com/ednavivianasegura/ERAP_CursoPython/blob/main/Modulo1_b/Imagenes%20Notebooks/matplotlib_14.png?raw=true\" alt=\"descriptiva\" width=\"50%\" height=\"50%\">  \n",
        "</center>\n"
      ]
    },
    {
      "cell_type": "code",
      "execution_count": null,
      "id": "469d157a",
      "metadata": {
        "id": "469d157a"
      },
      "outputs": [],
      "source": []
    },
    {
      "cell_type": "code",
      "execution_count": null,
      "id": "bc18b434",
      "metadata": {
        "id": "bc18b434"
      },
      "outputs": [],
      "source": []
    },
    {
      "cell_type": "code",
      "execution_count": null,
      "id": "c7085121",
      "metadata": {
        "id": "c7085121"
      },
      "outputs": [],
      "source": []
    },
    {
      "cell_type": "markdown",
      "id": "9cbda90d",
      "metadata": {
        "id": "9cbda90d"
      },
      "source": [
        "### Ejercicio 17:\n",
        "- Muestra en una gráfica de dispersión (scatter) la edad de los pasajeros vs el costo de su ticket.\n",
        "\n",
        "<center>\n",
        " <img src=\"https://github.com/ednavivianasegura/ERAP_CursoPython/blob/main/Modulo1_b/Imagenes%20Notebooks/matplotlib_15.png?raw=true\" alt=\"descriptiva\" width=\"50%\" height=\"50%\">  \n",
        "</center>\n",
        "\n"
      ]
    },
    {
      "cell_type": "code",
      "execution_count": null,
      "id": "2196c8c5",
      "metadata": {
        "id": "2196c8c5"
      },
      "outputs": [],
      "source": []
    },
    {
      "cell_type": "code",
      "execution_count": null,
      "id": "3f49f326",
      "metadata": {
        "id": "3f49f326"
      },
      "outputs": [],
      "source": []
    },
    {
      "cell_type": "code",
      "execution_count": null,
      "id": "48d0811e",
      "metadata": {
        "id": "48d0811e"
      },
      "outputs": [],
      "source": []
    },
    {
      "cell_type": "markdown",
      "id": "8a6df1fa",
      "metadata": {
        "id": "8a6df1fa"
      },
      "source": [
        "### Ejercicio 18:\n",
        "- Muestra en una gráfica de dispersión la clase vs el el precio del ticket.\n",
        "\n",
        "<center>\n",
        " <img src=\"https://github.com/ednavivianasegura/ERAP_CursoPython/blob/main/Modulo1_b/Imagenes%20Notebooks/matplotlib_16.png?raw=true\" alt=\"descriptiva\" width=\"50%\" height=\"50%\">  \n",
        "</center>\n",
        "\n"
      ]
    },
    {
      "cell_type": "code",
      "execution_count": null,
      "id": "3197eaff",
      "metadata": {
        "id": "3197eaff"
      },
      "outputs": [],
      "source": []
    },
    {
      "cell_type": "code",
      "execution_count": null,
      "id": "f7d84cc6",
      "metadata": {
        "id": "f7d84cc6"
      },
      "outputs": [],
      "source": []
    },
    {
      "cell_type": "code",
      "execution_count": null,
      "id": "64b0be4e",
      "metadata": {
        "id": "64b0be4e"
      },
      "outputs": [],
      "source": []
    },
    {
      "cell_type": "markdown",
      "id": "ca51b0ab",
      "metadata": {
        "id": "ca51b0ab"
      },
      "source": [
        "### Ejercicio 19:\n",
        "- Muestra en un histograma la edad de los pasajeros que sobrevivieron y la edad de los que no.\n",
        "\n",
        "<center>\n",
        " <img src=\"https://github.com/ednavivianasegura/ERAP_CursoPython/blob/main/Modulo1_b/Imagenes%20Notebooks/matplotlib_17.png?raw=true\" alt=\"descriptiva\" width=\"50%\" height=\"50%\">  \n",
        "</center>\n",
        "\n"
      ]
    },
    {
      "cell_type": "code",
      "execution_count": null,
      "id": "4f552633",
      "metadata": {
        "id": "4f552633"
      },
      "outputs": [],
      "source": []
    },
    {
      "cell_type": "code",
      "execution_count": null,
      "id": "6c46b0b3",
      "metadata": {
        "id": "6c46b0b3"
      },
      "outputs": [],
      "source": []
    },
    {
      "cell_type": "code",
      "execution_count": null,
      "id": "e4bd1f48",
      "metadata": {
        "id": "e4bd1f48"
      },
      "outputs": [],
      "source": []
    },
    {
      "cell_type": "markdown",
      "id": "a38e5e8c",
      "metadata": {
        "id": "a38e5e8c"
      },
      "source": [
        "### Ejercicio 20:\n",
        "- Muestra en un histograma el costo de boleto por clase.\n",
        "\n",
        "<center>\n",
        " <img src=\"https://github.com/ednavivianasegura/ERAP_CursoPython/blob/main/Modulo1_b/Imagenes%20Notebooks/matplotlib_18.png?raw=true\" alt=\"descriptiva\" width=\"50%\" height=\"50%\">  \n",
        "</center>\n",
        "\n",
        "\n"
      ]
    },
    {
      "cell_type": "code",
      "execution_count": null,
      "id": "b69b50e9",
      "metadata": {
        "id": "b69b50e9"
      },
      "outputs": [],
      "source": []
    },
    {
      "cell_type": "code",
      "execution_count": null,
      "id": "1b2a248f",
      "metadata": {
        "id": "1b2a248f"
      },
      "outputs": [],
      "source": []
    },
    {
      "cell_type": "code",
      "execution_count": null,
      "id": "fd1f7538",
      "metadata": {
        "id": "fd1f7538"
      },
      "outputs": [],
      "source": []
    }
  ],
  "metadata": {
    "kernelspec": {
      "display_name": "Python 3 (ipykernel)",
      "language": "python",
      "name": "python3"
    },
    "language_info": {
      "codemirror_mode": {
        "name": "ipython",
        "version": 3
      },
      "file_extension": ".py",
      "mimetype": "text/x-python",
      "name": "python",
      "nbconvert_exporter": "python",
      "pygments_lexer": "ipython3",
      "version": "3.9.12"
    },
    "colab": {
      "provenance": [],
      "include_colab_link": true
    }
  },
  "nbformat": 4,
  "nbformat_minor": 5
}