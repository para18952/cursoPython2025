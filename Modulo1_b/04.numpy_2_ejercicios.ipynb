{
  "cells": [
    {
      "cell_type": "markdown",
      "metadata": {
        "id": "view-in-github",
        "colab_type": "text"
      },
      "source": [
        "<a href=\"https://colab.research.google.com/github/ednavivianasegura/ERAP_CursoPython/blob/main/Modulo1_b/04.numpy_2_ejercicios.ipynb\" target=\"_parent\"><img src=\"https://colab.research.google.com/assets/colab-badge.svg\" alt=\"Open In Colab\"/></a>"
      ]
    },
    {
      "cell_type": "markdown",
      "id": "b87f144d",
      "metadata": {
        "id": "b87f144d"
      },
      "source": [
        "## Ejercicios NumPy 2"
      ]
    },
    {
      "cell_type": "code",
      "execution_count": null,
      "id": "b9d785ce",
      "metadata": {
        "id": "b9d785ce"
      },
      "outputs": [],
      "source": [
        "import numpy as np\n",
        "import datetime"
      ]
    },
    {
      "cell_type": "markdown",
      "id": "dc18e199",
      "metadata": {
        "id": "dc18e199"
      },
      "source": [
        "### Ejercicio 1:\n",
        "- Obten un vector con 12 elementos aleatorios, los primeros 6 elementos deben de ser negativos y los siguientes 6 elementos positivos."
      ]
    },
    {
      "cell_type": "code",
      "execution_count": null,
      "id": "6aabb11a",
      "metadata": {
        "id": "6aabb11a"
      },
      "outputs": [],
      "source": []
    },
    {
      "cell_type": "code",
      "execution_count": null,
      "id": "f7c1bfb3",
      "metadata": {
        "id": "f7c1bfb3"
      },
      "outputs": [],
      "source": []
    },
    {
      "cell_type": "code",
      "execution_count": null,
      "id": "fa4259d7",
      "metadata": {
        "id": "fa4259d7"
      },
      "outputs": [],
      "source": []
    },
    {
      "cell_type": "markdown",
      "id": "e693107b",
      "metadata": {
        "id": "e693107b"
      },
      "source": [
        "### Ejercicio 2:\n",
        "- Obten una matriz con dimensiones igual a (3, 5) con valores flotantes entre 0 y 1 para cada elemento."
      ]
    },
    {
      "cell_type": "code",
      "execution_count": null,
      "id": "8301606f",
      "metadata": {
        "id": "8301606f"
      },
      "outputs": [],
      "source": []
    },
    {
      "cell_type": "code",
      "execution_count": null,
      "id": "ba8da516",
      "metadata": {
        "id": "ba8da516"
      },
      "outputs": [],
      "source": []
    },
    {
      "cell_type": "code",
      "execution_count": null,
      "id": "e46e57df",
      "metadata": {
        "id": "e46e57df"
      },
      "outputs": [],
      "source": []
    },
    {
      "cell_type": "markdown",
      "id": "08fdb77d",
      "metadata": {
        "id": "08fdb77d"
      },
      "source": [
        "### Ejercicio 3:\n",
        "- Obten una matriz con dimensiones igual a (4, 4), cada elemento de la matriz debe de ser un número aleatorio entre 1 y 5."
      ]
    },
    {
      "cell_type": "code",
      "execution_count": null,
      "id": "8bc989b8",
      "metadata": {
        "id": "8bc989b8"
      },
      "outputs": [],
      "source": []
    },
    {
      "cell_type": "code",
      "execution_count": null,
      "id": "b46ba150",
      "metadata": {
        "id": "b46ba150"
      },
      "outputs": [],
      "source": []
    },
    {
      "cell_type": "code",
      "execution_count": null,
      "id": "71e67d3f",
      "metadata": {
        "id": "71e67d3f"
      },
      "outputs": [],
      "source": []
    },
    {
      "cell_type": "markdown",
      "id": "34a1a228",
      "metadata": {
        "id": "34a1a228"
      },
      "source": [
        "### Ejercicio 4:\n",
        "- Obten una matriz de dimensiones (7, 7) de ceros y si la suma de sus indices es par convierte el valor en 1."
      ]
    },
    {
      "cell_type": "code",
      "execution_count": null,
      "id": "bcb07165",
      "metadata": {
        "id": "bcb07165",
        "outputId": "438f902c-e0a0-4bde-bf45-4f1921203329"
      },
      "outputs": [
        {
          "data": {
            "text/plain": [
              "array([[0., 0., 0., 0., 0., 0., 0.],\n",
              "       [0., 0., 0., 0., 0., 0., 0.],\n",
              "       [0., 0., 0., 0., 0., 0., 0.],\n",
              "       [0., 0., 0., 0., 0., 0., 0.],\n",
              "       [0., 0., 0., 0., 0., 0., 0.],\n",
              "       [0., 0., 0., 0., 0., 0., 0.],\n",
              "       [0., 0., 0., 0., 0., 0., 0.]])"
            ]
          },
          "execution_count": 1,
          "metadata": {},
          "output_type": "execute_result"
        }
      ],
      "source": [
        "import numpy as np\n",
        "\n",
        "np.zeros((7, 7))"
      ]
    },
    {
      "cell_type": "code",
      "execution_count": null,
      "id": "d8968068",
      "metadata": {
        "id": "d8968068"
      },
      "outputs": [],
      "source": []
    },
    {
      "cell_type": "code",
      "execution_count": null,
      "id": "a8efa66b",
      "metadata": {
        "id": "a8efa66b"
      },
      "outputs": [],
      "source": []
    },
    {
      "cell_type": "code",
      "execution_count": null,
      "id": "1394367d",
      "metadata": {
        "id": "1394367d"
      },
      "outputs": [],
      "source": [
        "# Después de crear la matriz anterior (matriz) ejecuta esta celda para observar a través de una imagen el resultado.\n",
        "\n",
        "import matplotlib.pyplot as plt\n",
        "\n",
        "plt.figure(figsize = (5, 5))\n",
        "plt.imshow(matriz, cmap = \"gray\")\n",
        "plt.show()"
      ]
    },
    {
      "cell_type": "markdown",
      "id": "f713ac5b",
      "metadata": {
        "id": "f713ac5b"
      },
      "source": [
        "### Ejercicio 5:\n",
        "- Obten la siguiente matriz:\n",
        "\n",
        "<center>\n",
        " <img src=\"https://github.com/ednavivianasegura/ERAP_CursoPython/blob/main/Modulo1_b/Imagenes%20Notebooks/numpy_2.png?raw=true\" alt=\"descriptiva\" width=\"50%\" height=\"50%\">  \n",
        "</center>\n",
        "\n"
      ]
    },
    {
      "cell_type": "code",
      "execution_count": null,
      "id": "2515ea0a",
      "metadata": {
        "id": "2515ea0a"
      },
      "outputs": [],
      "source": []
    },
    {
      "cell_type": "code",
      "execution_count": null,
      "id": "78665e6c",
      "metadata": {
        "id": "78665e6c"
      },
      "outputs": [],
      "source": []
    },
    {
      "cell_type": "code",
      "execution_count": null,
      "id": "a6870fd8",
      "metadata": {
        "id": "a6870fd8"
      },
      "outputs": [],
      "source": []
    },
    {
      "cell_type": "markdown",
      "id": "016f0c96",
      "metadata": {
        "id": "016f0c96"
      },
      "source": [
        "### Ejercicio 6:\n",
        "- Obten la siguiente matriz:\n",
        "\n",
        "<center>\n",
        " <img src=\"https://github.com/ednavivianasegura/ERAP_CursoPython/blob/main/Modulo1_b/Imagenes%20Notebooks/numpy_3.png?raw=true\" alt=\"descriptiva\" width=\"50%\" height=\"50%\">  \n",
        "</center>\n",
        "\n"
      ]
    },
    {
      "cell_type": "code",
      "execution_count": null,
      "id": "2a193f15",
      "metadata": {
        "id": "2a193f15"
      },
      "outputs": [],
      "source": []
    },
    {
      "cell_type": "code",
      "execution_count": null,
      "id": "8f2ec8d0",
      "metadata": {
        "id": "8f2ec8d0"
      },
      "outputs": [],
      "source": []
    },
    {
      "cell_type": "code",
      "execution_count": null,
      "id": "bf058ffc",
      "metadata": {
        "id": "bf058ffc"
      },
      "outputs": [],
      "source": []
    },
    {
      "cell_type": "markdown",
      "id": "cc4cd602",
      "metadata": {
        "id": "cc4cd602"
      },
      "source": [
        "### Ejercicio 7:\n",
        "- Obten una matriz con dimensiones igual a (4, 7), el primer elemento de la matriz debe de ser el día de hoy y para los siguientes elementos los próximos días."
      ]
    },
    {
      "cell_type": "code",
      "execution_count": null,
      "id": "9eecb8ff",
      "metadata": {
        "id": "9eecb8ff"
      },
      "outputs": [],
      "source": []
    },
    {
      "cell_type": "code",
      "execution_count": null,
      "id": "683192b0",
      "metadata": {
        "id": "683192b0"
      },
      "outputs": [],
      "source": []
    },
    {
      "cell_type": "code",
      "execution_count": null,
      "id": "3b5faba9",
      "metadata": {
        "id": "3b5faba9"
      },
      "outputs": [],
      "source": []
    },
    {
      "cell_type": "markdown",
      "id": "57672473",
      "metadata": {
        "id": "57672473"
      },
      "source": [
        "### Ejercicio 8:\n",
        "- Repite el ejercicio anterior pero el día de hoy debe de iniciar en la celda [0][4] y para los siguientes elementos los próximos días. Respecto a los elementos [0][0:4], agrega los días anteriores al día de hoy."
      ]
    },
    {
      "cell_type": "code",
      "execution_count": null,
      "id": "2a8e5056",
      "metadata": {
        "id": "2a8e5056"
      },
      "outputs": [],
      "source": []
    },
    {
      "cell_type": "code",
      "execution_count": null,
      "id": "fa782469",
      "metadata": {
        "id": "fa782469"
      },
      "outputs": [],
      "source": []
    },
    {
      "cell_type": "code",
      "execution_count": null,
      "id": "83252081",
      "metadata": {
        "id": "83252081"
      },
      "outputs": [],
      "source": []
    },
    {
      "cell_type": "markdown",
      "id": "43e06b36",
      "metadata": {
        "id": "43e06b36"
      },
      "source": [
        "### Ejercicio 9:\n",
        "- Obten el calendario de julio como se muestra en la imagen:\n",
        "\n",
        "<center>\n",
        " <img src=\"https://github.com/ednavivianasegura/ERAP_CursoPython/blob/main/Modulo1_b/Imagenes%20Notebooks/numpy_4.png?raw=true\" alt=\"descriptiva\" width=\"50%\" height=\"50%\">  \n",
        "</center>\n",
        "\n",
        "\n"
      ]
    },
    {
      "cell_type": "code",
      "execution_count": null,
      "id": "cbade4cb",
      "metadata": {
        "id": "cbade4cb"
      },
      "outputs": [],
      "source": []
    },
    {
      "cell_type": "code",
      "execution_count": null,
      "id": "1dd52f12",
      "metadata": {
        "id": "1dd52f12"
      },
      "outputs": [],
      "source": []
    },
    {
      "cell_type": "code",
      "execution_count": null,
      "id": "330c4e0b",
      "metadata": {
        "id": "330c4e0b"
      },
      "outputs": [],
      "source": []
    },
    {
      "cell_type": "markdown",
      "id": "ee0c773e",
      "metadata": {
        "id": "ee0c773e"
      },
      "source": [
        "### Ejercicio 10:\n",
        "- Obten una matriz con el calendario de junio, julio y agosto, como se muestra en la imagen:\n",
        "\n",
        "<center>\n",
        " <img src=\"https://github.com/ednavivianasegura/ERAP_CursoPython/blob/main/Modulo1_b/Imagenes%20Notebooks/numpy_5.png?raw=true\" alt=\"descriptiva\" width=\"50%\" height=\"50%\">  \n",
        "</center>\n",
        "\n"
      ]
    },
    {
      "cell_type": "code",
      "execution_count": null,
      "id": "c7053854",
      "metadata": {
        "id": "c7053854"
      },
      "outputs": [],
      "source": []
    },
    {
      "cell_type": "code",
      "execution_count": null,
      "id": "44d70499",
      "metadata": {
        "id": "44d70499"
      },
      "outputs": [],
      "source": []
    },
    {
      "cell_type": "code",
      "execution_count": null,
      "id": "072240ca",
      "metadata": {
        "id": "072240ca"
      },
      "outputs": [],
      "source": []
    },
    {
      "cell_type": "markdown",
      "id": "5b8a6c12",
      "metadata": {
        "id": "5b8a6c12"
      },
      "source": [
        "### Ejercicio 11:\n",
        "- A partir de la matriz anterior obten la matriz de junio, julio y agosto haciendo slicing. Guarda cada mes en una variable."
      ]
    },
    {
      "cell_type": "code",
      "execution_count": null,
      "id": "507c6050",
      "metadata": {
        "id": "507c6050"
      },
      "outputs": [],
      "source": []
    },
    {
      "cell_type": "code",
      "execution_count": null,
      "id": "b2c2d876",
      "metadata": {
        "id": "b2c2d876"
      },
      "outputs": [],
      "source": []
    },
    {
      "cell_type": "code",
      "execution_count": null,
      "id": "f1f75763",
      "metadata": {
        "id": "f1f75763"
      },
      "outputs": [],
      "source": []
    },
    {
      "cell_type": "markdown",
      "id": "cd718614",
      "metadata": {
        "id": "cd718614"
      },
      "source": [
        "### Ejercicio 12:\n",
        "- Suma las matrices de junio y julio, aplica la transpuesta, convierte la matriz en un vector, obten la suma acumulada del vector y divide todos los elementos entre el valor máximo del vector."
      ]
    },
    {
      "cell_type": "code",
      "execution_count": null,
      "id": "8c0d365a",
      "metadata": {
        "id": "8c0d365a"
      },
      "outputs": [],
      "source": []
    },
    {
      "cell_type": "code",
      "execution_count": null,
      "id": "ecdbb755",
      "metadata": {
        "id": "ecdbb755"
      },
      "outputs": [],
      "source": []
    },
    {
      "cell_type": "code",
      "execution_count": null,
      "id": "05f28219",
      "metadata": {
        "id": "05f28219"
      },
      "outputs": [],
      "source": []
    },
    {
      "cell_type": "markdown",
      "id": "0279df62",
      "metadata": {
        "id": "0279df62"
      },
      "source": [
        "### Ejercicio 13:\n",
        "- Escribe un código que se pueda utilizar para generar este tipo de matrices automaticamente y aumenta la dimension de la matriz para observar los resultados como en la figura.\n",
        "\n",
        "<center>\n",
        " <img src=\"https://github.com/ednavivianasegura/ERAP_CursoPython/blob/main/Modulo1_b/Imagenes%20Notebooks/numpy_6.png?raw=true\" alt=\"descriptiva\" width=\"50%\" height=\"50%\">  \n",
        "</center>\n",
        "\n"
      ]
    },
    {
      "cell_type": "markdown",
      "id": "688a7a47",
      "metadata": {
        "id": "688a7a47"
      },
      "source": [
        "<center>\n",
        " <img src=\"https://github.com/ednavivianasegura/ERAP_CursoPython/blob/main/Modulo1_b/Imagenes%20Notebooks/numpy_7.png?raw=true\" alt=\"descriptiva\" width=\"50%\" height=\"50%\">  \n",
        "</center>\n",
        "\n"
      ]
    },
    {
      "cell_type": "code",
      "execution_count": null,
      "id": "3122e1b5",
      "metadata": {
        "id": "3122e1b5"
      },
      "outputs": [],
      "source": []
    },
    {
      "cell_type": "code",
      "execution_count": null,
      "id": "6fc2e07a",
      "metadata": {
        "id": "6fc2e07a"
      },
      "outputs": [],
      "source": []
    },
    {
      "cell_type": "code",
      "execution_count": null,
      "id": "8118ec25",
      "metadata": {
        "id": "8118ec25"
      },
      "outputs": [],
      "source": []
    }
  ],
  "metadata": {
    "kernelspec": {
      "display_name": "Python 3 (ipykernel)",
      "language": "python",
      "name": "python3"
    },
    "language_info": {
      "codemirror_mode": {
        "name": "ipython",
        "version": 3
      },
      "file_extension": ".py",
      "mimetype": "text/x-python",
      "name": "python",
      "nbconvert_exporter": "python",
      "pygments_lexer": "ipython3",
      "version": "3.9.12"
    },
    "colab": {
      "provenance": [],
      "include_colab_link": true
    }
  },
  "nbformat": 4,
  "nbformat_minor": 5
}