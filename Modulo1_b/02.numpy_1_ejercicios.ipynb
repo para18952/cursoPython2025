{
  "cells": [
    {
      "cell_type": "markdown",
      "metadata": {
        "id": "view-in-github",
        "colab_type": "text"
      },
      "source": [
        "<a href=\"https://colab.research.google.com/github/para18952/cursoPython2025/blob/dia_2/Modulo1_b/02.numpy_1_ejercicios.ipynb\" target=\"_parent\"><img src=\"https://colab.research.google.com/assets/colab-badge.svg\" alt=\"Open In Colab\"/></a>"
      ]
    },
    {
      "cell_type": "markdown",
      "id": "94338a65",
      "metadata": {
        "id": "94338a65"
      },
      "source": [
        "## Ejercicios NumPy 1"
      ]
    },
    {
      "cell_type": "code",
      "execution_count": 1,
      "id": "c5e694ac",
      "metadata": {
        "id": "c5e694ac"
      },
      "outputs": [],
      "source": [
        "import numpy as np"
      ]
    },
    {
      "cell_type": "markdown",
      "id": "fa919e9a",
      "metadata": {
        "id": "fa919e9a"
      },
      "source": [
        "### Ejercicio 1:\n",
        "- Crea un vector con 10 elementos pares."
      ]
    },
    {
      "cell_type": "code",
      "execution_count": 2,
      "id": "e37dc4bb",
      "metadata": {
        "id": "e37dc4bb",
        "outputId": "4b91e439-835a-4905-953e-89460955e063",
        "colab": {
          "base_uri": "https://localhost:8080/"
        }
      },
      "outputs": [
        {
          "output_type": "stream",
          "name": "stdout",
          "text": [
            "[ 2  4  6  8 10 12 14 16 18 20]\n"
          ]
        }
      ],
      "source": [
        "# Crea un vector con 10 elementos pares.\n",
        "vector_pares = np.arange(2, 21, 2)\n",
        "print(vector_pares)"
      ]
    },
    {
      "cell_type": "markdown",
      "id": "83420425",
      "metadata": {
        "id": "83420425"
      },
      "source": [
        "### Ejercicio 2:\n",
        "- Obten el número de dimensiones y el tamaño del vector anterior."
      ]
    },
    {
      "cell_type": "code",
      "execution_count": 10,
      "id": "3216bb58",
      "metadata": {
        "id": "3216bb58",
        "outputId": "cfd00a11-b393-4978-eb57-d177fda2bb4a",
        "colab": {
          "base_uri": "https://localhost:8080/"
        }
      },
      "outputs": [
        {
          "output_type": "stream",
          "name": "stdout",
          "text": [
            "Tamaño:  10\n"
          ]
        }
      ],
      "source": [
        "tam = vector_pares.shape\n",
        "print(\"Tamaño: \", tam[0])"
      ]
    },
    {
      "cell_type": "code",
      "execution_count": 6,
      "id": "ef81c396",
      "metadata": {
        "id": "ef81c396",
        "outputId": "946eae09-5931-44b8-c6cd-f796ed5fe6ef",
        "colab": {
          "base_uri": "https://localhost:8080/"
        }
      },
      "outputs": [
        {
          "output_type": "stream",
          "name": "stdout",
          "text": [
            "Numero de dimensiones:  1\n"
          ]
        }
      ],
      "source": [
        "numDim = vector_pares.ndim\n",
        "print(\"Numero de dimensiones: \", numDim)"
      ]
    },
    {
      "cell_type": "code",
      "execution_count": null,
      "id": "cb679748",
      "metadata": {
        "id": "cb679748"
      },
      "outputs": [],
      "source": []
    },
    {
      "cell_type": "markdown",
      "id": "50b94f88",
      "metadata": {
        "id": "50b94f88"
      },
      "source": [
        "### Ejercicio 3:\n",
        "- Crea una lista con 5 números pares y otra lista con 5 números impares utilizando **`list comprehension`** y conviertelos en una matriz de (5, 2) dimensiones."
      ]
    },
    {
      "cell_type": "code",
      "execution_count": 14,
      "id": "5f8738d9",
      "metadata": {
        "id": "5f8738d9",
        "outputId": "e18399c6-1705-4076-d57a-7d93c8940661",
        "colab": {
          "base_uri": "https://localhost:8080/"
        }
      },
      "outputs": [
        {
          "output_type": "stream",
          "name": "stdout",
          "text": [
            "[2, 4, 6, 8, 10]\n",
            "[1, 3, 5, 7, 9]\n",
            "[[ 2  4  6  8 10]\n",
            " [ 1  3  5  7  9]]\n"
          ]
        }
      ],
      "source": [
        "listaPares = [i for i in range(2, 11, 2)]\n",
        "listaImpares = [i for i in range(1, 10, 2)]\n",
        "print(listaPares)\n",
        "print(listaImpares)\n",
        "matriz = np.array([listaPares, listaImpares])\n",
        "print(matriz)"
      ]
    },
    {
      "cell_type": "code",
      "execution_count": 12,
      "id": "a46adfc2",
      "metadata": {
        "id": "a46adfc2",
        "outputId": "872497ee-7e17-4077-bc62-d5cd5ff6970f",
        "colab": {
          "base_uri": "https://localhost:8080/"
        }
      },
      "outputs": [
        {
          "output_type": "stream",
          "name": "stdout",
          "text": [
            "[[ 2  4  6  8 10]\n",
            " [ 1  3  5  7  9]]\n"
          ]
        }
      ],
      "source": [
        "listaPares =[2, 4, 6, 8, 10]\n",
        "listaImpares = [1, 3, 5, 7, 9]\n",
        "matriz = np.array([listaPares, listaImpares])\n",
        "print(matriz)"
      ]
    },
    {
      "cell_type": "markdown",
      "id": "5a6d6f9b",
      "metadata": {
        "id": "5a6d6f9b"
      },
      "source": [
        "### Ejercicio 4:\n",
        "- Obten el tipo de datos de la matriz anterior."
      ]
    },
    {
      "cell_type": "code",
      "execution_count": 15,
      "id": "39f29d4f",
      "metadata": {
        "id": "39f29d4f",
        "outputId": "0c624e71-00d7-4ed8-ebc2-7b2a83f3e563",
        "colab": {
          "base_uri": "https://localhost:8080/"
        }
      },
      "outputs": [
        {
          "output_type": "stream",
          "name": "stdout",
          "text": [
            "int64\n"
          ]
        }
      ],
      "source": [
        "tipo = matriz.dtype\n",
        "print(tipo)"
      ]
    },
    {
      "cell_type": "markdown",
      "id": "f65930e0",
      "metadata": {
        "id": "f65930e0"
      },
      "source": [
        "### Ejercicio 5:\n",
        "- Crea una matriz de ceros de dimensión (4, 4) y remplaza los elementos de la diagonal principal por los números 5."
      ]
    },
    {
      "cell_type": "code",
      "execution_count": 18,
      "id": "b68dd617",
      "metadata": {
        "id": "b68dd617",
        "outputId": "dcbdb09e-c478-4f63-9abd-5fea179095f4",
        "colab": {
          "base_uri": "https://localhost:8080/"
        }
      },
      "outputs": [
        {
          "output_type": "stream",
          "name": "stdout",
          "text": [
            "[[5. 0. 0. 0.]\n",
            " [0. 5. 0. 0.]\n",
            " [0. 0. 5. 0.]\n",
            " [0. 0. 0. 5.]]\n"
          ]
        }
      ],
      "source": [
        "matrizCeros4Dim = np.zeros((4, 4))\n",
        "#print(matrizCeros4Dim)\n",
        "\n",
        "#Poner la diagonal principal con 5\n",
        "np.fill_diagonal(matrizCeros4Dim, 5)\n",
        "print(matrizCeros4Dim)"
      ]
    },
    {
      "cell_type": "markdown",
      "id": "ff424246",
      "metadata": {
        "id": "ff424246"
      },
      "source": [
        "### Ejercicio 6:\n",
        "- Utiliza la función **`np.linspace()`** para crear un vector con 10 elementos entre los números: -5 y 5."
      ]
    },
    {
      "cell_type": "code",
      "execution_count": 19,
      "id": "84675849",
      "metadata": {
        "id": "84675849",
        "outputId": "bd992474-1762-432d-ff0a-465d2b4d28c9",
        "colab": {
          "base_uri": "https://localhost:8080/"
        }
      },
      "outputs": [
        {
          "output_type": "stream",
          "name": "stdout",
          "text": [
            "[-5.         -3.88888889 -2.77777778 -1.66666667 -0.55555556  0.55555556\n",
            "  1.66666667  2.77777778  3.88888889  5.        ]\n"
          ]
        }
      ],
      "source": [
        "#función np.linspace() para crear un vector con 10 elementos entre los números: -5 y 5.\n",
        "vector = np.linspace(-5, 5, 10)\n",
        "print(vector)"
      ]
    },
    {
      "cell_type": "markdown",
      "id": "d4d2232c",
      "metadata": {
        "id": "d4d2232c"
      },
      "source": [
        "### Ejercicio 7:\n",
        "- Crea una matriz vacía de tamaño (3, 6) con elementos del tipo flotante."
      ]
    },
    {
      "cell_type": "code",
      "execution_count": 26,
      "id": "15f8820b",
      "metadata": {
        "id": "15f8820b",
        "outputId": "9423572e-3068-4edc-d8e1-cffe4290c635",
        "colab": {
          "base_uri": "https://localhost:8080/"
        }
      },
      "outputs": [
        {
          "output_type": "stream",
          "name": "stdout",
          "text": [
            "[[5. 0. 0. 0.]\n",
            " [0. 5. 0. 0.]\n",
            " [0. 0. 5. 0.]\n",
            " [0. 0. 0. 5.]]\n"
          ]
        }
      ],
      "source": [
        "# matriz vacía de tamaño (3, 6) con elementos del tipo flotante.\n",
        "matrizVacia = np.empty((3, 6), dtype=float)\n",
        "print(matrizVacia)"
      ]
    },
    {
      "cell_type": "markdown",
      "id": "1239053e",
      "metadata": {
        "id": "1239053e"
      },
      "source": [
        "### Ejercicio 8:\n",
        "- Utiliza la matriz anterior para llenarla con números primos (investiga en internet una función que genere números primos e implementala)."
      ]
    },
    {
      "cell_type": "code",
      "execution_count": 34,
      "id": "cfb83730",
      "metadata": {
        "id": "cfb83730",
        "outputId": "f95dcaef-3f9b-4fe3-cb22-4ff47a15c37e",
        "colab": {
          "base_uri": "https://localhost:8080/"
        }
      },
      "outputs": [
        {
          "output_type": "stream",
          "name": "stdout",
          "text": [
            "[[ 2  3  5  7 11 13]\n",
            " [17 19 23 29 31 37]\n",
            " [41 43 47 53 59 61]]\n"
          ]
        }
      ],
      "source": [
        "# función generarNumerosPrimos\n",
        "def generarNumerosPrimos(n):\n",
        "  primos = [2, 3, 5, 7, 11, 13, 17, 19, 23, 29, 31, 37, 41, 43, 47, 53, 59, 61, 67, 71, 73, 79, 83, 89, 97, 101, 103, 107, 109, 113, 127, 131, 137, 139, 149, 151, 157, 163, 167, 173, 179, 181, 191, 193, 197, 199, 211, 223, 227, 229, 233, 239, 241, 251, 257, 263, 269, 271, 277, 281, 283, 293, 307, 311, 313, 317, 331, 337, 347, 349, 353, 359, 367, 373, 379, 383, 389, 397, 401, 409, 419, 421, 431, 433, 439, 443, 449, 457, 461, 463, 467, 479, 487, 491, 499, 503, 509, 521, 523, 541, 547, 557, 563, 569, 571, 577, 587, 593, 599, 601, 607, 613, 617, 619, 631, 641, 643, 647, 653]\n",
        "  #print(\"Número de primos: \", len(primos))\n",
        "  if n <= 0:\n",
        "    return []\n",
        "  elif n <= 119:\n",
        "    return primos[:n]\n",
        "  else:\n",
        "    return []\n",
        "\n",
        "# Convertir matriz anterior en matriz de una dimension\n",
        "matrizVacia = generarNumerosPrimos(18)\n",
        "\n",
        "#Convertir lista en matriz\n",
        "matrizVacia = np.array(matrizVacia)\n",
        "matrizVacia = matrizVacia.reshape(3, 6)\n",
        "print(matrizVacia)\n"
      ]
    },
    {
      "cell_type": "code",
      "execution_count": null,
      "id": "0b816486",
      "metadata": {
        "id": "0b816486"
      },
      "outputs": [],
      "source": []
    },
    {
      "cell_type": "code",
      "execution_count": null,
      "id": "038eb273",
      "metadata": {
        "id": "038eb273"
      },
      "outputs": [],
      "source": []
    },
    {
      "cell_type": "markdown",
      "id": "a92d1972",
      "metadata": {
        "id": "a92d1972"
      },
      "source": [
        "### Ejercicio 9:\n",
        "- Reemplaza los números que estan dentro de un circulo por un 99 utilizando slicing.\n",
        "<center>\n",
        " <img src=\"https://github.com/ednavivianasegura/ERAP_CursoPython/blob/main/Modulo1_b/Imagenes%20Notebooks/numpy_1.png?raw=true\" alt=\"descriptiva\" width=\"50%\" height=\"50%\">  \n",
        "</center>\n",
        "\n",
        "\n"
      ]
    },
    {
      "cell_type": "code",
      "execution_count": null,
      "id": "ed329abf",
      "metadata": {
        "id": "ed329abf"
      },
      "outputs": [],
      "source": []
    },
    {
      "cell_type": "code",
      "execution_count": null,
      "id": "c05f196c",
      "metadata": {
        "id": "c05f196c"
      },
      "outputs": [],
      "source": []
    },
    {
      "cell_type": "code",
      "execution_count": null,
      "id": "d148695c",
      "metadata": {
        "id": "d148695c"
      },
      "outputs": [],
      "source": []
    },
    {
      "cell_type": "markdown",
      "id": "817ee31c",
      "metadata": {
        "id": "817ee31c"
      },
      "source": [
        "### Ejercicio 10:\n",
        "- Obten la primera y tercera fila de la matriz."
      ]
    },
    {
      "cell_type": "code",
      "execution_count": null,
      "id": "0a1496e8",
      "metadata": {
        "id": "0a1496e8"
      },
      "outputs": [],
      "source": []
    },
    {
      "cell_type": "code",
      "execution_count": null,
      "id": "6aee8f31",
      "metadata": {
        "id": "6aee8f31"
      },
      "outputs": [],
      "source": []
    },
    {
      "cell_type": "code",
      "execution_count": null,
      "id": "c3761ae2",
      "metadata": {
        "id": "c3761ae2"
      },
      "outputs": [],
      "source": []
    },
    {
      "cell_type": "markdown",
      "id": "a4abb3c0",
      "metadata": {
        "id": "a4abb3c0"
      },
      "source": [
        "### Ejercico 11:\n",
        "- Obten la tercera columna de la matriz."
      ]
    },
    {
      "cell_type": "code",
      "execution_count": null,
      "id": "047311f5",
      "metadata": {
        "id": "047311f5"
      },
      "outputs": [],
      "source": []
    },
    {
      "cell_type": "code",
      "execution_count": null,
      "id": "b1368522",
      "metadata": {
        "id": "b1368522"
      },
      "outputs": [],
      "source": []
    },
    {
      "cell_type": "code",
      "execution_count": null,
      "id": "19aa1a30",
      "metadata": {
        "id": "19aa1a30"
      },
      "outputs": [],
      "source": []
    },
    {
      "cell_type": "markdown",
      "id": "85659833",
      "metadata": {
        "id": "85659833"
      },
      "source": [
        "### Ejercicio 12:\n",
        "- Obtener la segunda y tercera columna de la matriz."
      ]
    },
    {
      "cell_type": "code",
      "execution_count": null,
      "id": "f9f72826",
      "metadata": {
        "id": "f9f72826"
      },
      "outputs": [],
      "source": []
    },
    {
      "cell_type": "code",
      "execution_count": null,
      "id": "72247f04",
      "metadata": {
        "id": "72247f04"
      },
      "outputs": [],
      "source": []
    },
    {
      "cell_type": "code",
      "execution_count": null,
      "id": "3de230f8",
      "metadata": {
        "id": "3de230f8"
      },
      "outputs": [],
      "source": []
    },
    {
      "cell_type": "markdown",
      "id": "3a118c9a",
      "metadata": {
        "id": "3a118c9a"
      },
      "source": [
        "### Ejercicio 13:\n",
        "- Obten una submatriz con los 4 números del centro."
      ]
    },
    {
      "cell_type": "code",
      "execution_count": null,
      "id": "6efd36bc",
      "metadata": {
        "id": "6efd36bc"
      },
      "outputs": [],
      "source": []
    },
    {
      "cell_type": "code",
      "execution_count": null,
      "id": "15b53998",
      "metadata": {
        "id": "15b53998"
      },
      "outputs": [],
      "source": []
    },
    {
      "cell_type": "code",
      "execution_count": null,
      "id": "197192ee",
      "metadata": {
        "id": "197192ee"
      },
      "outputs": [],
      "source": []
    },
    {
      "cell_type": "markdown",
      "id": "270239a7",
      "metadata": {
        "id": "270239a7"
      },
      "source": [
        "### Ejercicio 14:\n",
        "- Aplica la función **`np.flatten()`** a la matriz anterior para obtener un vector."
      ]
    },
    {
      "cell_type": "code",
      "execution_count": null,
      "id": "f9d01c3b",
      "metadata": {
        "id": "f9d01c3b"
      },
      "outputs": [],
      "source": []
    },
    {
      "cell_type": "code",
      "execution_count": null,
      "id": "7e33d442",
      "metadata": {
        "id": "7e33d442"
      },
      "outputs": [],
      "source": []
    },
    {
      "cell_type": "code",
      "execution_count": null,
      "id": "c459d98f",
      "metadata": {
        "id": "c459d98f"
      },
      "outputs": [],
      "source": []
    },
    {
      "cell_type": "markdown",
      "id": "aa26d703",
      "metadata": {
        "id": "aa26d703"
      },
      "source": [
        "### Ejercicio 15:\n",
        "- Aplica el método **`.reshape()`** al vector anterior para obtener una matriz de (1, 4) dimensiones."
      ]
    },
    {
      "cell_type": "code",
      "execution_count": null,
      "id": "8e045ee7",
      "metadata": {
        "id": "8e045ee7"
      },
      "outputs": [],
      "source": []
    },
    {
      "cell_type": "code",
      "execution_count": null,
      "id": "78df5ad8",
      "metadata": {
        "id": "78df5ad8"
      },
      "outputs": [],
      "source": []
    },
    {
      "cell_type": "code",
      "execution_count": null,
      "id": "0529314d",
      "metadata": {
        "id": "0529314d"
      },
      "outputs": [],
      "source": []
    },
    {
      "cell_type": "markdown",
      "id": "f61d6d34",
      "metadata": {
        "id": "f61d6d34"
      },
      "source": [
        "### Ejercicio 16:\n",
        "- Crea dos matrices de dimensión (4, 4) con números aleatorios y concatenalas verticalmente."
      ]
    },
    {
      "cell_type": "code",
      "execution_count": null,
      "id": "1dd66c12",
      "metadata": {
        "id": "1dd66c12"
      },
      "outputs": [],
      "source": []
    },
    {
      "cell_type": "code",
      "execution_count": null,
      "id": "4ca5da60",
      "metadata": {
        "id": "4ca5da60"
      },
      "outputs": [],
      "source": []
    },
    {
      "cell_type": "code",
      "execution_count": null,
      "id": "6d5150b4",
      "metadata": {
        "id": "6d5150b4"
      },
      "outputs": [],
      "source": []
    }
  ],
  "metadata": {
    "kernelspec": {
      "display_name": "Python 3 (ipykernel)",
      "language": "python",
      "name": "python3"
    },
    "language_info": {
      "codemirror_mode": {
        "name": "ipython",
        "version": 3
      },
      "file_extension": ".py",
      "mimetype": "text/x-python",
      "name": "python",
      "nbconvert_exporter": "python",
      "pygments_lexer": "ipython3",
      "version": "3.9.12"
    },
    "colab": {
      "provenance": [],
      "include_colab_link": true
    }
  },
  "nbformat": 4,
  "nbformat_minor": 5
}