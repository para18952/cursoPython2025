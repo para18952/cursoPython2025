{
  "cells": [
    {
      "cell_type": "markdown",
      "metadata": {
        "id": "view-in-github",
        "colab_type": "text"
      },
      "source": [
        "<a href=\"https://colab.research.google.com/github/ednavivianasegura/ERAP_CursoPython/blob/main/Modulo1_b/02.numpy_1_ejercicios.ipynb\" target=\"_parent\"><img src=\"https://colab.research.google.com/assets/colab-badge.svg\" alt=\"Open In Colab\"/></a>"
      ]
    },
    {
      "cell_type": "markdown",
      "id": "94338a65",
      "metadata": {
        "id": "94338a65"
      },
      "source": [
        "## Ejercicios NumPy 1"
      ]
    },
    {
      "cell_type": "code",
      "execution_count": null,
      "id": "c5e694ac",
      "metadata": {
        "id": "c5e694ac"
      },
      "outputs": [],
      "source": [
        "import numpy as np"
      ]
    },
    {
      "cell_type": "markdown",
      "id": "fa919e9a",
      "metadata": {
        "id": "fa919e9a"
      },
      "source": [
        "### Ejercicio 1:\n",
        "- Crea un vector con 10 elementos pares."
      ]
    },
    {
      "cell_type": "code",
      "execution_count": null,
      "id": "12914c1b",
      "metadata": {
        "id": "12914c1b"
      },
      "outputs": [],
      "source": []
    },
    {
      "cell_type": "code",
      "execution_count": null,
      "id": "dec735d3",
      "metadata": {
        "id": "dec735d3"
      },
      "outputs": [],
      "source": []
    },
    {
      "cell_type": "code",
      "execution_count": null,
      "id": "e37dc4bb",
      "metadata": {
        "id": "e37dc4bb"
      },
      "outputs": [],
      "source": []
    },
    {
      "cell_type": "markdown",
      "id": "83420425",
      "metadata": {
        "id": "83420425"
      },
      "source": [
        "### Ejercicio 2:\n",
        "- Obten el número de dimensiones y el tamaño del vector anterior."
      ]
    },
    {
      "cell_type": "code",
      "execution_count": null,
      "id": "3216bb58",
      "metadata": {
        "id": "3216bb58"
      },
      "outputs": [],
      "source": []
    },
    {
      "cell_type": "code",
      "execution_count": null,
      "id": "ef81c396",
      "metadata": {
        "id": "ef81c396"
      },
      "outputs": [],
      "source": []
    },
    {
      "cell_type": "code",
      "execution_count": null,
      "id": "cb679748",
      "metadata": {
        "id": "cb679748"
      },
      "outputs": [],
      "source": []
    },
    {
      "cell_type": "markdown",
      "id": "50b94f88",
      "metadata": {
        "id": "50b94f88"
      },
      "source": [
        "### Ejercicio 3:\n",
        "- Crea una lista con 5 números pares y otra lista con 5 números impares utilizando **`list comprehension`** y conviertelos en una matriz de (5, 2) dimensiones."
      ]
    },
    {
      "cell_type": "code",
      "execution_count": null,
      "id": "5f8738d9",
      "metadata": {
        "id": "5f8738d9"
      },
      "outputs": [],
      "source": []
    },
    {
      "cell_type": "code",
      "execution_count": null,
      "id": "a46adfc2",
      "metadata": {
        "id": "a46adfc2"
      },
      "outputs": [],
      "source": []
    },
    {
      "cell_type": "code",
      "execution_count": null,
      "id": "52ab96be",
      "metadata": {
        "id": "52ab96be"
      },
      "outputs": [],
      "source": []
    },
    {
      "cell_type": "markdown",
      "id": "5a6d6f9b",
      "metadata": {
        "id": "5a6d6f9b"
      },
      "source": [
        "### Ejercicio 4:\n",
        "- Obten el tipo de datos de la matriz anterior."
      ]
    },
    {
      "cell_type": "code",
      "execution_count": null,
      "id": "39f29d4f",
      "metadata": {
        "id": "39f29d4f"
      },
      "outputs": [],
      "source": []
    },
    {
      "cell_type": "code",
      "execution_count": null,
      "id": "dcb2ff00",
      "metadata": {
        "id": "dcb2ff00"
      },
      "outputs": [],
      "source": []
    },
    {
      "cell_type": "code",
      "execution_count": null,
      "id": "6ae5b8ab",
      "metadata": {
        "id": "6ae5b8ab"
      },
      "outputs": [],
      "source": []
    },
    {
      "cell_type": "markdown",
      "id": "f65930e0",
      "metadata": {
        "id": "f65930e0"
      },
      "source": [
        "### Ejercicio 5:\n",
        "- Crea una matriz de ceros de dimensión (4, 4) y remplaza los elementos de la diagonal principal por los números 5."
      ]
    },
    {
      "cell_type": "code",
      "execution_count": null,
      "id": "b68dd617",
      "metadata": {
        "id": "b68dd617"
      },
      "outputs": [],
      "source": []
    },
    {
      "cell_type": "code",
      "execution_count": null,
      "id": "734d9f67",
      "metadata": {
        "id": "734d9f67"
      },
      "outputs": [],
      "source": []
    },
    {
      "cell_type": "code",
      "execution_count": null,
      "id": "96d7b73d",
      "metadata": {
        "id": "96d7b73d"
      },
      "outputs": [],
      "source": []
    },
    {
      "cell_type": "markdown",
      "id": "ff424246",
      "metadata": {
        "id": "ff424246"
      },
      "source": [
        "### Ejercicio 6:\n",
        "- Utiliza la función **`np.linspace()`** para crear un vector con 10 elementos entre los números: -5 y 5."
      ]
    },
    {
      "cell_type": "code",
      "execution_count": null,
      "id": "84675849",
      "metadata": {
        "id": "84675849"
      },
      "outputs": [],
      "source": []
    },
    {
      "cell_type": "code",
      "execution_count": null,
      "id": "53aedee4",
      "metadata": {
        "id": "53aedee4"
      },
      "outputs": [],
      "source": []
    },
    {
      "cell_type": "code",
      "execution_count": null,
      "id": "d39256a3",
      "metadata": {
        "id": "d39256a3"
      },
      "outputs": [],
      "source": []
    },
    {
      "cell_type": "markdown",
      "id": "d4d2232c",
      "metadata": {
        "id": "d4d2232c"
      },
      "source": [
        "### Ejercicio 7:\n",
        "- Crea una matriz vacía de tamaño (3, 6) con elementos del tipo flotante."
      ]
    },
    {
      "cell_type": "code",
      "execution_count": null,
      "id": "15f8820b",
      "metadata": {
        "id": "15f8820b"
      },
      "outputs": [],
      "source": []
    },
    {
      "cell_type": "code",
      "execution_count": null,
      "id": "79c50a7d",
      "metadata": {
        "id": "79c50a7d"
      },
      "outputs": [],
      "source": []
    },
    {
      "cell_type": "code",
      "execution_count": null,
      "id": "531685ae",
      "metadata": {
        "id": "531685ae"
      },
      "outputs": [],
      "source": []
    },
    {
      "cell_type": "markdown",
      "id": "1239053e",
      "metadata": {
        "id": "1239053e"
      },
      "source": [
        "### Ejercicio 8:\n",
        "- Utiliza la matriz anterior para llenarla con números primos (investiga en internet una función que genere números primos e implementala)."
      ]
    },
    {
      "cell_type": "code",
      "execution_count": null,
      "id": "cfb83730",
      "metadata": {
        "id": "cfb83730"
      },
      "outputs": [],
      "source": []
    },
    {
      "cell_type": "code",
      "execution_count": null,
      "id": "0b816486",
      "metadata": {
        "id": "0b816486"
      },
      "outputs": [],
      "source": []
    },
    {
      "cell_type": "code",
      "execution_count": null,
      "id": "038eb273",
      "metadata": {
        "id": "038eb273"
      },
      "outputs": [],
      "source": []
    },
    {
      "cell_type": "markdown",
      "id": "a92d1972",
      "metadata": {
        "id": "a92d1972"
      },
      "source": [
        "### Ejercicio 9:\n",
        "- Reemplaza los números que estan dentro de un circulo por un 99 utilizando slicing.\n",
        "<center>\n",
        " <img src=\"https://github.com/ednavivianasegura/ERAP_CursoPython/blob/main/Modulo1_b/Imagenes%20Notebooks/numpy_1.png?raw=true\" alt=\"descriptiva\" width=\"50%\" height=\"50%\">  \n",
        "</center>\n",
        "\n",
        "\n"
      ]
    },
    {
      "cell_type": "code",
      "execution_count": null,
      "id": "ed329abf",
      "metadata": {
        "id": "ed329abf"
      },
      "outputs": [],
      "source": []
    },
    {
      "cell_type": "code",
      "execution_count": null,
      "id": "c05f196c",
      "metadata": {
        "id": "c05f196c"
      },
      "outputs": [],
      "source": []
    },
    {
      "cell_type": "code",
      "execution_count": null,
      "id": "d148695c",
      "metadata": {
        "id": "d148695c"
      },
      "outputs": [],
      "source": []
    },
    {
      "cell_type": "markdown",
      "id": "817ee31c",
      "metadata": {
        "id": "817ee31c"
      },
      "source": [
        "### Ejercicio 10:\n",
        "- Obten la primera y tercera fila de la matriz."
      ]
    },
    {
      "cell_type": "code",
      "execution_count": null,
      "id": "0a1496e8",
      "metadata": {
        "id": "0a1496e8"
      },
      "outputs": [],
      "source": []
    },
    {
      "cell_type": "code",
      "execution_count": null,
      "id": "6aee8f31",
      "metadata": {
        "id": "6aee8f31"
      },
      "outputs": [],
      "source": []
    },
    {
      "cell_type": "code",
      "execution_count": null,
      "id": "c3761ae2",
      "metadata": {
        "id": "c3761ae2"
      },
      "outputs": [],
      "source": []
    },
    {
      "cell_type": "markdown",
      "id": "a4abb3c0",
      "metadata": {
        "id": "a4abb3c0"
      },
      "source": [
        "### Ejercico 11:\n",
        "- Obten la tercera columna de la matriz."
      ]
    },
    {
      "cell_type": "code",
      "execution_count": null,
      "id": "047311f5",
      "metadata": {
        "id": "047311f5"
      },
      "outputs": [],
      "source": []
    },
    {
      "cell_type": "code",
      "execution_count": null,
      "id": "b1368522",
      "metadata": {
        "id": "b1368522"
      },
      "outputs": [],
      "source": []
    },
    {
      "cell_type": "code",
      "execution_count": null,
      "id": "19aa1a30",
      "metadata": {
        "id": "19aa1a30"
      },
      "outputs": [],
      "source": []
    },
    {
      "cell_type": "markdown",
      "id": "85659833",
      "metadata": {
        "id": "85659833"
      },
      "source": [
        "### Ejercicio 12:\n",
        "- Obtener la segunda y tercera columna de la matriz."
      ]
    },
    {
      "cell_type": "code",
      "execution_count": null,
      "id": "f9f72826",
      "metadata": {
        "id": "f9f72826"
      },
      "outputs": [],
      "source": []
    },
    {
      "cell_type": "code",
      "execution_count": null,
      "id": "72247f04",
      "metadata": {
        "id": "72247f04"
      },
      "outputs": [],
      "source": []
    },
    {
      "cell_type": "code",
      "execution_count": null,
      "id": "3de230f8",
      "metadata": {
        "id": "3de230f8"
      },
      "outputs": [],
      "source": []
    },
    {
      "cell_type": "markdown",
      "id": "3a118c9a",
      "metadata": {
        "id": "3a118c9a"
      },
      "source": [
        "### Ejercicio 13:\n",
        "- Obten una submatriz con los 4 números del centro."
      ]
    },
    {
      "cell_type": "code",
      "execution_count": null,
      "id": "6efd36bc",
      "metadata": {
        "id": "6efd36bc"
      },
      "outputs": [],
      "source": []
    },
    {
      "cell_type": "code",
      "execution_count": null,
      "id": "15b53998",
      "metadata": {
        "id": "15b53998"
      },
      "outputs": [],
      "source": []
    },
    {
      "cell_type": "code",
      "execution_count": null,
      "id": "197192ee",
      "metadata": {
        "id": "197192ee"
      },
      "outputs": [],
      "source": []
    },
    {
      "cell_type": "markdown",
      "id": "270239a7",
      "metadata": {
        "id": "270239a7"
      },
      "source": [
        "### Ejercicio 14:\n",
        "- Aplica la función **`np.flatten()`** a la matriz anterior para obtener un vector."
      ]
    },
    {
      "cell_type": "code",
      "execution_count": null,
      "id": "f9d01c3b",
      "metadata": {
        "id": "f9d01c3b"
      },
      "outputs": [],
      "source": []
    },
    {
      "cell_type": "code",
      "execution_count": null,
      "id": "7e33d442",
      "metadata": {
        "id": "7e33d442"
      },
      "outputs": [],
      "source": []
    },
    {
      "cell_type": "code",
      "execution_count": null,
      "id": "c459d98f",
      "metadata": {
        "id": "c459d98f"
      },
      "outputs": [],
      "source": []
    },
    {
      "cell_type": "markdown",
      "id": "aa26d703",
      "metadata": {
        "id": "aa26d703"
      },
      "source": [
        "### Ejercicio 15:\n",
        "- Aplica el método **`.reshape()`** al vector anterior para obtener una matriz de (1, 4) dimensiones."
      ]
    },
    {
      "cell_type": "code",
      "execution_count": null,
      "id": "8e045ee7",
      "metadata": {
        "id": "8e045ee7"
      },
      "outputs": [],
      "source": []
    },
    {
      "cell_type": "code",
      "execution_count": null,
      "id": "78df5ad8",
      "metadata": {
        "id": "78df5ad8"
      },
      "outputs": [],
      "source": []
    },
    {
      "cell_type": "code",
      "execution_count": null,
      "id": "0529314d",
      "metadata": {
        "id": "0529314d"
      },
      "outputs": [],
      "source": []
    },
    {
      "cell_type": "markdown",
      "id": "f61d6d34",
      "metadata": {
        "id": "f61d6d34"
      },
      "source": [
        "### Ejercicio 16:\n",
        "- Crea dos matrices de dimensión (4, 4) con números aleatorios y concatenalas verticalmente."
      ]
    },
    {
      "cell_type": "code",
      "execution_count": null,
      "id": "1dd66c12",
      "metadata": {
        "id": "1dd66c12"
      },
      "outputs": [],
      "source": []
    },
    {
      "cell_type": "code",
      "execution_count": null,
      "id": "4ca5da60",
      "metadata": {
        "id": "4ca5da60"
      },
      "outputs": [],
      "source": []
    },
    {
      "cell_type": "code",
      "execution_count": null,
      "id": "6d5150b4",
      "metadata": {
        "id": "6d5150b4"
      },
      "outputs": [],
      "source": []
    }
  ],
  "metadata": {
    "kernelspec": {
      "display_name": "Python 3 (ipykernel)",
      "language": "python",
      "name": "python3"
    },
    "language_info": {
      "codemirror_mode": {
        "name": "ipython",
        "version": 3
      },
      "file_extension": ".py",
      "mimetype": "text/x-python",
      "name": "python",
      "nbconvert_exporter": "python",
      "pygments_lexer": "ipython3",
      "version": "3.9.12"
    },
    "colab": {
      "provenance": [],
      "include_colab_link": true
    }
  },
  "nbformat": 4,
  "nbformat_minor": 5
}