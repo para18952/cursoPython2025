{
  "cells": [
    {
      "cell_type": "markdown",
      "metadata": {
        "id": "view-in-github",
        "colab_type": "text"
      },
      "source": [
        "<a href=\"https://colab.research.google.com/github/para18952/cursoPython2025/blob/dia_2/Modulo1_b/01.numpy.ipynb\" target=\"_parent\"><img src=\"https://colab.research.google.com/assets/colab-badge.svg\" alt=\"Open In Colab\"/></a>"
      ]
    },
    {
      "cell_type": "code",
      "source": [
        "!git clone https://github.com/para18952/cursoPython2025.git"
      ],
      "metadata": {
        "id": "14PFfzvodsRL",
        "outputId": "c698778c-86f9-4c52-d6fe-10beb48fe03b",
        "colab": {
          "base_uri": "https://localhost:8080/"
        }
      },
      "id": "14PFfzvodsRL",
      "execution_count": 1,
      "outputs": [
        {
          "output_type": "stream",
          "name": "stdout",
          "text": [
            "Cloning into 'cursoPython2025'...\n",
            "remote: Enumerating objects: 364, done.\u001b[K\n",
            "remote: Counting objects: 100% (364/364), done.\u001b[K\n",
            "remote: Compressing objects: 100% (259/259), done.\u001b[K\n",
            "remote: Total 364 (delta 141), reused 216 (delta 87), pack-reused 0 (from 0)\u001b[K\n",
            "Receiving objects: 100% (364/364), 24.53 MiB | 7.71 MiB/s, done.\n",
            "Resolving deltas: 100% (141/141), done.\n",
            "Updating files: 100% (124/124), done.\n"
          ]
        }
      ]
    },
    {
      "cell_type": "code",
      "source": [
        "import os\n",
        "file_path=(\"/content/cursoPython2025/Modulo1_b/\")"
      ],
      "metadata": {
        "id": "v8SGaps1exjs"
      },
      "id": "v8SGaps1exjs",
      "execution_count": 2,
      "outputs": []
    },
    {
      "cell_type": "markdown",
      "id": "221cc933",
      "metadata": {
        "id": "221cc933"
      },
      "source": [
        "## NumPy\n",
        "\n",
        "**`NumPy`** es una librería utilizada para el manejo de arreglos (arrays) y matrices multidimensionales, cuenta con múltiples funciones para trabajar con estos objetos. Una matriz en **`NumPy`** es una cuadricula de valores, todos del mismo tipo e indexados.\n",
        "\n",
        "```python\n",
        "import numpy as np\n",
        "```"
      ]
    },
    {
      "cell_type": "code",
      "execution_count": 3,
      "id": "04664844",
      "metadata": {
        "id": "04664844"
      },
      "outputs": [],
      "source": [
        "import numpy as np\n",
        "from PIL import Image"
      ]
    },
    {
      "cell_type": "code",
      "execution_count": 4,
      "id": "e9d1c7c9",
      "metadata": {
        "id": "e9d1c7c9"
      },
      "outputs": [],
      "source": [
        "lista = [1, 2, 3]"
      ]
    },
    {
      "cell_type": "code",
      "execution_count": 5,
      "id": "f1df22c7",
      "metadata": {
        "id": "f1df22c7",
        "colab": {
          "base_uri": "https://localhost:8080/"
        },
        "outputId": "cb33c001-655e-43d3-cf2a-c9b041f1536b"
      },
      "outputs": [
        {
          "output_type": "execute_result",
          "data": {
            "text/plain": [
              "list"
            ]
          },
          "metadata": {},
          "execution_count": 5
        }
      ],
      "source": [
        "type(lista)"
      ]
    },
    {
      "cell_type": "code",
      "execution_count": 6,
      "id": "4bd2b057",
      "metadata": {
        "id": "4bd2b057",
        "colab": {
          "base_uri": "https://localhost:8080/"
        },
        "outputId": "595a7108-b576-4d35-ba10-bcc86eee7a14"
      },
      "outputs": [
        {
          "output_type": "execute_result",
          "data": {
            "text/plain": [
              "numpy.ndarray"
            ]
          },
          "metadata": {},
          "execution_count": 6
        }
      ],
      "source": [
        "# Usando np.array() podemos castear una lista a un objeto numpy.ndarray\n",
        "type(np.array(lista))"
      ]
    },
    {
      "cell_type": "markdown",
      "id": "5cd70c79",
      "metadata": {
        "id": "5cd70c79"
      },
      "source": [
        "### Arreglos (arrays) de 1 dimensión (vector).\n",
        "\n",
        "| Método           | Atributo   |\n",
        "|------------------|------------|\n",
        "|**`.argmin()`**   |**`.dtype`**|\n",
        "|**`.argmax()`**   |**`.ndim`** |\n",
        "|**`.cumsum()`**   |**`.size`** |\n",
        "|**`.cumprod()`**  |**`.shape`**|\n",
        "|**`.dot()`**      | **`.T`**   |\n",
        "|**`.flatten()`**  |            |\n",
        "|**`.max()`**      |            |\n",
        "|**`.min()`**      |            |\n",
        "|**`.mean()`**     |            |\n",
        "|**`.reshape()`**  |            |\n",
        "|**`.transpose()`**|            |\n",
        "|**`.sum()`**      |            |\n",
        "|**`.sort()`**     |            |\n",
        "|**`.tolist()`**   |            |"
      ]
    },
    {
      "cell_type": "code",
      "execution_count": 7,
      "id": "32d5ed80",
      "metadata": {
        "id": "32d5ed80"
      },
      "outputs": [],
      "source": [
        "vector = [-2, 4, 1, 3.5]\n",
        "\n",
        "vector = np.array(vector)\n"
      ]
    },
    {
      "cell_type": "code",
      "execution_count": 8,
      "id": "90b68668",
      "metadata": {
        "id": "90b68668",
        "colab": {
          "base_uri": "https://localhost:8080/"
        },
        "outputId": "3977beec-68f5-47fb-a9a4-f83ded4c8358"
      },
      "outputs": [
        {
          "output_type": "stream",
          "name": "stdout",
          "text": [
            "0\n",
            "1\n"
          ]
        }
      ],
      "source": [
        "# .argmin() y .argmax() retornan el indice del minimo y del maximo respectivamente\n",
        "print(vector.argmin())\n",
        "print(vector.argmax())"
      ]
    },
    {
      "cell_type": "code",
      "execution_count": 9,
      "id": "c6fff054",
      "metadata": {
        "id": "c6fff054",
        "outputId": "6c36c97e-ea36-4902-caf7-5309f5e84edb",
        "colab": {
          "base_uri": "https://localhost:8080/"
        }
      },
      "outputs": [
        {
          "output_type": "stream",
          "name": "stdout",
          "text": [
            "[-2.   2.   3.   6.5]\n",
            "[ -2.  -8.  -8. -28.]\n"
          ]
        }
      ],
      "source": [
        "# .cumsum() y cumprod() retorna un np.array() con la suma acumulada y el producto acumulado respectivamente\n",
        "\n",
        "print(vector.cumsum())\n",
        "print(vector.cumprod())"
      ]
    },
    {
      "cell_type": "code",
      "execution_count": 10,
      "id": "836f163c",
      "metadata": {
        "id": "836f163c",
        "colab": {
          "base_uri": "https://localhost:8080/"
        },
        "outputId": "a05b6c28-feac-432b-d244-bf18dc134128"
      },
      "outputs": [
        {
          "output_type": "execute_result",
          "data": {
            "text/plain": [
              "array([[-2. ,  4. ],\n",
              "       [ 1. ,  3.5]])"
            ]
          },
          "metadata": {},
          "execution_count": 10
        }
      ],
      "source": [
        "# .reshape() cambia la \"forma\" de la matriz\n",
        "\n",
        "matriz_1 = vector.reshape(2, 2)\n",
        "\n",
        "matriz_1"
      ]
    },
    {
      "cell_type": "code",
      "execution_count": 11,
      "id": "5360e7b1",
      "metadata": {
        "id": "5360e7b1",
        "colab": {
          "base_uri": "https://localhost:8080/"
        },
        "outputId": "54f052b5-e9e1-4674-f1b3-8408f0153a36"
      },
      "outputs": [
        {
          "output_type": "stream",
          "name": "stdout",
          "text": [
            "[[-2.   1. ]\n",
            " [ 4.   3.5]]\n",
            "--------------------\n",
            "[[-2.   1. ]\n",
            " [ 4.   3.5]]\n"
          ]
        }
      ],
      "source": [
        "# .transpose() hace la transpuesta de la matriz, también se puede usar .T\n",
        "\n",
        "print(matriz_1.transpose())\n",
        "\n",
        "print(\"-\"*20)\n",
        "\n",
        "print(matriz_1.T)"
      ]
    },
    {
      "cell_type": "code",
      "execution_count": 13,
      "id": "cab9c78e",
      "metadata": {
        "id": "cab9c78e",
        "outputId": "5548fe5f-53ef-414d-ad0b-8a05a7dc0c17",
        "colab": {
          "base_uri": "https://localhost:8080/"
        }
      },
      "outputs": [
        {
          "output_type": "execute_result",
          "data": {
            "text/plain": [
              "[[-2.0, 4.0], [1.0, 3.5]]"
            ]
          },
          "metadata": {},
          "execution_count": 13
        }
      ],
      "source": [
        "# .tolist() retorna el array en una lista\n",
        "\n",
        "matriz_1.tolist()"
      ]
    },
    {
      "cell_type": "code",
      "execution_count": null,
      "id": "cc4e66c9",
      "metadata": {
        "id": "cc4e66c9"
      },
      "outputs": [],
      "source": [
        "#vector"
      ]
    },
    {
      "cell_type": "code",
      "execution_count": null,
      "id": "d23e4452",
      "metadata": {
        "id": "d23e4452"
      },
      "outputs": [],
      "source": [
        "#matriz_1"
      ]
    },
    {
      "cell_type": "code",
      "execution_count": null,
      "id": "b9c5aa51",
      "metadata": {
        "id": "b9c5aa51"
      },
      "outputs": [],
      "source": [
        "# .flatten() retorna un vector plano con los elementos de la matriz\n",
        "\n",
        "#matriz_1.flatten()"
      ]
    },
    {
      "cell_type": "code",
      "execution_count": null,
      "id": "129dc8d4",
      "metadata": {
        "id": "129dc8d4"
      },
      "outputs": [],
      "source": [
        "# .sort() ordena la matriz de menor a mayor, lo hace in-place\n",
        "\n",
        "#print(\"Antes de .sort()\", vector)\n",
        "\n",
        "#vector.sort()\n",
        "\n",
        "#print(\"Después de .sort()\", vector)"
      ]
    },
    {
      "cell_type": "code",
      "execution_count": null,
      "id": "314df444",
      "metadata": {
        "id": "314df444"
      },
      "outputs": [],
      "source": [
        "#vector"
      ]
    },
    {
      "cell_type": "code",
      "execution_count": null,
      "id": "af24eeb6",
      "metadata": {
        "id": "af24eeb6"
      },
      "outputs": [],
      "source": [
        "# .ndim retorna el número de dimensiones\n",
        "\n",
        "#vector.ndim"
      ]
    },
    {
      "cell_type": "code",
      "execution_count": null,
      "id": "a826a8a7",
      "metadata": {
        "id": "a826a8a7"
      },
      "outputs": [],
      "source": [
        "# .size retorna el número de elementos\n",
        "\n",
        "#vector.size"
      ]
    },
    {
      "cell_type": "code",
      "execution_count": null,
      "id": "9c100a65",
      "metadata": {
        "id": "9c100a65"
      },
      "outputs": [],
      "source": [
        "# .shape retorna en una tupla las dimesiones de la matriz\n",
        "\n",
        "#matriz_1.shape"
      ]
    },
    {
      "cell_type": "code",
      "execution_count": null,
      "id": "5bca1414",
      "metadata": {
        "id": "5bca1414"
      },
      "outputs": [],
      "source": [
        "# .dtype retorna el tipo de dato de los elementos de la matriz\n",
        "\n",
        "#vector.dtype"
      ]
    },
    {
      "cell_type": "markdown",
      "id": "fd3b3064",
      "metadata": {
        "id": "fd3b3064"
      },
      "source": [
        "### Arreglos (arrays) de 2 dimensiones (matrices).\n",
        "\n",
        "Comparte los métodos y atributos de los vectores por que son de la misma clase.\n",
        "\n",
        "Existen varias funciones para inicializar matrices o arrays:\n",
        "\n",
        "| Función                  | Descripción                                                                             |\n",
        "|--------------------------|-----------------------------------------------------------------------------------------|\n",
        "|**`np.empty((n, m))`**    | Inicializa una matriz **nxm** vacia.                                                    |\n",
        "|**`np.zeros((n, m))`**    | Inicializa una matriz **nxm** de ceros.                                                 |\n",
        "|**`np.ones((n, m))`**     | Inicializa una matriz **nxm** de unos.                                                  |\n",
        "|**`np.eye(n)`**           | Inicializa la matriz identidad de orden **n**.                                          |\n",
        "|**`np.identity(n)`**      | Inicializa la matriz identidad de orden **n**.                                          |\n",
        "|**`np.full(shape, elem)`**| Inicializa una matriz con la forma de **`shape`** usando los elementos de **`elem`**.   |\n",
        "|**`np.linspace(a, b, p)`**| Inicializa un array de **`p`** elementos entre **`a`** y **`b`**, todos **x-distantes**.|"
      ]
    },
    {
      "cell_type": "code",
      "execution_count": null,
      "id": "4e7e29d5",
      "metadata": {
        "id": "4e7e29d5",
        "outputId": "d4ae0c81-791c-4e18-d0f7-37e26a69e1e1",
        "colab": {
          "base_uri": "https://localhost:8080/"
        }
      },
      "outputs": [
        {
          "output_type": "execute_result",
          "data": {
            "text/plain": [
              "array([[ 1,  2,  3, 10],\n",
              "       [ 4,  5,  6, 20],\n",
              "       [ 7,  8,  9, 30]])"
            ]
          },
          "metadata": {},
          "execution_count": 47
        }
      ],
      "source": [
        "matriz = np.array([[1, 2, 3, 10],\n",
        "                   [4, 5, 6, 20],\n",
        "                   [7, 8, 9, 30]])\n",
        "\n",
        "matriz"
      ]
    },
    {
      "cell_type": "code",
      "execution_count": null,
      "id": "7a0fc954",
      "metadata": {
        "id": "7a0fc954"
      },
      "outputs": [],
      "source": [
        "#print(matriz)"
      ]
    },
    {
      "cell_type": "code",
      "execution_count": null,
      "id": "ea934ad2",
      "metadata": {
        "id": "ea934ad2"
      },
      "outputs": [],
      "source": [
        "#matriz.flatten()"
      ]
    },
    {
      "cell_type": "code",
      "execution_count": null,
      "id": "5a434d59",
      "metadata": {
        "id": "5a434d59"
      },
      "outputs": [],
      "source": [
        "#matriz.reshape(6, 2)"
      ]
    },
    {
      "cell_type": "code",
      "execution_count": null,
      "id": "2aac080b",
      "metadata": {
        "id": "2aac080b"
      },
      "outputs": [],
      "source": [
        "# Aunque muestre numeros dentro de la matriz, np.empty() la inicializa vacia, estos números que se ven\n",
        "# Estan en memoria y numpy los usa para mostrar la matriz\n",
        "\n",
        "#empty = np.empty(shape = (5, 5), dtype = \"int\") #float\n",
        "\n",
        "#print(empty)"
      ]
    },
    {
      "cell_type": "code",
      "execution_count": null,
      "id": "7efe5c70",
      "metadata": {
        "id": "7efe5c70"
      },
      "outputs": [],
      "source": [
        "# Inicializa una matriz de 1's.\n",
        "\n",
        "#ones = np.ones(shape = (5, 5), dtype = \"int8\")\n",
        "\n",
        "#print(ones)"
      ]
    },
    {
      "cell_type": "code",
      "execution_count": null,
      "id": "3afe6662",
      "metadata": {
        "id": "3afe6662"
      },
      "outputs": [],
      "source": [
        "# Inicializa una matriz de 0's.\n",
        "\n",
        "#zeros = np.zeros(shape = (5, 5), dtype = \"int8\")\n",
        "\n",
        "#print(zeros)"
      ]
    },
    {
      "cell_type": "code",
      "execution_count": null,
      "id": "b0faa89f",
      "metadata": {
        "id": "b0faa89f"
      },
      "outputs": [],
      "source": [
        "# Matriz identidad\n",
        "\n",
        "#np.eye(5)"
      ]
    },
    {
      "cell_type": "code",
      "execution_count": null,
      "id": "d1ccc458",
      "metadata": {
        "id": "d1ccc458"
      },
      "outputs": [],
      "source": [
        "# np.full() crea una lista con forma \"shape\" y la llena con un iterable.\n",
        "\n",
        "#full = np.full((5,), range(5))\n",
        "\n",
        "#print(full)"
      ]
    },
    {
      "cell_type": "code",
      "execution_count": null,
      "id": "5ff662d1",
      "metadata": {
        "id": "5ff662d1"
      },
      "outputs": [],
      "source": [
        "# np.linspace(a, b, p) crea un array de \"p\" elementos entre \"a\" y \"b\", todos x-distantes\n",
        "\n",
        "#linspace = np.linspace(1, 12, 16)\n",
        "\n",
        "#print(linspace)"
      ]
    },
    {
      "cell_type": "markdown",
      "id": "254762c3",
      "metadata": {
        "id": "254762c3"
      },
      "source": [
        "### Slicing en NumPy\n",
        "\n",
        "En Python para hacer slicing de una lista de listas debiamos escribir primero la \"fila\" y de segundo la \"columna\" asi:\n",
        "```python\n",
        "lista[a][b]\n",
        "```\n",
        "\n",
        "Usando un **`np.array()`** podemos usar la siguiente notación:\n",
        "```python\n",
        "array[a, b]\n",
        "```\n",
        "\n",
        "Incluso, podemos pasar un **slicing** dentro del **slicing** para filtrar aun más los datos:\n",
        "```python\n",
        "array[a1 : a2, b1 : b2]\n",
        "```\n",
        "\n",
        "También podemos hacer **indexing** dentro del **slicing**\n",
        "\n",
        "```python\n",
        "array[[a1, a3], [b2, b4]]\n",
        "```"
      ]
    },
    {
      "cell_type": "code",
      "execution_count": null,
      "id": "12a6a5ff",
      "metadata": {
        "id": "12a6a5ff",
        "outputId": "b1369b4c-6804-481e-b120-b6c80b153726",
        "colab": {
          "base_uri": "https://localhost:8080/"
        }
      },
      "outputs": [
        {
          "output_type": "stream",
          "name": "stdout",
          "text": [
            "[[1 0 0 0 0]\n",
            " [0 0 2 0 0]\n",
            " [1 1 0 0 1]\n",
            " [2 1 1 1 0]\n",
            " [1 2 1 2 2]]\n"
          ]
        }
      ],
      "source": [
        "matriz = np.array([[1, 0, 0, 0, 0],\n",
        "                   [0, 0, 2, 0, 0],\n",
        "                   [1, 1, 0, 0, 1],\n",
        "                   [2, 1, 1, 1, 0],\n",
        "                   [1, 2, 1, 2, 2]])\n",
        "\n",
        "print(matriz)"
      ]
    },
    {
      "cell_type": "code",
      "execution_count": null,
      "id": "21dbaeca",
      "metadata": {
        "id": "21dbaeca"
      },
      "outputs": [],
      "source": [
        "# Hacer\n",
        "\n",
        "#matriz[4][1]"
      ]
    },
    {
      "cell_type": "code",
      "execution_count": null,
      "id": "ec4d8249",
      "metadata": {
        "id": "ec4d8249"
      },
      "outputs": [],
      "source": [
        "# Es igual que hacer\n",
        "\n",
        "#matriz[4, 1]"
      ]
    },
    {
      "cell_type": "code",
      "execution_count": null,
      "id": "52d4413b",
      "metadata": {
        "id": "52d4413b",
        "outputId": "78208fed-f9c9-43fc-8dac-3ef4714e7d3a",
        "colab": {
          "base_uri": "https://localhost:8080/"
        }
      },
      "outputs": [
        {
          "output_type": "execute_result",
          "data": {
            "text/plain": [
              "array([[0, 2, 0],\n",
              "       [1, 0, 0],\n",
              "       [1, 1, 1]])"
            ]
          },
          "metadata": {},
          "execution_count": 88
        }
      ],
      "source": [
        "# Slicing\n",
        "matriz[1:4, 1:4]"
      ]
    },
    {
      "cell_type": "code",
      "execution_count": null,
      "id": "93e46fc8",
      "metadata": {
        "id": "93e46fc8",
        "outputId": "7a21b718-89dd-42ac-eac8-6e1106d24294",
        "colab": {
          "base_uri": "https://localhost:8080/"
        }
      },
      "outputs": [
        {
          "output_type": "execute_result",
          "data": {
            "text/plain": [
              "array([0, 2])"
            ]
          },
          "metadata": {},
          "execution_count": 90
        }
      ],
      "source": [
        "# Slicing + Indexing\n",
        "\n",
        "#matriz[[fila1, fila2], [columna1, columna2]]\n",
        "\n",
        "matriz[[1, 4], [1, 4]]"
      ]
    },
    {
      "cell_type": "markdown",
      "id": "a53ed0b5",
      "metadata": {
        "id": "a53ed0b5"
      },
      "source": [
        "### Operaciones con Arrays"
      ]
    },
    {
      "cell_type": "code",
      "execution_count": null,
      "id": "a67f60f0",
      "metadata": {
        "id": "a67f60f0",
        "outputId": "6ef3d38f-9fc0-4321-890f-665643b7dd04",
        "colab": {
          "base_uri": "https://localhost:8080/"
        }
      },
      "outputs": [
        {
          "output_type": "stream",
          "name": "stdout",
          "text": [
            "[[20 40]\n",
            " [30 50]]\n",
            "--------------------\n",
            "[[4 5]\n",
            " [2 3]]\n"
          ]
        }
      ],
      "source": [
        "A = np.array([[20, 40], [30, 50]])\n",
        "B = np.array([[4, 5], [2, 3]])\n",
        "\n",
        "print(A)\n",
        "print(\"-\"*20)\n",
        "print(B)"
      ]
    },
    {
      "cell_type": "code",
      "execution_count": null,
      "id": "ddedeb57",
      "metadata": {
        "id": "ddedeb57"
      },
      "outputs": [],
      "source": [
        "# Suma\n",
        "\n",
        "A + B"
      ]
    },
    {
      "cell_type": "code",
      "execution_count": null,
      "id": "d72056b3",
      "metadata": {
        "id": "d72056b3"
      },
      "outputs": [],
      "source": [
        "# Resta\n",
        "A - B"
      ]
    },
    {
      "cell_type": "code",
      "execution_count": null,
      "id": "dd2e20b7",
      "metadata": {
        "id": "dd2e20b7"
      },
      "outputs": [],
      "source": [
        "# Multiplicación por escalar\n",
        "\n",
        "A * 5"
      ]
    },
    {
      "cell_type": "code",
      "execution_count": null,
      "id": "825278f1",
      "metadata": {
        "id": "825278f1"
      },
      "outputs": [],
      "source": [
        "# Multiplicación elemento a elemento (no es la forma matemática de multiplicar)\n",
        "\n",
        "A * B"
      ]
    },
    {
      "cell_type": "code",
      "execution_count": null,
      "id": "9357e55c",
      "metadata": {
        "id": "9357e55c"
      },
      "outputs": [],
      "source": [
        "# División por escalar\n",
        "\n",
        "A / 5"
      ]
    },
    {
      "cell_type": "code",
      "execution_count": null,
      "id": "28efadce",
      "metadata": {
        "id": "28efadce"
      },
      "outputs": [],
      "source": [
        "# Producto de matrices (también conocido como producto de vectorial)\n",
        "\n",
        "A.dot(B)"
      ]
    },
    {
      "cell_type": "code",
      "execution_count": null,
      "id": "1841c7ec",
      "metadata": {
        "id": "1841c7ec"
      },
      "outputs": [],
      "source": [
        "print(A)\n",
        "print(\"-\"*20)\n",
        "print(B)"
      ]
    },
    {
      "cell_type": "markdown",
      "id": "547b4361",
      "metadata": {
        "id": "547b4361"
      },
      "source": [
        "#### Concatenar"
      ]
    },
    {
      "cell_type": "code",
      "execution_count": null,
      "id": "269d0b12",
      "metadata": {
        "id": "269d0b12"
      },
      "outputs": [],
      "source": [
        "# Concatenar verticalmente\n",
        "\n",
        "np.concatenate((A, B), axis = 0);"
      ]
    },
    {
      "cell_type": "code",
      "execution_count": null,
      "id": "0d17002e",
      "metadata": {
        "id": "0d17002e"
      },
      "outputs": [],
      "source": [
        "# Concatenar horizontalmente\n",
        "\n",
        "np.concatenate((A, B), axis = 1);"
      ]
    },
    {
      "cell_type": "markdown",
      "id": "ae907e98",
      "metadata": {
        "id": "ae907e98"
      },
      "source": [
        "### Números aleatorios en NumPy\n",
        "\n",
        "|Función                             |Descripción                                                                                                                                         |\n",
        "|------------------------------------|----------------------------------------------------------------------------------------------------------------------------------------------------|\n",
        "|**`np.random.random(n)`**           | Genera un número aleatorio entre 0 y 1, si damos el parametro **`n`** genera una lista de **`n`** elementos aleatorios entre 0 y 1, solo genera vectores.                                                                                                                       |\n",
        "|**`np.random.rand(shape)`**         | Genera un array de forma **shape** con números aleatorios entre 0 y 1.                                                                             |\n",
        "|**`np.random.randn(shape)`**        | Genera un array de forma **shape** con números aleatorios entre -1 y 1.                                                                           |\n",
        "|**`no.random.randint(a, b, size)`** | Genera un array de tamaño **size** con numeros enteros aleatorios entre **a** y **b**.                                                             |\n",
        "|**`np.random.choice(obj, size, p)`**| Genera un array de tamaño **size** con los elementos de **obj**, se le pueden dar pesos a los elementos usando **p**, retorna elementos repetidos.|\n",
        "|**`np.random.seed(n)`**             | Genera una semilla.                                                                        "
      ]
    },
    {
      "cell_type": "code",
      "execution_count": null,
      "id": "b3288efd",
      "metadata": {
        "id": "b3288efd"
      },
      "outputs": [],
      "source": [
        "#np.random.random(5) # un array de 5 elementos\n",
        "#np.random.random(size = (5, 5)) # una matriz de 5x5\n"
      ]
    },
    {
      "cell_type": "code",
      "execution_count": null,
      "id": "c8ed8fa8",
      "metadata": {
        "id": "c8ed8fa8"
      },
      "outputs": [],
      "source": [
        "#print(np.random.random());\n",
        "\n",
        "#print(\"-\"*30);\n",
        "\n",
        "#print(np.random.random(5));"
      ]
    },
    {
      "cell_type": "code",
      "execution_count": null,
      "id": "8aad0c3b",
      "metadata": {
        "id": "8aad0c3b"
      },
      "outputs": [],
      "source": [
        "#print(np.random.rand())\n",
        "\n",
        "#print(\"-\"*30)\n",
        "\n",
        "#print(np.random.rand(2, 3))"
      ]
    },
    {
      "cell_type": "code",
      "execution_count": null,
      "id": "deb7b024",
      "metadata": {
        "id": "deb7b024"
      },
      "outputs": [],
      "source": [
        "#print(np.random.randint(0, 10))\n",
        "\n",
        "#print(\"-\"*30)\n",
        "\n",
        "#print(np.random.randint(1, 10, size = (5, 5)))"
      ]
    },
    {
      "cell_type": "markdown",
      "source": [
        "## Nota\n",
        "numpy también sirve para trabajar con **cadenas de texto**, pero se recomienda hacerlo mejor con pandas"
      ],
      "metadata": {
        "id": "H2IMumu4P40I"
      },
      "id": "H2IMumu4P40I"
    },
    {
      "cell_type": "code",
      "source": [
        "frutas = np.array([\"manzana\", \"banana\", \"pera\", \"manzana\", \"uva\"])"
      ],
      "metadata": {
        "id": "SywKky3OPRtV"
      },
      "id": "SywKky3OPRtV",
      "execution_count": null,
      "outputs": []
    },
    {
      "cell_type": "code",
      "source": [
        "#Comparar (elementos iguales a algo)\n",
        "frutas == \"manzana\""
      ],
      "metadata": {
        "id": "v1YYuKTCPa-R",
        "outputId": "2196159f-f0e1-4caa-9bab-0a8bd1e215f5",
        "colab": {
          "base_uri": "https://localhost:8080/"
        }
      },
      "id": "v1YYuKTCPa-R",
      "execution_count": null,
      "outputs": [
        {
          "output_type": "execute_result",
          "data": {
            "text/plain": [
              "array([ True, False, False,  True, False])"
            ]
          },
          "metadata": {},
          "execution_count": 124
        }
      ]
    },
    {
      "cell_type": "code",
      "source": [
        "# Entonces podremos seleccionar\n",
        "solo_manzanas = frutas[frutas == \"manzana\"]\n",
        "solo_manzanas"
      ],
      "metadata": {
        "id": "xEwjOnxNPm4q",
        "outputId": "ac45485d-0438-4e00-8b0a-19c98ff75115",
        "colab": {
          "base_uri": "https://localhost:8080/"
        }
      },
      "id": "xEwjOnxNPm4q",
      "execution_count": null,
      "outputs": [
        {
          "output_type": "execute_result",
          "data": {
            "text/plain": [
              "array(['manzana', 'manzana'], dtype='<U7')"
            ]
          },
          "metadata": {},
          "execution_count": 123
        }
      ]
    },
    {
      "cell_type": "code",
      "execution_count": null,
      "id": "8f34224a",
      "metadata": {
        "id": "8f34224a",
        "outputId": "ccfec186-442a-4473-b920-8fd5efa97a9b",
        "colab": {
          "base_uri": "https://localhost:8080/"
        }
      },
      "outputs": [
        {
          "output_type": "stream",
          "name": "stdout",
          "text": [
            "['a' 'a' 'e' 'a' 'a' 'a' 'o' 'a' 'o' 'a']\n"
          ]
        }
      ],
      "source": [
        "# numpy también sirve para trabajar con cadenas de texto, pero se recomienda hacerlo mejor con pandas\n",
        "print(np.random.choice(a = [\"a\", \"e\", \"i\", \"o\", \"u\"],size = 10, p = [0.6, 0.1, 0.1, 0.1, 0.1]))"
      ]
    },
    {
      "cell_type": "code",
      "execution_count": null,
      "id": "fcaa9040",
      "metadata": {
        "id": "fcaa9040"
      },
      "outputs": [],
      "source": [
        "np.random.seed(0)# Para generar una semilla y tener siempre el mismo valor \"aleatorio\""
      ]
    },
    {
      "cell_type": "code",
      "execution_count": null,
      "id": "27335492",
      "metadata": {
        "id": "27335492"
      },
      "outputs": [],
      "source": [
        "# Para generar una semilla y tener siempre el mismo valor \"aleatorio\"\n",
        "np.random.seed(0)\n"
      ]
    },
    {
      "cell_type": "code",
      "execution_count": null,
      "id": "49b47b97",
      "metadata": {
        "id": "49b47b97"
      },
      "outputs": [],
      "source": [
        "# Código para establecer el número de decimales (Cambiar {0:0.2f} para elegir el número de decimales)\n",
        "\n",
        "#np.set_printoptions(formatter = {\"float\" : lambda x: \"{0:0.2f}\".format(x)})\n",
        "\n",
        "#np.random.randn(6, 6)"
      ]
    },
    {
      "cell_type": "code",
      "execution_count": null,
      "id": "57fad6e7",
      "metadata": {
        "id": "57fad6e7"
      },
      "outputs": [],
      "source": [
        "#np.random.randn(6, 6)"
      ]
    },
    {
      "cell_type": "code",
      "execution_count": null,
      "id": "8c6a06b3",
      "metadata": {
        "id": "8c6a06b3"
      },
      "outputs": [],
      "source": [
        "#np.empty((5, 5), dtype = \"float64\")"
      ]
    },
    {
      "cell_type": "code",
      "execution_count": null,
      "id": "d6263c75",
      "metadata": {
        "id": "d6263c75"
      },
      "outputs": [],
      "source": [
        "#################################################################################################################################################################################################"
      ]
    },
    {
      "cell_type": "code",
      "source": [
        "# Cargar imagen en blanco y negro\n",
        "imagen = Image.open(file_path+\"letra_A.jpg\").convert(\"L\")  # Convertir a escala de grises\n"
      ],
      "metadata": {
        "colab": {
          "base_uri": "https://localhost:8080/"
        },
        "id": "PbY1NYxRcjf9",
        "outputId": "60a8be29-c0eb-4c99-bac2-4dbab01414d0"
      },
      "id": "PbY1NYxRcjf9",
      "execution_count": null,
      "outputs": [
        {
          "output_type": "execute_result",
          "data": {
            "text/plain": [
              "array([[1, 1, 1, 1, 0, 0, 0, 0, 1, 1, 1, 1, 1, 1, 1],\n",
              "       [1, 1, 0, 0, 0, 0, 0, 0, 0, 0, 1, 1, 1, 1, 1],\n",
              "       [1, 1, 0, 0, 0, 0, 0, 0, 0, 0, 0, 1, 1, 1, 1],\n",
              "       [1, 1, 0, 0, 0, 0, 0, 0, 0, 0, 0, 1, 1, 1, 1],\n",
              "       [1, 0, 0, 0, 0, 1, 1, 0, 0, 0, 0, 1, 1, 1, 1],\n",
              "       [1, 0, 0, 0, 0, 1, 1, 0, 0, 0, 0, 1, 1, 1, 1],\n",
              "       [1, 1, 1, 1, 1, 0, 0, 0, 0, 0, 0, 1, 1, 1, 1],\n",
              "       [1, 1, 1, 0, 0, 0, 0, 0, 0, 0, 0, 1, 1, 1, 1],\n",
              "       [1, 1, 0, 0, 0, 0, 0, 0, 0, 0, 0, 1, 1, 1, 1],\n",
              "       [1, 0, 0, 0, 0, 1, 1, 0, 0, 0, 0, 1, 1, 1, 1],\n",
              "       [1, 0, 0, 0, 1, 1, 1, 0, 0, 0, 0, 1, 1, 1, 1],\n",
              "       [1, 0, 0, 0, 0, 0, 0, 0, 0, 0, 0, 1, 1, 1, 1]])"
            ]
          },
          "metadata": {},
          "execution_count": 9
        }
      ]
    },
    {
      "cell_type": "code",
      "source": [],
      "metadata": {
        "id": "PHy3T4-vdqRA"
      },
      "id": "PHy3T4-vdqRA",
      "execution_count": null,
      "outputs": []
    },
    {
      "cell_type": "code",
      "source": [],
      "metadata": {
        "id": "AokQ4_ltckNm"
      },
      "id": "AokQ4_ltckNm",
      "execution_count": null,
      "outputs": []
    }
  ],
  "metadata": {
    "kernelspec": {
      "display_name": "Python 3 (ipykernel)",
      "language": "python",
      "name": "python3"
    },
    "language_info": {
      "codemirror_mode": {
        "name": "ipython",
        "version": 3
      },
      "file_extension": ".py",
      "mimetype": "text/x-python",
      "name": "python",
      "nbconvert_exporter": "python",
      "pygments_lexer": "ipython3",
      "version": "3.13.2"
    },
    "colab": {
      "provenance": [],
      "include_colab_link": true
    }
  },
  "nbformat": 4,
  "nbformat_minor": 5
}