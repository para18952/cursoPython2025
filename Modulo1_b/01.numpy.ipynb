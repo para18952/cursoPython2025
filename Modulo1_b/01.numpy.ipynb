{
  "cells": [
    {
      "cell_type": "markdown",
      "metadata": {
        "id": "view-in-github",
        "colab_type": "text"
      },
      "source": [
        "<a href=\"https://colab.research.google.com/github/para18952/cursoPython2025/blob/dia_2/Modulo1_b/01.numpy.ipynb\" target=\"_parent\"><img src=\"https://colab.research.google.com/assets/colab-badge.svg\" alt=\"Open In Colab\"/></a>"
      ]
    },
    {
      "cell_type": "code",
      "source": [
        "!git clone https://github.com/para18952/cursoPython2025.git"
      ],
      "metadata": {
        "id": "14PFfzvodsRL",
        "outputId": "c698778c-86f9-4c52-d6fe-10beb48fe03b",
        "colab": {
          "base_uri": "https://localhost:8080/"
        }
      },
      "id": "14PFfzvodsRL",
      "execution_count": 1,
      "outputs": [
        {
          "output_type": "stream",
          "name": "stdout",
          "text": [
            "Cloning into 'cursoPython2025'...\n",
            "remote: Enumerating objects: 364, done.\u001b[K\n",
            "remote: Counting objects: 100% (364/364), done.\u001b[K\n",
            "remote: Compressing objects: 100% (259/259), done.\u001b[K\n",
            "remote: Total 364 (delta 141), reused 216 (delta 87), pack-reused 0 (from 0)\u001b[K\n",
            "Receiving objects: 100% (364/364), 24.53 MiB | 7.71 MiB/s, done.\n",
            "Resolving deltas: 100% (141/141), done.\n",
            "Updating files: 100% (124/124), done.\n"
          ]
        }
      ]
    },
    {
      "cell_type": "code",
      "source": [
        "import os\n",
        "file_path=(\"/content/cursoPython2025/Modulo1_b/\")"
      ],
      "metadata": {
        "id": "v8SGaps1exjs"
      },
      "id": "v8SGaps1exjs",
      "execution_count": 2,
      "outputs": []
    },
    {
      "cell_type": "markdown",
      "id": "221cc933",
      "metadata": {
        "id": "221cc933"
      },
      "source": [
        "## NumPy\n",
        "\n",
        "**`NumPy`** es una librería utilizada para el manejo de arreglos (arrays) y matrices multidimensionales, cuenta con múltiples funciones para trabajar con estos objetos. Una matriz en **`NumPy`** es una cuadricula de valores, todos del mismo tipo e indexados.\n",
        "\n",
        "```python\n",
        "import numpy as np\n",
        "```"
      ]
    },
    {
      "cell_type": "code",
      "execution_count": 3,
      "id": "04664844",
      "metadata": {
        "id": "04664844"
      },
      "outputs": [],
      "source": [
        "import numpy as np\n",
        "from PIL import Image"
      ]
    },
    {
      "cell_type": "code",
      "execution_count": 4,
      "id": "e9d1c7c9",
      "metadata": {
        "id": "e9d1c7c9"
      },
      "outputs": [],
      "source": [
        "lista = [1, 2, 3]"
      ]
    },
    {
      "cell_type": "code",
      "execution_count": 5,
      "id": "f1df22c7",
      "metadata": {
        "id": "f1df22c7",
        "colab": {
          "base_uri": "https://localhost:8080/"
        },
        "outputId": "cb33c001-655e-43d3-cf2a-c9b041f1536b"
      },
      "outputs": [
        {
          "output_type": "execute_result",
          "data": {
            "text/plain": [
              "list"
            ]
          },
          "metadata": {},
          "execution_count": 5
        }
      ],
      "source": [
        "type(lista)"
      ]
    },
    {
      "cell_type": "code",
      "execution_count": 6,
      "id": "4bd2b057",
      "metadata": {
        "id": "4bd2b057",
        "colab": {
          "base_uri": "https://localhost:8080/"
        },
        "outputId": "595a7108-b576-4d35-ba10-bcc86eee7a14"
      },
      "outputs": [
        {
          "output_type": "execute_result",
          "data": {
            "text/plain": [
              "numpy.ndarray"
            ]
          },
          "metadata": {},
          "execution_count": 6
        }
      ],
      "source": [
        "# Usando np.array() podemos castear una lista a un objeto numpy.ndarray\n",
        "type(np.array(lista))"
      ]
    },
    {
      "cell_type": "markdown",
      "id": "5cd70c79",
      "metadata": {
        "id": "5cd70c79"
      },
      "source": [
        "### Arreglos (arrays) de 1 dimensión (vector).\n",
        "\n",
        "| Método           | Atributo   |\n",
        "|------------------|------------|\n",
        "|**`.argmin()`**   |**`.dtype`**|\n",
        "|**`.argmax()`**   |**`.ndim`** |\n",
        "|**`.cumsum()`**   |**`.size`** |\n",
        "|**`.cumprod()`**  |**`.shape`**|\n",
        "|**`.dot()`**      | **`.T`**   |\n",
        "|**`.flatten()`**  |            |\n",
        "|**`.max()`**      |            |\n",
        "|**`.min()`**      |            |\n",
        "|**`.mean()`**     |            |\n",
        "|**`.reshape()`**  |            |\n",
        "|**`.transpose()`**|            |\n",
        "|**`.sum()`**      |            |\n",
        "|**`.sort()`**     |            |\n",
        "|**`.tolist()`**   |            |"
      ]
    },
    {
      "cell_type": "code",
      "execution_count": 7,
      "id": "32d5ed80",
      "metadata": {
        "id": "32d5ed80"
      },
      "outputs": [],
      "source": [
        "vector = [-2, 4, 1, 3.5]\n",
        "\n",
        "vector = np.array(vector)\n"
      ]
    },
    {
      "cell_type": "code",
      "execution_count": 8,
      "id": "90b68668",
      "metadata": {
        "id": "90b68668",
        "colab": {
          "base_uri": "https://localhost:8080/"
        },
        "outputId": "3977beec-68f5-47fb-a9a4-f83ded4c8358"
      },
      "outputs": [
        {
          "output_type": "stream",
          "name": "stdout",
          "text": [
            "0\n",
            "1\n"
          ]
        }
      ],
      "source": [
        "# .argmin() y .argmax() retornan el indice del minimo y del maximo respectivamente\n",
        "print(vector.argmin())\n",
        "print(vector.argmax())"
      ]
    },
    {
      "cell_type": "code",
      "execution_count": 9,
      "id": "c6fff054",
      "metadata": {
        "id": "c6fff054",
        "outputId": "6c36c97e-ea36-4902-caf7-5309f5e84edb",
        "colab": {
          "base_uri": "https://localhost:8080/"
        }
      },
      "outputs": [
        {
          "output_type": "stream",
          "name": "stdout",
          "text": [
            "[-2.   2.   3.   6.5]\n",
            "[ -2.  -8.  -8. -28.]\n"
          ]
        }
      ],
      "source": [
        "# .cumsum() y cumprod() retorna un np.array() con la suma acumulada y el producto acumulado respectivamente\n",
        "\n",
        "print(vector.cumsum())\n",
        "print(vector.cumprod())"
      ]
    },
    {
      "cell_type": "code",
      "execution_count": 10,
      "id": "836f163c",
      "metadata": {
        "id": "836f163c",
        "colab": {
          "base_uri": "https://localhost:8080/"
        },
        "outputId": "a05b6c28-feac-432b-d244-bf18dc134128"
      },
      "outputs": [
        {
          "output_type": "execute_result",
          "data": {
            "text/plain": [
              "array([[-2. ,  4. ],\n",
              "       [ 1. ,  3.5]])"
            ]
          },
          "metadata": {},
          "execution_count": 10
        }
      ],
      "source": [
        "# .reshape() cambia la \"forma\" de la matriz\n",
        "\n",
        "matriz_1 = vector.reshape(2, 2)\n",
        "\n",
        "matriz_1"
      ]
    },
    {
      "cell_type": "code",
      "execution_count": 11,
      "id": "5360e7b1",
      "metadata": {
        "id": "5360e7b1",
        "colab": {
          "base_uri": "https://localhost:8080/"
        },
        "outputId": "54f052b5-e9e1-4674-f1b3-8408f0153a36"
      },
      "outputs": [
        {
          "output_type": "stream",
          "name": "stdout",
          "text": [
            "[[-2.   1. ]\n",
            " [ 4.   3.5]]\n",
            "--------------------\n",
            "[[-2.   1. ]\n",
            " [ 4.   3.5]]\n"
          ]
        }
      ],
      "source": [
        "# .transpose() hace la transpuesta de la matriz, también se puede usar .T\n",
        "\n",
        "print(matriz_1.transpose())\n",
        "\n",
        "print(\"-\"*20)\n",
        "\n",
        "print(matriz_1.T)"
      ]
    },
    {
      "cell_type": "code",
      "execution_count": 13,
      "id": "cab9c78e",
      "metadata": {
        "id": "cab9c78e",
        "outputId": "5548fe5f-53ef-414d-ad0b-8a05a7dc0c17",
        "colab": {
          "base_uri": "https://localhost:8080/"
        }
      },
      "outputs": [
        {
          "output_type": "execute_result",
          "data": {
            "text/plain": [
              "[[-2.0, 4.0], [1.0, 3.5]]"
            ]
          },
          "metadata": {},
          "execution_count": 13
        }
      ],
      "source": [
        "# .tolist() retorna el array en una lista\n",
        "\n",
        "matriz_1.tolist()"
      ]
    },
    {
      "cell_type": "code",
      "execution_count": null,
      "id": "cc4e66c9",
      "metadata": {
        "id": "cc4e66c9"
      },
      "outputs": [],
      "source": [
        "#vector"
      ]
    },
    {
      "cell_type": "code",
      "execution_count": null,
      "id": "d23e4452",
      "metadata": {
        "id": "d23e4452"
      },
      "outputs": [],
      "source": [
        "#matriz_1"
      ]
    },
    {
      "cell_type": "code",
      "execution_count": 14,
      "id": "b9c5aa51",
      "metadata": {
        "id": "b9c5aa51",
        "colab": {
          "base_uri": "https://localhost:8080/"
        },
        "outputId": "0cbc53cd-5dae-47f2-c487-4ef30f688c52"
      },
      "outputs": [
        {
          "output_type": "execute_result",
          "data": {
            "text/plain": [
              "array([-2. ,  4. ,  1. ,  3.5])"
            ]
          },
          "metadata": {},
          "execution_count": 14
        }
      ],
      "source": [
        "# .flatten() retorna un vector plano con los elementos de la matriz\n",
        "\n",
        "matriz_1.flatten()"
      ]
    },
    {
      "cell_type": "code",
      "execution_count": 15,
      "id": "129dc8d4",
      "metadata": {
        "id": "129dc8d4",
        "colab": {
          "base_uri": "https://localhost:8080/"
        },
        "outputId": "9ad55cb0-e977-47e4-8d83-e3f150e698da"
      },
      "outputs": [
        {
          "output_type": "stream",
          "name": "stdout",
          "text": [
            "Antes de .sort() [-2.   4.   1.   3.5]\n",
            "Después de .sort() [-2.   1.   3.5  4. ]\n"
          ]
        }
      ],
      "source": [
        "# .sort() ordena la matriz de menor a mayor, lo hace in-place\n",
        "\n",
        "print(\"Antes de .sort()\", vector)\n",
        "\n",
        "vector.sort()\n",
        "\n",
        "print(\"Después de .sort()\", vector)"
      ]
    },
    {
      "cell_type": "code",
      "execution_count": 16,
      "id": "314df444",
      "metadata": {
        "id": "314df444",
        "colab": {
          "base_uri": "https://localhost:8080/"
        },
        "outputId": "e6620de6-1fc5-460c-f35e-339c1304289c"
      },
      "outputs": [
        {
          "output_type": "execute_result",
          "data": {
            "text/plain": [
              "array([-2. ,  1. ,  3.5,  4. ])"
            ]
          },
          "metadata": {},
          "execution_count": 16
        }
      ],
      "source": [
        "vector"
      ]
    },
    {
      "cell_type": "code",
      "execution_count": 17,
      "id": "af24eeb6",
      "metadata": {
        "id": "af24eeb6",
        "colab": {
          "base_uri": "https://localhost:8080/"
        },
        "outputId": "d7f13f75-0bbe-44d5-b4ad-ba56ba40963f"
      },
      "outputs": [
        {
          "output_type": "execute_result",
          "data": {
            "text/plain": [
              "1"
            ]
          },
          "metadata": {},
          "execution_count": 17
        }
      ],
      "source": [
        "# .ndim retorna el número de dimensiones\n",
        "\n",
        "vector.ndim"
      ]
    },
    {
      "cell_type": "code",
      "execution_count": 18,
      "id": "a826a8a7",
      "metadata": {
        "id": "a826a8a7",
        "colab": {
          "base_uri": "https://localhost:8080/"
        },
        "outputId": "8845f96c-fbc8-4b04-99bc-78738ab4dfcb"
      },
      "outputs": [
        {
          "output_type": "execute_result",
          "data": {
            "text/plain": [
              "4"
            ]
          },
          "metadata": {},
          "execution_count": 18
        }
      ],
      "source": [
        "# .size retorna el número de elementos\n",
        "\n",
        "vector.size"
      ]
    },
    {
      "cell_type": "code",
      "execution_count": 19,
      "id": "9c100a65",
      "metadata": {
        "id": "9c100a65",
        "colab": {
          "base_uri": "https://localhost:8080/"
        },
        "outputId": "403eb90e-b7ba-48b8-981b-28fde451662e"
      },
      "outputs": [
        {
          "output_type": "execute_result",
          "data": {
            "text/plain": [
              "(2, 2)"
            ]
          },
          "metadata": {},
          "execution_count": 19
        }
      ],
      "source": [
        "# .shape retorna en una tupla las dimesiones de la matriz\n",
        "\n",
        "matriz_1.shape"
      ]
    },
    {
      "cell_type": "code",
      "execution_count": 20,
      "id": "5bca1414",
      "metadata": {
        "id": "5bca1414",
        "colab": {
          "base_uri": "https://localhost:8080/"
        },
        "outputId": "1a360cd1-7e4f-49d9-c1eb-5cb7e2e9e807"
      },
      "outputs": [
        {
          "output_type": "execute_result",
          "data": {
            "text/plain": [
              "dtype('float64')"
            ]
          },
          "metadata": {},
          "execution_count": 20
        }
      ],
      "source": [
        "# .dtype retorna el tipo de dato de los elementos de la matriz\n",
        "\n",
        "vector.dtype"
      ]
    },
    {
      "cell_type": "markdown",
      "id": "fd3b3064",
      "metadata": {
        "id": "fd3b3064"
      },
      "source": [
        "### Arreglos (arrays) de 2 dimensiones (matrices).\n",
        "\n",
        "Comparte los métodos y atributos de los vectores por que son de la misma clase.\n",
        "\n",
        "Existen varias funciones para inicializar matrices o arrays:\n",
        "\n",
        "| Función                  | Descripción                                                                             |\n",
        "|--------------------------|-----------------------------------------------------------------------------------------|\n",
        "|**`np.empty((n, m))`**    | Inicializa una matriz **nxm** vacia.                                                    |\n",
        "|**`np.zeros((n, m))`**    | Inicializa una matriz **nxm** de ceros.                                                 |\n",
        "|**`np.ones((n, m))`**     | Inicializa una matriz **nxm** de unos.                                                  |\n",
        "|**`np.eye(n)`**           | Inicializa la matriz identidad de orden **n**.                                          |\n",
        "|**`np.identity(n)`**      | Inicializa la matriz identidad de orden **n**.                                          |\n",
        "|**`np.full(shape, elem)`**| Inicializa una matriz con la forma de **`shape`** usando los elementos de **`elem`**.   |\n",
        "|**`np.linspace(a, b, p)`**| Inicializa un array de **`p`** elementos entre **`a`** y **`b`**, todos **x-distantes**.|"
      ]
    },
    {
      "cell_type": "code",
      "execution_count": 21,
      "id": "4e7e29d5",
      "metadata": {
        "id": "4e7e29d5",
        "outputId": "e2b59b3b-04ff-4baf-9d80-e26cd1e88870",
        "colab": {
          "base_uri": "https://localhost:8080/"
        }
      },
      "outputs": [
        {
          "output_type": "execute_result",
          "data": {
            "text/plain": [
              "(3, 4)"
            ]
          },
          "metadata": {},
          "execution_count": 21
        }
      ],
      "source": [
        "matriz = np.array([[1, 2, 3, 10],\n",
        "                   [4, 5, 6, 20],\n",
        "                   [7, 8, 9, 30]])\n",
        "\n",
        "matriz.shape"
      ]
    },
    {
      "cell_type": "code",
      "execution_count": 25,
      "id": "7a0fc954",
      "metadata": {
        "id": "7a0fc954",
        "colab": {
          "base_uri": "https://localhost:8080/"
        },
        "outputId": "82df86d1-b793-484b-8779-52e44270bdb4"
      },
      "outputs": [
        {
          "output_type": "stream",
          "name": "stdout",
          "text": [
            "[[ 1  2  3 10]\n",
            " [ 4  5  6 20]\n",
            " [ 7  8  9 30]]\n"
          ]
        }
      ],
      "source": [
        "print(matriz)"
      ]
    },
    {
      "cell_type": "code",
      "execution_count": 23,
      "id": "ea934ad2",
      "metadata": {
        "id": "ea934ad2",
        "colab": {
          "base_uri": "https://localhost:8080/"
        },
        "outputId": "0bdf6496-0426-4b34-ea15-4a104ea7a5a9"
      },
      "outputs": [
        {
          "output_type": "execute_result",
          "data": {
            "text/plain": [
              "array([ 1,  2,  3, 10,  4,  5,  6, 20,  7,  8,  9, 30])"
            ]
          },
          "metadata": {},
          "execution_count": 23
        }
      ],
      "source": [
        "matriz.flatten()"
      ]
    },
    {
      "cell_type": "code",
      "execution_count": 24,
      "id": "5a434d59",
      "metadata": {
        "id": "5a434d59",
        "colab": {
          "base_uri": "https://localhost:8080/"
        },
        "outputId": "a0f96a88-a41e-4cad-c342-dfda5c0d9ca0"
      },
      "outputs": [
        {
          "output_type": "execute_result",
          "data": {
            "text/plain": [
              "array([[ 1,  2],\n",
              "       [ 3, 10],\n",
              "       [ 4,  5],\n",
              "       [ 6, 20],\n",
              "       [ 7,  8],\n",
              "       [ 9, 30]])"
            ]
          },
          "metadata": {},
          "execution_count": 24
        }
      ],
      "source": [
        "matriz.reshape(6, 2)"
      ]
    },
    {
      "cell_type": "code",
      "execution_count": 26,
      "id": "2aac080b",
      "metadata": {
        "id": "2aac080b",
        "colab": {
          "base_uri": "https://localhost:8080/"
        },
        "outputId": "b1f8700a-06f2-4bbc-cd07-eefe48567623"
      },
      "outputs": [
        {
          "output_type": "stream",
          "name": "stdout",
          "text": [
            "[[      481260446               0        10752616        10751048\n",
            "  135257628787456]\n",
            " [       10752936 135257628787456        10754472 135257628787328\n",
            "         10752392]\n",
            " [       10751048 135257628787456        10753064 135257628787456\n",
            "         10753448]\n",
            " [135257628787328        10752168        10751048 135257628787456\n",
            "         10753448]\n",
            " [135257628787456        10752936 135257628787328        10751944\n",
            "              368]]\n"
          ]
        }
      ],
      "source": [
        "# Aunque muestre numeros dentro de la matriz, np.empty() la inicializa vacia, estos números que se ven\n",
        "# Estan en memoria y numpy los usa para mostrar la matriz\n",
        "\n",
        "empty = np.empty(shape = (5, 5), dtype = \"int\") #float\n",
        "\n",
        "print(empty)"
      ]
    },
    {
      "cell_type": "code",
      "execution_count": 27,
      "id": "7efe5c70",
      "metadata": {
        "id": "7efe5c70",
        "colab": {
          "base_uri": "https://localhost:8080/"
        },
        "outputId": "acd6d7db-0bcb-4bbc-d755-5fe3bc1e0e2a"
      },
      "outputs": [
        {
          "output_type": "stream",
          "name": "stdout",
          "text": [
            "[[1 1 1 1 1]\n",
            " [1 1 1 1 1]\n",
            " [1 1 1 1 1]\n",
            " [1 1 1 1 1]\n",
            " [1 1 1 1 1]]\n"
          ]
        }
      ],
      "source": [
        "# Inicializa una matriz de 1's.\n",
        "\n",
        "ones = np.ones(shape = (5, 5), dtype = \"int8\")\n",
        "\n",
        "print(ones)"
      ]
    },
    {
      "cell_type": "code",
      "execution_count": 28,
      "id": "3afe6662",
      "metadata": {
        "id": "3afe6662",
        "colab": {
          "base_uri": "https://localhost:8080/"
        },
        "outputId": "5c3067d3-a180-472d-d2aa-39d54daec992"
      },
      "outputs": [
        {
          "output_type": "stream",
          "name": "stdout",
          "text": [
            "[[0 0 0 0 0]\n",
            " [0 0 0 0 0]\n",
            " [0 0 0 0 0]\n",
            " [0 0 0 0 0]\n",
            " [0 0 0 0 0]]\n"
          ]
        }
      ],
      "source": [
        "# Inicializa una matriz de 0's.\n",
        "\n",
        "zeros = np.zeros(shape = (5, 5), dtype = \"int8\")\n",
        "\n",
        "print(zeros)"
      ]
    },
    {
      "cell_type": "code",
      "execution_count": 29,
      "id": "b0faa89f",
      "metadata": {
        "id": "b0faa89f",
        "colab": {
          "base_uri": "https://localhost:8080/"
        },
        "outputId": "597640f8-a0d0-4308-f5b4-ce894ff3fa54"
      },
      "outputs": [
        {
          "output_type": "execute_result",
          "data": {
            "text/plain": [
              "array([[1., 0., 0., 0., 0.],\n",
              "       [0., 1., 0., 0., 0.],\n",
              "       [0., 0., 1., 0., 0.],\n",
              "       [0., 0., 0., 1., 0.],\n",
              "       [0., 0., 0., 0., 1.]])"
            ]
          },
          "metadata": {},
          "execution_count": 29
        }
      ],
      "source": [
        "# Matriz identidad\n",
        "\n",
        "np.eye(5)"
      ]
    },
    {
      "cell_type": "code",
      "execution_count": 32,
      "id": "d1ccc458",
      "metadata": {
        "id": "d1ccc458",
        "colab": {
          "base_uri": "https://localhost:8080/"
        },
        "outputId": "4f78e460-eeae-4017-959e-5261a21b47b8"
      },
      "outputs": [
        {
          "output_type": "stream",
          "name": "stdout",
          "text": [
            "[0 1 2 3 4]\n"
          ]
        }
      ],
      "source": [
        "# np.full() crea una lista con forma \"shape\" y la llena con un iterable.\n",
        "\n",
        "full = np.full((5,), range(5))\n",
        "\n",
        "print(full)"
      ]
    },
    {
      "cell_type": "code",
      "execution_count": 33,
      "id": "5ff662d1",
      "metadata": {
        "id": "5ff662d1",
        "colab": {
          "base_uri": "https://localhost:8080/"
        },
        "outputId": "5b3dbcff-6012-486c-cc77-5c1d0940cd86"
      },
      "outputs": [
        {
          "output_type": "stream",
          "name": "stdout",
          "text": [
            "[ 1.          1.73333333  2.46666667  3.2         3.93333333  4.66666667\n",
            "  5.4         6.13333333  6.86666667  7.6         8.33333333  9.06666667\n",
            "  9.8        10.53333333 11.26666667 12.        ]\n"
          ]
        }
      ],
      "source": [
        "# np.linspace(a, b, p) crea un array de \"p\" elementos entre \"a\" y \"b\", todos x-distantes\n",
        "\n",
        "linspace = np.linspace(1, 12, 16)\n",
        "\n",
        "print(linspace)"
      ]
    },
    {
      "cell_type": "markdown",
      "id": "254762c3",
      "metadata": {
        "id": "254762c3"
      },
      "source": [
        "### Slicing en NumPy\n",
        "\n",
        "En Python para hacer slicing de una lista de listas debiamos escribir primero la \"fila\" y de segundo la \"columna\" asi:\n",
        "```python\n",
        "lista[a][b]\n",
        "```\n",
        "\n",
        "Usando un **`np.array()`** podemos usar la siguiente notación:\n",
        "```python\n",
        "array[a, b]\n",
        "```\n",
        "\n",
        "Incluso, podemos pasar un **slicing** dentro del **slicing** para filtrar aun más los datos:\n",
        "```python\n",
        "array[a1 : a2, b1 : b2]\n",
        "```\n",
        "\n",
        "También podemos hacer **indexing** dentro del **slicing**\n",
        "\n",
        "```python\n",
        "array[[a1, a3], [b2, b4]]\n",
        "```"
      ]
    },
    {
      "cell_type": "code",
      "execution_count": 35,
      "id": "12a6a5ff",
      "metadata": {
        "id": "12a6a5ff",
        "outputId": "e820472b-400d-4a0a-95f0-ed414c08b0df",
        "colab": {
          "base_uri": "https://localhost:8080/"
        }
      },
      "outputs": [
        {
          "output_type": "stream",
          "name": "stdout",
          "text": [
            "[[1 0 0 0 0]\n",
            " [0 0 2 0 0]\n",
            " [1 1 0 0 1]\n",
            " [2 1 1 1 0]\n",
            " [1 2 1 2 2]]\n"
          ]
        }
      ],
      "source": [
        "matriz = np.array([[1, 0, 0, 0, 0],\n",
        "                   [0, 0, 2, 0, 0],\n",
        "                   [1, 1, 0, 0, 1],\n",
        "                   [2, 1, 1, 1, 0],\n",
        "                   [1, 2, 1, 2, 2]])\n",
        "\n",
        "print(matriz)"
      ]
    },
    {
      "cell_type": "code",
      "execution_count": 36,
      "id": "21dbaeca",
      "metadata": {
        "id": "21dbaeca",
        "colab": {
          "base_uri": "https://localhost:8080/"
        },
        "outputId": "8011eec4-b1a7-434f-98ba-2c166dcfff6c"
      },
      "outputs": [
        {
          "output_type": "execute_result",
          "data": {
            "text/plain": [
              "np.int64(2)"
            ]
          },
          "metadata": {},
          "execution_count": 36
        }
      ],
      "source": [
        "# Hacer\n",
        "\n",
        "matriz[4][1]"
      ]
    },
    {
      "cell_type": "code",
      "execution_count": 37,
      "id": "ec4d8249",
      "metadata": {
        "id": "ec4d8249",
        "colab": {
          "base_uri": "https://localhost:8080/"
        },
        "outputId": "72f4df00-554a-44cc-b720-ba2142f9727d"
      },
      "outputs": [
        {
          "output_type": "execute_result",
          "data": {
            "text/plain": [
              "np.int64(2)"
            ]
          },
          "metadata": {},
          "execution_count": 37
        }
      ],
      "source": [
        "# Es igual que hacer\n",
        "\n",
        "matriz[4, 1]"
      ]
    },
    {
      "cell_type": "code",
      "execution_count": 38,
      "id": "52d4413b",
      "metadata": {
        "id": "52d4413b",
        "outputId": "615fd125-7cd8-4b7c-968e-a35d2cf0e4a6",
        "colab": {
          "base_uri": "https://localhost:8080/"
        }
      },
      "outputs": [
        {
          "output_type": "execute_result",
          "data": {
            "text/plain": [
              "array([[0, 2, 0],\n",
              "       [1, 0, 0],\n",
              "       [1, 1, 1]])"
            ]
          },
          "metadata": {},
          "execution_count": 38
        }
      ],
      "source": [
        "# Slicing\n",
        "matriz[1:4, 1:4]"
      ]
    },
    {
      "cell_type": "code",
      "execution_count": 39,
      "id": "93e46fc8",
      "metadata": {
        "id": "93e46fc8",
        "outputId": "294fcf64-bbf2-43af-e856-6edd940d9546",
        "colab": {
          "base_uri": "https://localhost:8080/"
        }
      },
      "outputs": [
        {
          "output_type": "execute_result",
          "data": {
            "text/plain": [
              "array([0, 2])"
            ]
          },
          "metadata": {},
          "execution_count": 39
        }
      ],
      "source": [
        "# Slicing + Indexing\n",
        "\n",
        "#matriz[[fila1, fila2], [columna1, columna2]]\n",
        "\n",
        "matriz[[1, 4], [1, 4]]"
      ]
    },
    {
      "cell_type": "markdown",
      "id": "a53ed0b5",
      "metadata": {
        "id": "a53ed0b5"
      },
      "source": [
        "### Operaciones con Arrays"
      ]
    },
    {
      "cell_type": "code",
      "execution_count": 40,
      "id": "a67f60f0",
      "metadata": {
        "id": "a67f60f0",
        "outputId": "8b3f8364-a521-4496-bf81-7cc6cb1e89ce",
        "colab": {
          "base_uri": "https://localhost:8080/"
        }
      },
      "outputs": [
        {
          "output_type": "stream",
          "name": "stdout",
          "text": [
            "[[20 40]\n",
            " [30 50]]\n",
            "--------------------\n",
            "[[4 5]\n",
            " [2 3]]\n"
          ]
        }
      ],
      "source": [
        "A = np.array([[20, 40], [30, 50]])\n",
        "B = np.array([[4, 5], [2, 3]])\n",
        "\n",
        "print(A)\n",
        "print(\"-\"*20)\n",
        "print(B)"
      ]
    },
    {
      "cell_type": "code",
      "execution_count": 41,
      "id": "ddedeb57",
      "metadata": {
        "id": "ddedeb57",
        "colab": {
          "base_uri": "https://localhost:8080/"
        },
        "outputId": "07bd1435-9ad2-4386-c00a-e828a01b428c"
      },
      "outputs": [
        {
          "output_type": "execute_result",
          "data": {
            "text/plain": [
              "array([[24, 45],\n",
              "       [32, 53]])"
            ]
          },
          "metadata": {},
          "execution_count": 41
        }
      ],
      "source": [
        "# Suma\n",
        "\n",
        "A + B"
      ]
    },
    {
      "cell_type": "code",
      "execution_count": 42,
      "id": "d72056b3",
      "metadata": {
        "id": "d72056b3",
        "colab": {
          "base_uri": "https://localhost:8080/"
        },
        "outputId": "fd83bc17-1656-431d-a02e-7a3130be6e89"
      },
      "outputs": [
        {
          "output_type": "execute_result",
          "data": {
            "text/plain": [
              "array([[16, 35],\n",
              "       [28, 47]])"
            ]
          },
          "metadata": {},
          "execution_count": 42
        }
      ],
      "source": [
        "# Resta\n",
        "A - B"
      ]
    },
    {
      "cell_type": "code",
      "execution_count": 43,
      "id": "dd2e20b7",
      "metadata": {
        "id": "dd2e20b7",
        "colab": {
          "base_uri": "https://localhost:8080/"
        },
        "outputId": "0ce95ab3-2f85-438c-841d-6fa776549560"
      },
      "outputs": [
        {
          "output_type": "execute_result",
          "data": {
            "text/plain": [
              "array([[100, 200],\n",
              "       [150, 250]])"
            ]
          },
          "metadata": {},
          "execution_count": 43
        }
      ],
      "source": [
        "# Multiplicación por escalar\n",
        "\n",
        "A * 5"
      ]
    },
    {
      "cell_type": "code",
      "execution_count": 44,
      "id": "825278f1",
      "metadata": {
        "id": "825278f1",
        "colab": {
          "base_uri": "https://localhost:8080/"
        },
        "outputId": "d8868070-c9f3-40bb-c625-5fa73f2a3de0"
      },
      "outputs": [
        {
          "output_type": "execute_result",
          "data": {
            "text/plain": [
              "array([[ 80, 200],\n",
              "       [ 60, 150]])"
            ]
          },
          "metadata": {},
          "execution_count": 44
        }
      ],
      "source": [
        "# Multiplicación elemento a elemento (no es la forma matemática de multiplicar)\n",
        "\n",
        "A * B"
      ]
    },
    {
      "cell_type": "code",
      "execution_count": 45,
      "id": "9357e55c",
      "metadata": {
        "id": "9357e55c",
        "colab": {
          "base_uri": "https://localhost:8080/"
        },
        "outputId": "50a4b953-0428-46d5-ed65-45d34201de0b"
      },
      "outputs": [
        {
          "output_type": "execute_result",
          "data": {
            "text/plain": [
              "array([[ 4.,  8.],\n",
              "       [ 6., 10.]])"
            ]
          },
          "metadata": {},
          "execution_count": 45
        }
      ],
      "source": [
        "# División por escalar\n",
        "\n",
        "A / 5"
      ]
    },
    {
      "cell_type": "code",
      "execution_count": 46,
      "id": "28efadce",
      "metadata": {
        "id": "28efadce",
        "colab": {
          "base_uri": "https://localhost:8080/"
        },
        "outputId": "027c80f6-da39-4c92-cbed-f731fd6c9b28"
      },
      "outputs": [
        {
          "output_type": "execute_result",
          "data": {
            "text/plain": [
              "array([[160, 220],\n",
              "       [220, 300]])"
            ]
          },
          "metadata": {},
          "execution_count": 46
        }
      ],
      "source": [
        "# Producto de matrices (también conocido como producto de vectorial)\n",
        "\n",
        "A.dot(B)"
      ]
    },
    {
      "cell_type": "code",
      "execution_count": 47,
      "id": "1841c7ec",
      "metadata": {
        "id": "1841c7ec",
        "colab": {
          "base_uri": "https://localhost:8080/"
        },
        "outputId": "016709b6-61a5-4acd-e0c2-a4561882b1d2"
      },
      "outputs": [
        {
          "output_type": "stream",
          "name": "stdout",
          "text": [
            "[[20 40]\n",
            " [30 50]]\n",
            "--------------------\n",
            "[[4 5]\n",
            " [2 3]]\n"
          ]
        }
      ],
      "source": [
        "print(A)\n",
        "print(\"-\"*20)\n",
        "print(B)"
      ]
    },
    {
      "cell_type": "markdown",
      "id": "547b4361",
      "metadata": {
        "id": "547b4361"
      },
      "source": [
        "#### Concatenar"
      ]
    },
    {
      "cell_type": "code",
      "execution_count": 56,
      "id": "269d0b12",
      "metadata": {
        "id": "269d0b12",
        "colab": {
          "base_uri": "https://localhost:8080/"
        },
        "outputId": "8bbd4a36-c984-42ff-c74f-2969b0bf0e5e"
      },
      "outputs": [
        {
          "output_type": "execute_result",
          "data": {
            "text/plain": [
              "array([[20, 40],\n",
              "       [30, 50],\n",
              "       [ 4,  5],\n",
              "       [ 2,  3]])"
            ]
          },
          "metadata": {},
          "execution_count": 56
        }
      ],
      "source": [
        "# Concatenar verticalmente\n",
        "\n",
        "np.concatenate((A, B), axis = 0)\n"
      ]
    },
    {
      "cell_type": "code",
      "execution_count": 55,
      "id": "0d17002e",
      "metadata": {
        "id": "0d17002e",
        "colab": {
          "base_uri": "https://localhost:8080/"
        },
        "outputId": "399f1ae6-e2a7-40c4-aedc-bbf3cb30afea"
      },
      "outputs": [
        {
          "output_type": "execute_result",
          "data": {
            "text/plain": [
              "array([[20, 40,  4,  5],\n",
              "       [30, 50,  2,  3]])"
            ]
          },
          "metadata": {},
          "execution_count": 55
        }
      ],
      "source": [
        "# Concatenar horizontalmente\n",
        "\n",
        "np.concatenate((A, B), axis = 1)"
      ]
    },
    {
      "cell_type": "markdown",
      "id": "ae907e98",
      "metadata": {
        "id": "ae907e98"
      },
      "source": [
        "### Números aleatorios en NumPy\n",
        "\n",
        "|Función                             |Descripción                                                                                                                                         |\n",
        "|------------------------------------|----------------------------------------------------------------------------------------------------------------------------------------------------|\n",
        "|**`np.random.random(n)`**           | Genera un número aleatorio entre 0 y 1, si damos el parametro **`n`** genera una lista de **`n`** elementos aleatorios entre 0 y 1, solo genera vectores.                                                                                                                       |\n",
        "|**`np.random.rand(shape)`**         | Genera un array de forma **shape** con números aleatorios entre 0 y 1.                                                                             |\n",
        "|**`np.random.randn(shape)`**        | Genera un array de forma **shape** con números aleatorios entre -1 y 1.                                                                           |\n",
        "|**`no.random.randint(a, b, size)`** | Genera un array de tamaño **size** con numeros enteros aleatorios entre **a** y **b**.                                                             |\n",
        "|**`np.random.choice(obj, size, p)`**| Genera un array de tamaño **size** con los elementos de **obj**, se le pueden dar pesos a los elementos usando **p**, retorna elementos repetidos.|\n",
        "|**`np.random.seed(n)`**             | Genera una semilla.                                                                        "
      ]
    },
    {
      "cell_type": "code",
      "execution_count": 62,
      "id": "b3288efd",
      "metadata": {
        "id": "b3288efd",
        "colab": {
          "base_uri": "https://localhost:8080/"
        },
        "outputId": "c32e29c2-481c-4bb2-9b8b-6d351b55e9b7"
      },
      "outputs": [
        {
          "output_type": "stream",
          "name": "stdout",
          "text": [
            "[0.63626951 0.77182314 0.30738698 0.32124248 0.35299588]\n",
            "------------------------------\n",
            "[[0.17695224 0.60846098 0.27142212 0.35748452 0.19650178]\n",
            " [0.01587638 0.90047354 0.08653389 0.33345465 0.0108985 ]\n",
            " [0.12647056 0.30777344 0.61603676 0.44864787 0.22594068]\n",
            " [0.68031743 0.50973402 0.72780578 0.91483458 0.87734192]\n",
            " [0.60421216 0.06836195 0.53351017 0.70599701 0.00680992]]\n"
          ]
        }
      ],
      "source": [
        "print(np.random.random(5)) # un array de 5 elementos\n",
        "print(\"-\"*30)\n",
        "print(np.random.random(size = (5, 5))) # una matriz de 5x5\n"
      ]
    },
    {
      "cell_type": "code",
      "execution_count": 59,
      "id": "c8ed8fa8",
      "metadata": {
        "id": "c8ed8fa8",
        "colab": {
          "base_uri": "https://localhost:8080/"
        },
        "outputId": "5c3cb6b6-1599-4beb-aeb2-3794721c51b1"
      },
      "outputs": [
        {
          "output_type": "stream",
          "name": "stdout",
          "text": [
            "0.3705673819325981\n",
            "------------------------------\n",
            "[0.15855189 0.13535839 0.8832346  0.89752849 0.65608624]\n"
          ]
        }
      ],
      "source": [
        "print(np.random.random());\n",
        "\n",
        "print(\"-\"*30);\n",
        "\n",
        "print(np.random.random(5));"
      ]
    },
    {
      "cell_type": "code",
      "execution_count": 60,
      "id": "8aad0c3b",
      "metadata": {
        "id": "8aad0c3b",
        "colab": {
          "base_uri": "https://localhost:8080/"
        },
        "outputId": "2c2b7384-0a7b-401e-996b-488671d68a56"
      },
      "outputs": [
        {
          "output_type": "stream",
          "name": "stdout",
          "text": [
            "0.8968715635147587\n",
            "------------------------------\n",
            "[[0.9605786  0.69919083 0.84005617]\n",
            " [0.00252396 0.19477406 0.98310365]]\n"
          ]
        }
      ],
      "source": [
        "print(np.random.rand())\n",
        "\n",
        "print(\"-\"*30)\n",
        "\n",
        "print(np.random.rand(2, 3))"
      ]
    },
    {
      "cell_type": "code",
      "execution_count": 61,
      "id": "deb7b024",
      "metadata": {
        "id": "deb7b024",
        "colab": {
          "base_uri": "https://localhost:8080/"
        },
        "outputId": "eed2e95b-26b0-493b-bd85-53f4d61bfc91"
      },
      "outputs": [
        {
          "output_type": "stream",
          "name": "stdout",
          "text": [
            "0\n",
            "------------------------------\n",
            "[[3 6 9 1 3]\n",
            " [7 7 7 7 6]\n",
            " [7 7 2 3 3]\n",
            " [6 2 8 8 8]\n",
            " [4 1 9 8 1]]\n"
          ]
        }
      ],
      "source": [
        "print(np.random.randint(0, 10))\n",
        "\n",
        "print(\"-\"*30)\n",
        "\n",
        "print(np.random.randint(1, 10, size = (5, 5)))"
      ]
    },
    {
      "cell_type": "markdown",
      "source": [
        "## Nota\n",
        "numpy también sirve para trabajar con **cadenas de texto**, pero se recomienda hacerlo mejor con pandas"
      ],
      "metadata": {
        "id": "H2IMumu4P40I"
      },
      "id": "H2IMumu4P40I"
    },
    {
      "cell_type": "code",
      "source": [
        "frutas = np.array([\"manzana\", \"banana\", \"pera\", \"manzana\", \"uva\"])"
      ],
      "metadata": {
        "id": "SywKky3OPRtV"
      },
      "id": "SywKky3OPRtV",
      "execution_count": 63,
      "outputs": []
    },
    {
      "cell_type": "code",
      "source": [
        "#Comparar (elementos iguales a algo)\n",
        "frutas == \"manzana\""
      ],
      "metadata": {
        "id": "v1YYuKTCPa-R",
        "outputId": "363c5cdd-b65e-4060-9d5e-22b4565a6cec",
        "colab": {
          "base_uri": "https://localhost:8080/"
        }
      },
      "id": "v1YYuKTCPa-R",
      "execution_count": 64,
      "outputs": [
        {
          "output_type": "execute_result",
          "data": {
            "text/plain": [
              "array([ True, False, False,  True, False])"
            ]
          },
          "metadata": {},
          "execution_count": 64
        }
      ]
    },
    {
      "cell_type": "code",
      "source": [
        "# Entonces podremos seleccionar\n",
        "solo_manzanas = frutas[frutas == \"manzana\"]\n",
        "solo_manzanas"
      ],
      "metadata": {
        "id": "xEwjOnxNPm4q",
        "outputId": "51f3c7eb-7885-41a0-d916-e29f0bca835d",
        "colab": {
          "base_uri": "https://localhost:8080/"
        }
      },
      "id": "xEwjOnxNPm4q",
      "execution_count": 66,
      "outputs": [
        {
          "output_type": "execute_result",
          "data": {
            "text/plain": [
              "array(['manzana', 'manzana'], dtype='<U7')"
            ]
          },
          "metadata": {},
          "execution_count": 66
        }
      ]
    },
    {
      "cell_type": "code",
      "execution_count": 67,
      "id": "8f34224a",
      "metadata": {
        "id": "8f34224a",
        "outputId": "5ccc771a-5d21-49d1-e563-d948abe2d3b2",
        "colab": {
          "base_uri": "https://localhost:8080/"
        }
      },
      "outputs": [
        {
          "output_type": "stream",
          "name": "stdout",
          "text": [
            "['a' 'a' 'a' 'a' 'i' 'a' 'u' 'a' 'e' 'a']\n"
          ]
        }
      ],
      "source": [
        "# numpy también sirve para trabajar con cadenas de texto, pero se recomienda hacerlo mejor con pandas\n",
        "print(np.random.choice(a = [\"a\", \"e\", \"i\", \"o\", \"u\"],size = 10, p = [0.6, 0.1, 0.1, 0.1, 0.1]))"
      ]
    },
    {
      "cell_type": "code",
      "execution_count": 68,
      "id": "fcaa9040",
      "metadata": {
        "id": "fcaa9040"
      },
      "outputs": [],
      "source": [
        "np.random.seed(0)# Para generar una semilla y tener siempre el mismo valor \"aleatorio\""
      ]
    },
    {
      "cell_type": "code",
      "execution_count": 69,
      "id": "27335492",
      "metadata": {
        "id": "27335492"
      },
      "outputs": [],
      "source": [
        "# Para generar una semilla y tener siempre el mismo valor \"aleatorio\"\n",
        "np.random.seed(0)\n"
      ]
    },
    {
      "cell_type": "code",
      "execution_count": 70,
      "id": "49b47b97",
      "metadata": {
        "id": "49b47b97",
        "colab": {
          "base_uri": "https://localhost:8080/"
        },
        "outputId": "a7a09859-ce45-4087-d00d-56d5319e279e"
      },
      "outputs": [
        {
          "output_type": "execute_result",
          "data": {
            "text/plain": [
              "array([[1.76, 0.40, 0.98, 2.24, 1.87, -0.98],\n",
              "       [0.95, -0.15, -0.10, 0.41, 0.14, 1.45],\n",
              "       [0.76, 0.12, 0.44, 0.33, 1.49, -0.21],\n",
              "       [0.31, -0.85, -2.55, 0.65, 0.86, -0.74],\n",
              "       [2.27, -1.45, 0.05, -0.19, 1.53, 1.47],\n",
              "       [0.15, 0.38, -0.89, -1.98, -0.35, 0.16]])"
            ]
          },
          "metadata": {},
          "execution_count": 70
        }
      ],
      "source": [
        "# Código para establecer el número de decimales (Cambiar {0:0.2f} para elegir el número de decimales)\n",
        "\n",
        "np.set_printoptions(formatter = {\"float\" : lambda x: \"{0:0.2f}\".format(x)})\n",
        "\n",
        "np.random.randn(6, 6)"
      ]
    },
    {
      "cell_type": "code",
      "execution_count": 71,
      "id": "57fad6e7",
      "metadata": {
        "id": "57fad6e7",
        "colab": {
          "base_uri": "https://localhost:8080/"
        },
        "outputId": "f922dda5-9008-48db-842a-c85e6f9b2012"
      },
      "outputs": [
        {
          "output_type": "execute_result",
          "data": {
            "text/plain": [
              "array([[1.23, 1.20, -0.39, -0.30, -1.05, -1.42],\n",
              "       [-1.71, 1.95, -0.51, -0.44, -1.25, 0.78],\n",
              "       [-1.61, -0.21, -0.90, 0.39, -0.51, -1.18],\n",
              "       [-0.03, 0.43, 0.07, 0.30, -0.63, -0.36],\n",
              "       [-0.67, -0.36, -0.81, -1.73, 0.18, -0.40],\n",
              "       [-1.63, 0.46, -0.91, 0.05, 0.73, 0.13]])"
            ]
          },
          "metadata": {},
          "execution_count": 71
        }
      ],
      "source": [
        "np.random.randn(6, 6)"
      ]
    },
    {
      "cell_type": "code",
      "execution_count": 72,
      "id": "8c6a06b3",
      "metadata": {
        "id": "8c6a06b3",
        "colab": {
          "base_uri": "https://localhost:8080/"
        },
        "outputId": "682efef9-9924-456f-ada2-fc1eb1ecc15d"
      },
      "outputs": [
        {
          "output_type": "execute_result",
          "data": {
            "text/plain": [
              "array([[0.18, 0.61, 0.27, 0.36, 0.20],\n",
              "       [0.02, 0.90, 0.09, 0.33, 0.01],\n",
              "       [0.13, 0.31, 0.62, 0.45, 0.23],\n",
              "       [0.68, 0.51, 0.73, 0.91, 0.88],\n",
              "       [0.60, 0.07, 0.53, 0.71, 0.01]])"
            ]
          },
          "metadata": {},
          "execution_count": 72
        }
      ],
      "source": [
        "np.empty((5, 5), dtype = \"float64\")"
      ]
    },
    {
      "cell_type": "code",
      "execution_count": null,
      "id": "d6263c75",
      "metadata": {
        "id": "d6263c75"
      },
      "outputs": [],
      "source": [
        "#################################################################################################################################################################################################"
      ]
    },
    {
      "cell_type": "code",
      "source": [
        "# Cargar imagen en blanco y negro\n",
        "imagen = Image.open(file_path+\"letra_A.jpg\").convert(\"L\")  # Convertir a escala de grises\n",
        "#redimensionar la imagen\n",
        "imagen = imagen.resize((32, 32))\n",
        "arr = np.array(imagen)\n",
        "arr = arr[8:23,10:25]\n",
        "binarizar = (arr>128).astype(int)\n",
        "print(binarizar)\n",
        "\n",
        "# función Mostrar Imagen (Recorre cada fila de la matriz y pinta en 2 colores)\n",
        "def mostrarImagen(imagen):\n",
        "  for fila in imagen:\n",
        "    linea = \"\"\n",
        "    for pixel in fila:\n",
        "      if pixel == 0:\n",
        "        linea += chr(9608)+chr(9608)\n",
        "      else:\n",
        "        linea += \"  \"\n",
        "    print(linea)\n",
        "mostrarImagen(binarizar)"
      ],
      "metadata": {
        "colab": {
          "base_uri": "https://localhost:8080/"
        },
        "id": "PbY1NYxRcjf9",
        "outputId": "1b5fbbb4-659f-42ef-b388-c28d96b896b4"
      },
      "id": "PbY1NYxRcjf9",
      "execution_count": 119,
      "outputs": [
        {
          "output_type": "stream",
          "name": "stdout",
          "text": [
            "[[1 1 1 1 0 0 0 0 1 1 1 1 1 1 1]\n",
            " [1 1 0 0 0 0 0 0 0 0 1 1 1 1 1]\n",
            " [1 1 0 0 0 0 0 0 0 0 0 1 1 1 1]\n",
            " [1 1 0 0 0 0 0 0 0 0 0 1 1 1 1]\n",
            " [1 0 0 0 0 1 1 0 0 0 0 1 1 1 1]\n",
            " [1 0 0 0 0 1 1 0 0 0 0 1 1 1 1]\n",
            " [1 1 1 1 1 0 0 0 0 0 0 1 1 1 1]\n",
            " [1 1 1 0 0 0 0 0 0 0 0 1 1 1 1]\n",
            " [1 1 0 0 0 0 0 0 0 0 0 1 1 1 1]\n",
            " [1 0 0 0 0 1 1 0 0 0 0 1 1 1 1]\n",
            " [1 0 0 0 1 1 1 0 0 0 0 1 1 1 1]\n",
            " [1 0 0 0 0 0 0 0 0 0 0 1 1 1 1]\n",
            " [1 0 0 0 0 0 0 0 0 0 0 1 1 1 1]\n",
            " [1 1 0 0 0 0 0 0 0 0 1 1 1 1 1]\n",
            " [1 1 1 1 1 1 1 1 1 1 1 1 1 1 1]]\n",
            "        ████████              \n",
            "    ████████████████          \n",
            "    ██████████████████        \n",
            "    ██████████████████        \n",
            "  ████████    ████████        \n",
            "  ████████    ████████        \n",
            "          ████████████        \n",
            "      ████████████████        \n",
            "    ██████████████████        \n",
            "  ████████    ████████        \n",
            "  ██████      ████████        \n",
            "  ████████████████████        \n",
            "  ████████████████████        \n",
            "    ████████████████          \n",
            "                              \n"
          ]
        }
      ]
    },
    {
      "cell_type": "code",
      "source": [
        "P=np.array(imagen)\n",
        "#rotar 90 grados hacia la derecha\n",
        "P=np.rot90(P, k=-1)\n",
        "img = Image.fromarray(P)\n",
        "img"
      ],
      "metadata": {
        "id": "PHy3T4-vdqRA",
        "colab": {
          "base_uri": "https://localhost:8080/",
          "height": 49
        },
        "outputId": "005593e2-d053-4d6e-9799-98612cf010b5"
      },
      "id": "PHy3T4-vdqRA",
      "execution_count": 120,
      "outputs": [
        {
          "output_type": "execute_result",
          "data": {
            "text/plain": [
              "<PIL.Image.Image image mode=L size=32x32>"
            ],
            "image/png": "[encoded data removed]",
            "image/jpeg": "[encoded data removed]"
          },
          "metadata": {},
          "execution_count": 120
        }
      ]
    },
    {
      "cell_type": "code",
      "source": [
        "#Espejo horizontal\n",
        "espejo_h = np.fliplr(binarizar)\n",
        "mostrarImagen(espejo_h)"
      ],
      "metadata": {
        "id": "AokQ4_ltckNm",
        "colab": {
          "base_uri": "https://localhost:8080/"
        },
        "outputId": "5d3d6e2a-60fb-4a83-bd44-40a983b3bfa0"
      },
      "id": "AokQ4_ltckNm",
      "execution_count": 123,
      "outputs": [
        {
          "output_type": "stream",
          "name": "stdout",
          "text": [
            "              ████████        \n",
            "          ████████████████    \n",
            "        ██████████████████    \n",
            "        ██████████████████    \n",
            "        ████████    ████████  \n",
            "        ████████    ████████  \n",
            "        ████████████          \n",
            "        ████████████████      \n",
            "        ██████████████████    \n",
            "        ████████    ████████  \n",
            "        ████████      ██████  \n",
            "        ████████████████████  \n",
            "        ████████████████████  \n",
            "          ████████████████    \n",
            "                              \n"
          ]
        }
      ]
    },
    {
      "cell_type": "code",
      "source": [],
      "metadata": {
        "id": "6SCN2YC7jg3E"
      },
      "id": "6SCN2YC7jg3E",
      "execution_count": null,
      "outputs": []
    }
  ],
  "metadata": {
    "kernelspec": {
      "display_name": "Python 3 (ipykernel)",
      "language": "python",
      "name": "python3"
    },
    "language_info": {
      "codemirror_mode": {
        "name": "ipython",
        "version": 3
      },
      "file_extension": ".py",
      "mimetype": "text/x-python",
      "name": "python",
      "nbconvert_exporter": "python",
      "pygments_lexer": "ipython3",
      "version": "3.13.2"
    },
    "colab": {
      "provenance": [],
      "include_colab_link": true
    }
  },
  "nbformat": 4,
  "nbformat_minor": 5
}