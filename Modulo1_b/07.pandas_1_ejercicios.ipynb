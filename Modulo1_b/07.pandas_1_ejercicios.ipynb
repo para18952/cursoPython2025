{
  "cells": [
    {
      "cell_type": "markdown",
      "metadata": {
        "id": "view-in-github",
        "colab_type": "text"
      },
      "source": [
        "<a href=\"https://colab.research.google.com/github/ednavivianasegura/ERAP_CursoPython/blob/main/Modulo1_b/07.pandas_1_ejercicios.ipynb\" target=\"_parent\"><img src=\"https://colab.research.google.com/assets/colab-badge.svg\" alt=\"Open In Colab\"/></a>"
      ]
    },
    {
      "cell_type": "markdown",
      "id": "725a31ea",
      "metadata": {
        "id": "725a31ea"
      },
      "source": [
        "## Ejercicios pandas 1"
      ]
    },
    {
      "cell_type": "code",
      "source": [
        "!git clone https://github.com/ednavivianasegura/ERAP_CursoPython.git\n",
        "\n"
      ],
      "metadata": {
        "id": "TLZeM1E4rukd",
        "outputId": "b40361c2-b0e5-4d40-cf6d-d615e1ddb76c",
        "colab": {
          "base_uri": "https://localhost:8080/"
        }
      },
      "id": "TLZeM1E4rukd",
      "execution_count": 1,
      "outputs": [
        {
          "output_type": "stream",
          "name": "stdout",
          "text": [
            "Cloning into 'ERAP_CursoPython'...\n",
            "remote: Enumerating objects: 609, done.\u001b[K\n",
            "remote: Counting objects: 100% (154/154), done.\u001b[K\n",
            "remote: Compressing objects: 100% (76/76), done.\u001b[K\n",
            "remote: Total 609 (delta 132), reused 78 (delta 78), pack-reused 455 (from 1)\u001b[K\n",
            "Receiving objects: 100% (609/609), 29.51 MiB | 16.75 MiB/s, done.\n",
            "Resolving deltas: 100% (252/252), done.\n"
          ]
        }
      ]
    },
    {
      "cell_type": "code",
      "source": [
        "import os\n",
        "os.chdir(\"/content/ERAP_CursoPython/Modulo1_b\")"
      ],
      "metadata": {
        "id": "F3EInXM2shQG"
      },
      "id": "F3EInXM2shQG",
      "execution_count": null,
      "outputs": []
    },
    {
      "cell_type": "code",
      "source": [
        "file_path=(\"/content/ERAP_CursoPython/Modulo1_b/Data/\")"
      ],
      "metadata": {
        "id": "KKS7nU1_r-F3"
      },
      "id": "KKS7nU1_r-F3",
      "execution_count": 2,
      "outputs": []
    },
    {
      "cell_type": "code",
      "execution_count": 3,
      "id": "fec45fd2",
      "metadata": {
        "id": "fec45fd2"
      },
      "outputs": [],
      "source": [
        "import pandas as pd"
      ]
    },
    {
      "cell_type": "markdown",
      "id": "998e7753",
      "metadata": {
        "id": "998e7753"
      },
      "source": [
        "### Ejercicio 1:\n",
        "- Lee el archivo **\"Canada.xlsx\"** y guardalo en la variable **`df`**"
      ]
    },
    {
      "cell_type": "code",
      "execution_count": null,
      "id": "3c01c91d-e584-4790-842d-815254cfb0cf",
      "metadata": {
        "id": "3c01c91d-e584-4790-842d-815254cfb0cf"
      },
      "outputs": [],
      "source": []
    },
    {
      "cell_type": "code",
      "execution_count": null,
      "id": "a4427c4e-ac9b-4967-9e86-22978b307b52",
      "metadata": {
        "id": "a4427c4e-ac9b-4967-9e86-22978b307b52"
      },
      "outputs": [],
      "source": []
    },
    {
      "cell_type": "code",
      "execution_count": null,
      "id": "63eb0be0-2b76-4315-800d-6af6f83cf5ec",
      "metadata": {
        "id": "63eb0be0-2b76-4315-800d-6af6f83cf5ec"
      },
      "outputs": [],
      "source": []
    },
    {
      "cell_type": "markdown",
      "id": "22183796",
      "metadata": {
        "id": "22183796"
      },
      "source": [
        "### Ejercicio 2:\n",
        "- Mostrar el tamaño de DataFrame."
      ]
    },
    {
      "cell_type": "code",
      "execution_count": null,
      "id": "2db0252b",
      "metadata": {
        "id": "2db0252b"
      },
      "outputs": [],
      "source": []
    },
    {
      "cell_type": "code",
      "execution_count": null,
      "id": "42dbfe68",
      "metadata": {
        "id": "42dbfe68"
      },
      "outputs": [],
      "source": []
    },
    {
      "cell_type": "code",
      "execution_count": null,
      "id": "81fdee15",
      "metadata": {
        "id": "81fdee15"
      },
      "outputs": [],
      "source": []
    },
    {
      "cell_type": "markdown",
      "id": "df0584c6",
      "metadata": {
        "id": "df0584c6"
      },
      "source": [
        "### Ejercicio 3:\n",
        "- Mostrar las primeras 3 filas."
      ]
    },
    {
      "cell_type": "code",
      "execution_count": null,
      "id": "94b2f4c4",
      "metadata": {
        "id": "94b2f4c4"
      },
      "outputs": [],
      "source": []
    },
    {
      "cell_type": "code",
      "execution_count": null,
      "id": "d6d61967",
      "metadata": {
        "id": "d6d61967"
      },
      "outputs": [],
      "source": []
    },
    {
      "cell_type": "code",
      "execution_count": null,
      "id": "93562c3f",
      "metadata": {
        "id": "93562c3f"
      },
      "outputs": [],
      "source": []
    },
    {
      "cell_type": "markdown",
      "id": "014adda6",
      "metadata": {
        "id": "014adda6"
      },
      "source": [
        "### Ejercicio 4:\n",
        "- Mostrar las últimas 10 filas."
      ]
    },
    {
      "cell_type": "code",
      "execution_count": null,
      "id": "f1c89817",
      "metadata": {
        "id": "f1c89817"
      },
      "outputs": [],
      "source": []
    },
    {
      "cell_type": "code",
      "execution_count": null,
      "id": "8efddb4f",
      "metadata": {
        "id": "8efddb4f"
      },
      "outputs": [],
      "source": []
    },
    {
      "cell_type": "code",
      "execution_count": null,
      "id": "74307044",
      "metadata": {
        "id": "74307044"
      },
      "outputs": [],
      "source": []
    },
    {
      "cell_type": "markdown",
      "id": "b904d434",
      "metadata": {
        "id": "b904d434"
      },
      "source": [
        "### Ejercicio 5:\n",
        "- Mostrar las estadisticas del DataFrame."
      ]
    },
    {
      "cell_type": "code",
      "execution_count": null,
      "id": "0b24ce9b",
      "metadata": {
        "id": "0b24ce9b"
      },
      "outputs": [],
      "source": []
    },
    {
      "cell_type": "code",
      "execution_count": null,
      "id": "92a6bd56",
      "metadata": {
        "id": "92a6bd56"
      },
      "outputs": [],
      "source": []
    },
    {
      "cell_type": "code",
      "execution_count": null,
      "id": "98bd2376",
      "metadata": {
        "id": "98bd2376"
      },
      "outputs": [],
      "source": []
    },
    {
      "cell_type": "markdown",
      "id": "6d92361f",
      "metadata": {
        "id": "6d92361f"
      },
      "source": [
        "### Ejercicio 6:\n",
        "- Mostrar la información del DataFrame."
      ]
    },
    {
      "cell_type": "code",
      "execution_count": null,
      "id": "316761a0",
      "metadata": {
        "id": "316761a0"
      },
      "outputs": [],
      "source": []
    },
    {
      "cell_type": "code",
      "execution_count": null,
      "id": "8a67d56e",
      "metadata": {
        "id": "8a67d56e"
      },
      "outputs": [],
      "source": []
    },
    {
      "cell_type": "code",
      "execution_count": null,
      "id": "705f487c",
      "metadata": {
        "id": "705f487c"
      },
      "outputs": [],
      "source": []
    },
    {
      "cell_type": "markdown",
      "id": "07ffcabf",
      "metadata": {
        "id": "07ffcabf"
      },
      "source": [
        "### Ejercicio 7:\n",
        "- Mostar las columnas del DataFrame en una lista."
      ]
    },
    {
      "cell_type": "code",
      "execution_count": null,
      "id": "db3f22d0",
      "metadata": {
        "id": "db3f22d0"
      },
      "outputs": [],
      "source": []
    },
    {
      "cell_type": "code",
      "execution_count": null,
      "id": "c6f75b90",
      "metadata": {
        "id": "c6f75b90"
      },
      "outputs": [],
      "source": []
    },
    {
      "cell_type": "code",
      "execution_count": null,
      "id": "2f0201e5",
      "metadata": {
        "id": "2f0201e5"
      },
      "outputs": [],
      "source": []
    },
    {
      "cell_type": "markdown",
      "id": "ce8b768b",
      "metadata": {
        "id": "ce8b768b"
      },
      "source": [
        "### Ejercicio 8:\n",
        "- Eliminar las columnas: **`Tipo`**, **`Area`** y **`Region`**."
      ]
    },
    {
      "cell_type": "code",
      "execution_count": null,
      "id": "ff5ae623",
      "metadata": {
        "id": "ff5ae623"
      },
      "outputs": [],
      "source": []
    },
    {
      "cell_type": "code",
      "execution_count": null,
      "id": "797070a3",
      "metadata": {
        "id": "797070a3"
      },
      "outputs": [],
      "source": []
    },
    {
      "cell_type": "code",
      "execution_count": null,
      "id": "99f73703",
      "metadata": {
        "id": "99f73703"
      },
      "outputs": [],
      "source": []
    },
    {
      "cell_type": "markdown",
      "id": "b16f92b6",
      "metadata": {
        "id": "b16f92b6"
      },
      "source": [
        "### Ejercicio 9:\n",
        "- Obtener los valores únicos de la columna **`Continente`** en una lista."
      ]
    },
    {
      "cell_type": "code",
      "execution_count": null,
      "id": "186d61ef",
      "metadata": {
        "id": "186d61ef"
      },
      "outputs": [],
      "source": []
    },
    {
      "cell_type": "code",
      "execution_count": null,
      "id": "6672319e",
      "metadata": {
        "id": "6672319e"
      },
      "outputs": [],
      "source": []
    },
    {
      "cell_type": "code",
      "execution_count": null,
      "id": "d9dcfc12",
      "metadata": {
        "id": "d9dcfc12"
      },
      "outputs": [],
      "source": []
    },
    {
      "cell_type": "markdown",
      "id": "9a727b01",
      "metadata": {
        "id": "9a727b01"
      },
      "source": [
        "### Ejercicio 10:\n",
        "- Obtener el valor minimo del año 2000."
      ]
    },
    {
      "cell_type": "code",
      "execution_count": null,
      "id": "bf6e133c",
      "metadata": {
        "id": "bf6e133c"
      },
      "outputs": [],
      "source": []
    },
    {
      "cell_type": "code",
      "execution_count": null,
      "id": "29261da6",
      "metadata": {
        "id": "29261da6"
      },
      "outputs": [],
      "source": []
    },
    {
      "cell_type": "code",
      "execution_count": null,
      "id": "5a8192f4",
      "metadata": {
        "id": "5a8192f4"
      },
      "outputs": [],
      "source": []
    },
    {
      "cell_type": "markdown",
      "id": "f69b79a4",
      "metadata": {
        "id": "f69b79a4"
      },
      "source": [
        "### Ejercicio 11:\n",
        "- Obtener los valores máximos de 1991-2000."
      ]
    },
    {
      "cell_type": "code",
      "execution_count": null,
      "id": "76a62126",
      "metadata": {
        "id": "76a62126"
      },
      "outputs": [],
      "source": []
    },
    {
      "cell_type": "code",
      "execution_count": null,
      "id": "8418ad5a",
      "metadata": {
        "id": "8418ad5a"
      },
      "outputs": [],
      "source": []
    },
    {
      "cell_type": "code",
      "execution_count": null,
      "id": "7249bdc0",
      "metadata": {
        "id": "7249bdc0"
      },
      "outputs": [],
      "source": []
    },
    {
      "cell_type": "markdown",
      "id": "fa13aa92",
      "metadata": {
        "id": "fa13aa92"
      },
      "source": [
        "### Ejercicio 12:\n",
        "- Obtener una lista con la media de migración de todos los años."
      ]
    },
    {
      "cell_type": "code",
      "execution_count": null,
      "id": "1b79ff80",
      "metadata": {
        "id": "1b79ff80"
      },
      "outputs": [],
      "source": []
    },
    {
      "cell_type": "code",
      "execution_count": null,
      "id": "de588efd",
      "metadata": {
        "id": "de588efd"
      },
      "outputs": [],
      "source": []
    },
    {
      "cell_type": "code",
      "execution_count": null,
      "id": "dd50593a",
      "metadata": {
        "id": "dd50593a"
      },
      "outputs": [],
      "source": []
    },
    {
      "cell_type": "markdown",
      "id": "0164287c",
      "metadata": {
        "id": "0164287c"
      },
      "source": [
        "### Ejercicio 13:\n",
        "- Obtener el país con más migración en el año 2010."
      ]
    },
    {
      "cell_type": "code",
      "execution_count": null,
      "id": "2290d25f",
      "metadata": {
        "id": "2290d25f"
      },
      "outputs": [],
      "source": []
    },
    {
      "cell_type": "code",
      "execution_count": null,
      "id": "e5045095",
      "metadata": {
        "id": "e5045095"
      },
      "outputs": [],
      "source": []
    },
    {
      "cell_type": "code",
      "execution_count": null,
      "id": "a5a11e9a",
      "metadata": {
        "id": "a5a11e9a"
      },
      "outputs": [],
      "source": []
    },
    {
      "cell_type": "markdown",
      "id": "fb9eaad8",
      "metadata": {
        "id": "fb9eaad8"
      },
      "source": [
        "### Ejercicio 14\n",
        "- Obtener el país con menor migración en el año 2005."
      ]
    },
    {
      "cell_type": "code",
      "execution_count": null,
      "id": "a89d4035",
      "metadata": {
        "id": "a89d4035"
      },
      "outputs": [],
      "source": []
    },
    {
      "cell_type": "code",
      "execution_count": null,
      "id": "9d0a68c1",
      "metadata": {
        "id": "9d0a68c1"
      },
      "outputs": [],
      "source": []
    },
    {
      "cell_type": "code",
      "execution_count": null,
      "id": "7accc134",
      "metadata": {
        "id": "7accc134"
      },
      "outputs": [],
      "source": []
    },
    {
      "cell_type": "markdown",
      "id": "4c278ad5",
      "metadata": {
        "id": "4c278ad5"
      },
      "source": [
        "### Ejercicio 15:\n",
        "- Encuentra el año en que más migración hubo de España a Canada."
      ]
    },
    {
      "cell_type": "code",
      "execution_count": null,
      "id": "e03798c0",
      "metadata": {
        "id": "e03798c0"
      },
      "outputs": [],
      "source": []
    },
    {
      "cell_type": "code",
      "execution_count": null,
      "id": "2abd75b5",
      "metadata": {
        "id": "2abd75b5"
      },
      "outputs": [],
      "source": []
    },
    {
      "cell_type": "code",
      "execution_count": null,
      "id": "a02f4b50",
      "metadata": {
        "id": "a02f4b50"
      },
      "outputs": [],
      "source": []
    },
    {
      "cell_type": "markdown",
      "id": "23cc5be8",
      "metadata": {
        "id": "23cc5be8"
      },
      "source": [
        "### Ejercicio 16:\n",
        "- Encuentra el año en que menor migración hubo de España a Canada."
      ]
    },
    {
      "cell_type": "code",
      "execution_count": null,
      "id": "bd71d1ae",
      "metadata": {
        "id": "bd71d1ae"
      },
      "outputs": [],
      "source": []
    },
    {
      "cell_type": "code",
      "execution_count": null,
      "id": "120e2cd7",
      "metadata": {
        "id": "120e2cd7"
      },
      "outputs": [],
      "source": []
    },
    {
      "cell_type": "code",
      "execution_count": null,
      "id": "062f7529",
      "metadata": {
        "id": "062f7529"
      },
      "outputs": [],
      "source": []
    },
    {
      "cell_type": "markdown",
      "id": "8298f80b",
      "metadata": {
        "id": "8298f80b"
      },
      "source": [
        "### Ejercicio 17:\n",
        "- Ordena en una lista los años de migración en España de menor a mayor de acuerdo a la información de cada año."
      ]
    },
    {
      "cell_type": "code",
      "execution_count": null,
      "id": "abafb8ee",
      "metadata": {
        "id": "abafb8ee"
      },
      "outputs": [],
      "source": []
    },
    {
      "cell_type": "code",
      "execution_count": null,
      "id": "b79e4846",
      "metadata": {
        "id": "b79e4846"
      },
      "outputs": [],
      "source": []
    },
    {
      "cell_type": "code",
      "execution_count": null,
      "id": "53b1a728",
      "metadata": {
        "id": "53b1a728"
      },
      "outputs": [],
      "source": []
    },
    {
      "cell_type": "markdown",
      "id": "4d895b14",
      "metadata": {
        "id": "4d895b14"
      },
      "source": [
        "### Ejercicio 18:\n",
        "- Crea una lista con todos los países."
      ]
    },
    {
      "cell_type": "code",
      "execution_count": null,
      "id": "16be4e85",
      "metadata": {
        "id": "16be4e85"
      },
      "outputs": [],
      "source": []
    },
    {
      "cell_type": "code",
      "execution_count": null,
      "id": "5ac6396a",
      "metadata": {
        "id": "5ac6396a"
      },
      "outputs": [],
      "source": []
    },
    {
      "cell_type": "code",
      "execution_count": null,
      "id": "69a9a9d2",
      "metadata": {
        "id": "69a9a9d2"
      },
      "outputs": [],
      "source": []
    },
    {
      "cell_type": "markdown",
      "id": "ed58810b",
      "metadata": {
        "id": "ed58810b"
      },
      "source": [
        "### Ejercicio 19:\n",
        "- Encuentra el número de paises por continente y agrega los nombres a un diccionario.\n",
        "    - Ejemplo: **`{\"Asía\" : 20, \"Africa\" : 10, \"Europa\" : 5}`**"
      ]
    },
    {
      "cell_type": "code",
      "execution_count": null,
      "id": "b46d1fb2",
      "metadata": {
        "id": "b46d1fb2"
      },
      "outputs": [],
      "source": []
    },
    {
      "cell_type": "code",
      "execution_count": null,
      "id": "dd70064a",
      "metadata": {
        "id": "dd70064a"
      },
      "outputs": [],
      "source": []
    },
    {
      "cell_type": "code",
      "execution_count": null,
      "id": "982d20b0",
      "metadata": {
        "id": "982d20b0"
      },
      "outputs": [],
      "source": []
    },
    {
      "cell_type": "markdown",
      "id": "c353ddef",
      "metadata": {
        "id": "c353ddef"
      },
      "source": [
        "### Ejercicio 20:\n",
        "- Crea un DataFrame a partir del diccionario anterior."
      ]
    },
    {
      "cell_type": "code",
      "execution_count": null,
      "id": "9d394ba0",
      "metadata": {
        "id": "9d394ba0"
      },
      "outputs": [],
      "source": []
    },
    {
      "cell_type": "code",
      "execution_count": null,
      "id": "4746538a",
      "metadata": {
        "id": "4746538a"
      },
      "outputs": [],
      "source": []
    },
    {
      "cell_type": "code",
      "execution_count": null,
      "id": "65300975",
      "metadata": {
        "id": "65300975"
      },
      "outputs": [],
      "source": []
    },
    {
      "cell_type": "markdown",
      "id": "efb22aae",
      "metadata": {
        "id": "efb22aae"
      },
      "source": [
        "### Ejercicio 21:\n",
        "- Repite los últimos dos ejercicios tomando en cuenta que america latina y america del norte son un solo continente."
      ]
    },
    {
      "cell_type": "code",
      "execution_count": null,
      "id": "f81d26d0",
      "metadata": {
        "id": "f81d26d0"
      },
      "outputs": [],
      "source": []
    },
    {
      "cell_type": "code",
      "execution_count": null,
      "id": "71994f5b",
      "metadata": {
        "id": "71994f5b"
      },
      "outputs": [],
      "source": []
    },
    {
      "cell_type": "code",
      "execution_count": null,
      "id": "ea854e82",
      "metadata": {
        "id": "ea854e82"
      },
      "outputs": [],
      "source": []
    },
    {
      "cell_type": "markdown",
      "id": "352092b8",
      "metadata": {
        "id": "352092b8"
      },
      "source": [
        "### Ejercicio 22:\n",
        "- Crea un DataFrame por continente y en cada DataFrame apareceran los paises de dicho contiente.\n",
        "- Muestra las 3 primeras filas de cada DataFrame."
      ]
    },
    {
      "cell_type": "code",
      "execution_count": null,
      "id": "e497217a",
      "metadata": {
        "id": "e497217a"
      },
      "outputs": [],
      "source": []
    },
    {
      "cell_type": "code",
      "execution_count": null,
      "id": "2fc6a13c",
      "metadata": {
        "id": "2fc6a13c"
      },
      "outputs": [],
      "source": []
    },
    {
      "cell_type": "code",
      "execution_count": null,
      "id": "6da4abfd",
      "metadata": {
        "id": "6da4abfd"
      },
      "outputs": [],
      "source": []
    },
    {
      "cell_type": "markdown",
      "id": "a3eeb181",
      "metadata": {
        "id": "a3eeb181"
      },
      "source": [
        "### Ejercicio 23:\n",
        "- Obtener los valores maximos de migración de cada año y crea un DataFrame con los años y el número de migración máximo de cada año.\n",
        "\n",
        "|     |Año |Numero de Migrantes|\n",
        "|-----|----|-------------------|\n",
        "|**0**|1980|22045              |\n",
        "|**1**|1981|24796              |\n",
        "|**2**|1982|20620              |\n",
        "|**3**|1983|10015              |\n",
        "|**4**|1984|10170              |"
      ]
    },
    {
      "cell_type": "code",
      "execution_count": null,
      "id": "5af864f2",
      "metadata": {
        "id": "5af864f2"
      },
      "outputs": [],
      "source": []
    },
    {
      "cell_type": "code",
      "execution_count": null,
      "id": "e36ee9b2",
      "metadata": {
        "id": "e36ee9b2"
      },
      "outputs": [],
      "source": []
    },
    {
      "cell_type": "code",
      "execution_count": null,
      "id": "7d1d6125",
      "metadata": {
        "id": "7d1d6125"
      },
      "outputs": [],
      "source": []
    },
    {
      "cell_type": "markdown",
      "id": "8d762598",
      "metadata": {
        "id": "8d762598"
      },
      "source": [
        "### Ejercicio 24:\n",
        "- Ordenar por número mayor de migración a menor el DataFrame anterior."
      ]
    },
    {
      "cell_type": "code",
      "execution_count": null,
      "id": "8ebae29e",
      "metadata": {
        "id": "8ebae29e"
      },
      "outputs": [],
      "source": []
    },
    {
      "cell_type": "code",
      "execution_count": null,
      "id": "aa5dd93a",
      "metadata": {
        "id": "aa5dd93a"
      },
      "outputs": [],
      "source": []
    },
    {
      "cell_type": "code",
      "execution_count": null,
      "id": "5f4a6b96",
      "metadata": {
        "id": "5f4a6b96"
      },
      "outputs": [],
      "source": []
    },
    {
      "cell_type": "markdown",
      "id": "ebde50e8",
      "metadata": {
        "id": "ebde50e8"
      },
      "source": [
        "### Ejercicio 25:\n",
        "- Obtener el promedio y la mediana de cada año de migración y agregar al dataframe anterior."
      ]
    },
    {
      "cell_type": "code",
      "execution_count": null,
      "id": "b9c7efee",
      "metadata": {
        "id": "b9c7efee"
      },
      "outputs": [],
      "source": []
    },
    {
      "cell_type": "code",
      "execution_count": null,
      "id": "84d977ad",
      "metadata": {
        "id": "84d977ad"
      },
      "outputs": [],
      "source": []
    },
    {
      "cell_type": "code",
      "execution_count": null,
      "id": "0f5c3554",
      "metadata": {
        "id": "0f5c3554"
      },
      "outputs": [],
      "source": []
    },
    {
      "cell_type": "markdown",
      "id": "331277c1",
      "metadata": {
        "id": "331277c1"
      },
      "source": [
        "### Ejercicio 26:\n",
        "- Encontrar el año en que hubo más migración por continente y crear un dataframe con nombre de continente, el año de máxima migración y cantidad de migración.\n",
        "\n",
        "|\t  |Continente|Año |Migraciones|\n",
        "|-----|----------|----|-----------|\n",
        "|**0**|Asia\t     |2005|42584      |\n",
        "|**1**|Europe\t |1994|39231      |\n",
        "|**2**|Africa\t |2010|6242       |\n",
        "|**3**|Oceania\t |1992|1782       |\n",
        "|**4**|America\t |2008|10190      |"
      ]
    },
    {
      "cell_type": "code",
      "execution_count": null,
      "id": "f5408938",
      "metadata": {
        "id": "f5408938"
      },
      "outputs": [],
      "source": []
    },
    {
      "cell_type": "code",
      "execution_count": null,
      "id": "b2ed28a8",
      "metadata": {
        "id": "b2ed28a8"
      },
      "outputs": [],
      "source": []
    },
    {
      "cell_type": "code",
      "execution_count": null,
      "id": "5cfd000f",
      "metadata": {
        "id": "5cfd000f"
      },
      "outputs": [],
      "source": []
    },
    {
      "cell_type": "markdown",
      "id": "5626edb6",
      "metadata": {
        "id": "5626edb6"
      },
      "source": [
        "### Ejercicio 27:\n",
        "- Encontrar los 10 paises con más migración entre el 2008 y 2010.\n",
        "\n",
        "|       |Pais                                             |2008 |2009 |\t2010|migracion_2010|\n",
        "|-------|-------------------------------------------------|-----|-----|-----|--------------|\n",
        "|**136**|Philippines                                      |24887|28573|38617|         92077|\n",
        "|**79** |India                                            |28261|29456|34235|         91952|\n",
        "|**36** |China                                            |30037|29622|30391|         90050|\n",
        "|**185**|United States of America                         |10190|8995 |8142 |         27327|\n",
        "|**183**|United Kingdom of Great Britain and Northern I...|8979 |8876 |8724 |         26579|\n",
        "|**130**|Pakistan                                         |8994 |7217 |6811 |         23022|\n",
        "|**81** |Iran (Islamic Republic of)                       |6475 |6580 |7477 |         20532|\n",
        "|**140**|Republic of Korea                                |7294 |5874 |5537 |         18705|\n",
        "|**116**|Morocco                                          |4226 |5532 |6242 |         16000|\n",
        "|**39** |Colombia                                         |5452 |4652 |5218 |         15322|"
      ]
    },
    {
      "cell_type": "code",
      "execution_count": null,
      "id": "9564a261",
      "metadata": {
        "id": "9564a261"
      },
      "outputs": [],
      "source": []
    },
    {
      "cell_type": "code",
      "execution_count": null,
      "id": "05ec9a6b",
      "metadata": {
        "id": "05ec9a6b"
      },
      "outputs": [],
      "source": []
    },
    {
      "cell_type": "code",
      "execution_count": null,
      "id": "0d340ed7",
      "metadata": {
        "id": "0d340ed7"
      },
      "outputs": [],
      "source": []
    },
    {
      "cell_type": "markdown",
      "id": "633e5bba",
      "metadata": {
        "id": "633e5bba"
      },
      "source": [
        "### Ejercicio 28:\n",
        "- Agregar una columna al DataFrame inicial con el número total de migración de 1980 al 2013 por pais."
      ]
    },
    {
      "cell_type": "code",
      "execution_count": null,
      "id": "cdb5c708",
      "metadata": {
        "id": "cdb5c708"
      },
      "outputs": [],
      "source": []
    },
    {
      "cell_type": "code",
      "execution_count": null,
      "id": "1a4fe325",
      "metadata": {
        "id": "1a4fe325"
      },
      "outputs": [],
      "source": []
    },
    {
      "cell_type": "code",
      "execution_count": null,
      "id": "2dc02780",
      "metadata": {
        "id": "2dc02780"
      },
      "outputs": [],
      "source": []
    },
    {
      "cell_type": "markdown",
      "id": "a90225d5",
      "metadata": {
        "id": "a90225d5"
      },
      "source": [
        "### Ejercicio 29:\n",
        "- Encuentra el país de cada continente con más migración y crea un DataFrame con estos paises."
      ]
    },
    {
      "cell_type": "code",
      "execution_count": null,
      "id": "6f754af4",
      "metadata": {
        "id": "6f754af4"
      },
      "outputs": [],
      "source": []
    },
    {
      "cell_type": "code",
      "execution_count": null,
      "id": "c6d32539",
      "metadata": {
        "id": "c6d32539"
      },
      "outputs": [],
      "source": []
    },
    {
      "cell_type": "code",
      "execution_count": null,
      "id": "34754a0c",
      "metadata": {
        "id": "34754a0c"
      },
      "outputs": [],
      "source": []
    },
    {
      "cell_type": "markdown",
      "id": "bdc2ca60",
      "metadata": {
        "id": "bdc2ca60"
      },
      "source": [
        "### Ejercicio 30:\n",
        "- Encontrar los 3 paises con más migración de cada continente y agregarlos en un DataFrame.\n",
        "\n",
        "|       |Continente|Pais                                             |Total Migracion|\n",
        "|-------|----------|-------------------------------------------------|---------------|\n",
        "|**79**\t|Asia\t   |India                                            |691904         |\n",
        "|**36**\t|Asia\t   |China                                            |659962         |\n",
        "|**136**|Asia\t   |Philippines                                      |511391         |\n",
        "|**183**|Europa\t   |United Kingdom of Great Britain and Northern I...|551500         |\n",
        "|**137**|Europa\t   |Poland                                           |139241         |\n",
        "|**63**\t|Europa\t   |France                                           |109091         |\n",
        "|**55**\t|Africa\t   |Egypt                                            |72745          |\n",
        "|**116**|Africa\t   |Morocco                                          |72267          |\n",
        "|**2**\t|Africa\t   |Algeria                                          |69439          |\n",
        "|**9**\t|Oceania   |Australia                                        |23829          |\n",
        "|**61**\t|Oceania   |Fiji                                             |20609          |\n",
        "|**124**|Oceania   |New Zealand                                      |10386          |\n",
        "|**185**|America   |United States of America                         |241122         |\n",
        "|**86**\t|America   |Jamaica                                          |106431         |\n",
        "|**75**\t|America   |Haiti                                            |84813          |"
      ]
    },
    {
      "cell_type": "code",
      "execution_count": null,
      "id": "f0e48d98",
      "metadata": {
        "id": "f0e48d98"
      },
      "outputs": [],
      "source": []
    },
    {
      "cell_type": "code",
      "execution_count": null,
      "id": "21663cab",
      "metadata": {
        "id": "21663cab"
      },
      "outputs": [],
      "source": []
    },
    {
      "cell_type": "code",
      "execution_count": null,
      "id": "e8610e22",
      "metadata": {
        "id": "e8610e22"
      },
      "outputs": [],
      "source": []
    },
    {
      "cell_type": "markdown",
      "id": "4d6cf5ab",
      "metadata": {
        "id": "4d6cf5ab"
      },
      "source": [
        "### Ejercicio 31:\n",
        "- Cambiar los nombres de cada continente a español (utilizando un bucle for)."
      ]
    },
    {
      "cell_type": "code",
      "execution_count": null,
      "id": "2e9b6b20",
      "metadata": {
        "id": "2e9b6b20"
      },
      "outputs": [],
      "source": []
    },
    {
      "cell_type": "code",
      "execution_count": null,
      "id": "2b22cd50",
      "metadata": {
        "id": "2b22cd50"
      },
      "outputs": [],
      "source": []
    },
    {
      "cell_type": "code",
      "execution_count": null,
      "id": "36f3b7c5",
      "metadata": {
        "id": "36f3b7c5"
      },
      "outputs": [],
      "source": []
    },
    {
      "cell_type": "markdown",
      "id": "4c8b9454",
      "metadata": {
        "id": "4c8b9454"
      },
      "source": [
        "#### Extra: Obtener un DataFrame que te parezca relevante a partir de la aplicación de filtros. ¡Se creativo!"
      ]
    },
    {
      "cell_type": "code",
      "execution_count": null,
      "id": "d402393a",
      "metadata": {
        "id": "d402393a"
      },
      "outputs": [],
      "source": []
    },
    {
      "cell_type": "code",
      "execution_count": null,
      "id": "e274d687",
      "metadata": {
        "id": "e274d687"
      },
      "outputs": [],
      "source": []
    },
    {
      "cell_type": "code",
      "execution_count": null,
      "id": "7cbd4de9",
      "metadata": {
        "id": "7cbd4de9"
      },
      "outputs": [],
      "source": []
    }
  ],
  "metadata": {
    "kernelspec": {
      "display_name": "Python 3 (ipykernel)",
      "language": "python",
      "name": "python3"
    },
    "language_info": {
      "codemirror_mode": {
        "name": "ipython",
        "version": 3
      },
      "file_extension": ".py",
      "mimetype": "text/x-python",
      "name": "python",
      "nbconvert_exporter": "python",
      "pygments_lexer": "ipython3",
      "version": "3.9.12"
    },
    "colab": {
      "provenance": [],
      "include_colab_link": true
    }
  },
  "nbformat": 4,
  "nbformat_minor": 5
}