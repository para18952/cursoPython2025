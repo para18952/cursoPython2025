{
  "cells": [
    {
      "cell_type": "markdown",
      "metadata": {
        "id": "view-in-github",
        "colab_type": "text"
      },
      "source": [
        "<a href=\"https://colab.research.google.com/github/ednavivianasegura/ERAP_CursoPython/blob/main/Modulo1_b/12_transformaciones_imagen_numpy_matplotlib.ipynb\" target=\"_parent\"><img src=\"https://colab.research.google.com/assets/colab-badge.svg\" alt=\"Open In Colab\"/></a>"
      ]
    },
    {
      "cell_type": "markdown",
      "id": "aa19e290",
      "metadata": {
        "id": "aa19e290"
      },
      "source": [
        "# Transformaciones creativas de imágenes con NumPy y visualización con Matplotlib\n",
        "Este notebook aplica funciones matemáticas como seno, coseno y exponencial sobre imágenes binarias, y muestra el resultado con `matplotlib`."
      ]
    },
    {
      "cell_type": "code",
      "execution_count": null,
      "id": "99962c47",
      "metadata": {
        "colab": {
          "base_uri": "https://localhost:8080/"
        },
        "id": "99962c47",
        "outputId": "94c0eddb-1dbb-41d2-9563-e2e46ff937e1"
      },
      "outputs": [
        {
          "output_type": "stream",
          "name": "stdout",
          "text": [
            "Cloning into 'ERAP_CUrsoPython'...\n",
            "remote: Enumerating objects: 235, done.\u001b[K\n",
            "remote: Counting objects: 100% (52/52), done.\u001b[K\n",
            "remote: Compressing objects: 100% (44/44), done.\u001b[K\n",
            "remote: Total 235 (delta 30), reused 7 (delta 7), pack-reused 183 (from 1)\u001b[K\n",
            "Receiving objects: 100% (235/235), 12.69 MiB | 5.03 MiB/s, done.\n",
            "Resolving deltas: 100% (91/91), done.\n",
            "Updating files: 100% (71/71), done.\n"
          ]
        }
      ],
      "source": [
        "!git clone https://github.com/ednavivianasegura/ERAP_CUrsoPython.git\n",
        "\n",
        "from PIL import Image\n",
        "import numpy as np\n",
        "import matplotlib.pyplot as plt\n",
        "\n"
      ]
    },
    {
      "cell_type": "code",
      "source": [
        "#Configurar el path de las imágenes:\n",
        "file_path=\"/content/ERAP_CUrsoPython/Modulo1_b/\""
      ],
      "metadata": {
        "id": "y-gmqvlEWDpp"
      },
      "id": "y-gmqvlEWDpp",
      "execution_count": null,
      "outputs": []
    },
    {
      "cell_type": "markdown",
      "id": "3828eda1",
      "metadata": {
        "id": "3828eda1"
      },
      "source": [
        "## 1. Cargar imagen y convertirla en matriz binaria"
      ]
    },
    {
      "cell_type": "code",
      "execution_count": null,
      "id": "e8a769e1",
      "metadata": {
        "colab": {
          "base_uri": "https://localhost:8080/",
          "height": 428
        },
        "id": "e8a769e1",
        "outputId": "3f8f3263-a080-4ed7-c9f2-4bbff3729f57"
      },
      "outputs": [
        {
          "output_type": "display_data",
          "data": {
            "text/plain": [
              "<Figure size 640x480 with 1 Axes>"
            ],
            "image/png": "[encoded data removed]"
          },
          "metadata": {}
        }
      ],
      "source": [
        "imagen = Image.open(file_path+\"letra_A.jpg\").convert(\"L\")\n",
        "imagen = imagen.resize((32, 32))\n",
        "arr = np.array(imagen)\n",
        "binaria = (arr > 128).astype(float)\n",
        "plt.imshow(binaria, cmap=\"gray\")\n",
        "plt.title(\"Imagen binaria original\")\n",
        "plt.axis(\"off\")\n",
        "plt.show()\n"
      ]
    },
    {
      "cell_type": "markdown",
      "id": "17148354",
      "metadata": {
        "id": "17148354"
      },
      "source": [
        "## 2. Modulación senoidal vertical"
      ]
    },
    {
      "cell_type": "code",
      "execution_count": null,
      "id": "d6c14c41",
      "metadata": {
        "colab": {
          "base_uri": "https://localhost:8080/",
          "height": 428
        },
        "id": "d6c14c41",
        "outputId": "b9b6a50c-18e0-414d-f5c1-999f6691449a"
      },
      "outputs": [
        {
          "output_type": "display_data",
          "data": {
            "text/plain": [
              "<Figure size 640x480 with 1 Axes>"
            ],
            "image/png": "[encoded data removed]"
          },
          "metadata": {}
        }
      ],
      "source": [
        "def onda_seno(imagen, frecuencia=0.01):\n",
        "    alto, ancho = imagen.shape\n",
        "    y = np.arange(alto).reshape(-1, 1)\n",
        "    mod_sin = np.sin(frecuencia * y)\n",
        "    return (imagen * mod_sin).clip(0, 1)\n",
        "\n",
        "resultado = onda_seno(binaria)\n",
        "plt.imshow(resultado, cmap=\"gray\")\n",
        "plt.title(\"Onda senoidal vertical\")\n",
        "plt.axis(\"off\")\n",
        "plt.show()\n"
      ]
    },
    {
      "cell_type": "markdown",
      "id": "f0bb0878",
      "metadata": {
        "id": "f0bb0878"
      },
      "source": [
        "## 3. Ruido senoidal (interferencia visual)"
      ]
    },
    {
      "cell_type": "code",
      "execution_count": null,
      "id": "315f8131",
      "metadata": {
        "colab": {
          "base_uri": "https://localhost:8080/",
          "height": 428
        },
        "id": "315f8131",
        "outputId": "de775bd9-3069-4e6f-9e85-dddc07d18c8e"
      },
      "outputs": [
        {
          "output_type": "display_data",
          "data": {
            "text/plain": [
              "<Figure size 640x480 with 1 Axes>"
            ],
            "image/png": "[encoded data removed]"
          },
          "metadata": {}
        }
      ],
      "source": [
        "def ruido_periodico(imagen, frecuencia=1.5):\n",
        "    alto, ancho = imagen.shape\n",
        "    x = np.linspace(0, np.pi * 2, ancho)\n",
        "    y = np.linspace(0, np.pi * 2, alto)\n",
        "    xv, yv = np.meshgrid(x, y)\n",
        "    ruido = 0.5 + 0.5 * np.cos(frecuencia * (xv + yv))\n",
        "    return (imagen * ruido).clip(0, 1)\n",
        "\n",
        "resultado = ruido_periodico(binaria)\n",
        "plt.imshow(resultado, cmap=\"gray\")\n",
        "plt.title(\"Ruido senoidal\")\n",
        "plt.axis(\"off\")\n",
        "plt.show()\n"
      ]
    },
    {
      "cell_type": "markdown",
      "id": "7da9d764",
      "metadata": {
        "id": "7da9d764"
      },
      "source": [
        "## 4. Máscara circular"
      ]
    },
    {
      "cell_type": "code",
      "execution_count": null,
      "id": "e45a413c",
      "metadata": {
        "colab": {
          "base_uri": "https://localhost:8080/",
          "height": 428
        },
        "id": "e45a413c",
        "outputId": "929be99f-9b5a-476a-b0d9-d2f9386c3799"
      },
      "outputs": [
        {
          "output_type": "display_data",
          "data": {
            "text/plain": [
              "<Figure size 640x480 with 1 Axes>"
            ],
            "image/png": "[encoded data removed]"
          },
          "metadata": {}
        }
      ],
      "source": [
        "def mascara_circular(imagen):\n",
        "    alto, ancho = imagen.shape\n",
        "    y, x = np.ogrid[:alto, :ancho]\n",
        "    cx, cy = ancho // 2, alto // 2\n",
        "    distancia = np.sqrt((x - cx)**2 + (y - cy)**2)\n",
        "    radio = min(cx, cy)\n",
        "    mascara = (distancia < radio).astype(float)\n",
        "    return imagen * mascara\n",
        "\n",
        "resultado = mascara_circular(binaria)\n",
        "plt.imshow(resultado, cmap=\"gray\")\n",
        "plt.title(\"Máscara circular\")\n",
        "plt.axis(\"off\")\n",
        "plt.show()\n"
      ]
    },
    {
      "cell_type": "markdown",
      "id": "3d017d2f",
      "metadata": {
        "id": "3d017d2f"
      },
      "source": [
        "## 5. Ondas concéntricas"
      ]
    },
    {
      "cell_type": "code",
      "execution_count": null,
      "id": "6990a9a5",
      "metadata": {
        "colab": {
          "base_uri": "https://localhost:8080/",
          "height": 428
        },
        "id": "6990a9a5",
        "outputId": "aa84f46a-b81c-4f58-c75e-b918c3b802f8"
      },
      "outputs": [
        {
          "output_type": "display_data",
          "data": {
            "text/plain": [
              "<Figure size 640x480 with 1 Axes>"
            ],
            "image/png": "[encoded data removed]"
          },
          "metadata": {}
        }
      ],
      "source": [
        "def onda_concentrica(imagen, frecuencia=0.3):\n",
        "    alto, ancho = imagen.shape\n",
        "    y, x = np.ogrid[:alto, :ancho]\n",
        "    cx, cy = ancho // 2, alto // 2\n",
        "    distancia = np.sqrt((x - cx)**2 + (y - cy)**2)\n",
        "    ondas = 0.5 + 0.5 * np.sin(distancia * frecuencia)\n",
        "    return (imagen * ondas).clip(0, 1)\n",
        "\n",
        "resultado = onda_concentrica(binaria)\n",
        "plt.imshow(resultado, cmap=\"gray\")\n",
        "plt.title(\"Ondas concéntricas\")\n",
        "plt.axis(\"off\")\n",
        "plt.show()\n"
      ]
    },
    {
      "cell_type": "code",
      "execution_count": null,
      "id": "ca075034-080e-4a31-8fde-829390a94fd1",
      "metadata": {
        "id": "ca075034-080e-4a31-8fde-829390a94fd1"
      },
      "outputs": [],
      "source": []
    }
  ],
  "metadata": {
    "kernelspec": {
      "display_name": "Python 3 (ipykernel)",
      "language": "python",
      "name": "python3"
    },
    "language_info": {
      "codemirror_mode": {
        "name": "ipython",
        "version": 3
      },
      "file_extension": ".py",
      "mimetype": "text/x-python",
      "name": "python",
      "nbconvert_exporter": "python",
      "pygments_lexer": "ipython3",
      "version": "3.13.2"
    },
    "colab": {
      "provenance": [],
      "include_colab_link": true
    }
  },
  "nbformat": 4,
  "nbformat_minor": 5
}