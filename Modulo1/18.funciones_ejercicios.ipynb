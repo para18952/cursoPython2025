{
  "cells": [
    {
      "cell_type": "markdown",
      "metadata": {
        "id": "view-in-github",
        "colab_type": "text"
      },
      "source": [
        "<a href=\"https://colab.research.google.com/github/para18952/cursoPython2025/blob/dia_2/Modulo1/18.funciones_ejercicios.ipynb\" target=\"_parent\"><img src=\"https://colab.research.google.com/assets/colab-badge.svg\" alt=\"Open In Colab\"/></a>"
      ]
    },
    {
      "cell_type": "markdown",
      "id": "617e80df",
      "metadata": {
        "id": "617e80df"
      },
      "source": [
        "### Funciones ejercicios"
      ]
    },
    {
      "cell_type": "markdown",
      "id": "9ff17fdc",
      "metadata": {
        "id": "9ff17fdc"
      },
      "source": [
        "### Ejercicio 1\n",
        "- Crea una función que retorne el minimo de 2 números, no puedes usar la función **`min()`**."
      ]
    },
    {
      "cell_type": "code",
      "execution_count": 1,
      "id": "b2988ac2",
      "metadata": {
        "id": "b2988ac2",
        "colab": {
          "base_uri": "https://localhost:8080/"
        },
        "outputId": "ea78abfa-6484-46cc-dbce-2b25640e0136"
      },
      "outputs": [
        {
          "output_type": "execute_result",
          "data": {
            "text/plain": [
              "3"
            ]
          },
          "metadata": {},
          "execution_count": 1
        }
      ],
      "source": [
        "minim = lambda x, y: x if x < y else y\n",
        "minim(3,4)"
      ]
    },
    {
      "cell_type": "code",
      "source": [
        "def minim (x,y):\n",
        "  if x <= y : return x\n",
        "  else : return y\n",
        "minim(3,4)"
      ],
      "metadata": {
        "id": "DwOAKrsWFdVz",
        "outputId": "089976c4-c97a-4fc4-c86a-c3c1e010b691",
        "colab": {
          "base_uri": "https://localhost:8080/"
        }
      },
      "id": "DwOAKrsWFdVz",
      "execution_count": 12,
      "outputs": [
        {
          "output_type": "execute_result",
          "data": {
            "text/plain": [
              "3"
            ]
          },
          "metadata": {},
          "execution_count": 12
        }
      ]
    },
    {
      "cell_type": "markdown",
      "id": "299d07e1",
      "metadata": {
        "id": "299d07e1"
      },
      "source": [
        "### Ejercicio 2\n",
        "- Crea una función que tenga como parametro de entrada 4 números y devuelva la suma y multiplicación de dichos números en dos variables."
      ]
    },
    {
      "cell_type": "code",
      "execution_count": 2,
      "id": "29dc4315",
      "metadata": {
        "id": "29dc4315",
        "colab": {
          "base_uri": "https://localhost:8080/"
        },
        "outputId": "7df74850-8855-4aa3-e7f2-811f90f0c419"
      },
      "outputs": [
        {
          "output_type": "execute_result",
          "data": {
            "text/plain": [
              "(10, 24)"
            ]
          },
          "metadata": {},
          "execution_count": 2
        }
      ],
      "source": [
        "funcion = lambda a, b, c, d: (a+b+c+d, a*b*c*d)\n",
        "funcion(1,2,3,4)"
      ]
    },
    {
      "cell_type": "markdown",
      "id": "b33d16b5",
      "metadata": {
        "id": "b33d16b5"
      },
      "source": [
        "### Ejercicio 3\n",
        "- Crea una función que devuelva los dos números menores en forma de lista de 4 números."
      ]
    },
    {
      "cell_type": "code",
      "execution_count": 8,
      "id": "413447a6",
      "metadata": {
        "id": "413447a6",
        "colab": {
          "base_uri": "https://localhost:8080/"
        },
        "outputId": "c962c706-5fc9-4756-c882-2e4d0bbc8e5f"
      },
      "outputs": [
        {
          "output_type": "execute_result",
          "data": {
            "text/plain": [
              "[2, 3]"
            ]
          },
          "metadata": {},
          "execution_count": 8
        }
      ],
      "source": [
        "funcion = lambda a, b, c, d: sorted([a,b,c,d])[:2]\n",
        "funcion(5,2,3,4)"
      ]
    },
    {
      "cell_type": "markdown",
      "id": "b5b102ac",
      "metadata": {
        "id": "b5b102ac"
      },
      "source": [
        "### Ejercicio 4\n",
        "- Crea una función que devuelva los 10 números menores de una lista de 20 números aleatorios entre 10 y 50. (Recuerda importar la libreria)\n",
        "- La lista de número aleatorios se puede crear fuera o dentro de la función."
      ]
    },
    {
      "cell_type": "code",
      "execution_count": 10,
      "id": "6f33698b",
      "metadata": {
        "id": "6f33698b",
        "colab": {
          "base_uri": "https://localhost:8080/"
        },
        "outputId": "08908581-7f03-4cf9-a218-409b104dd35b"
      },
      "outputs": [
        {
          "output_type": "execute_result",
          "data": {
            "text/plain": [
              "[11, 20, 22, 22, 22, 26, 31, 33, 34, 34]"
            ]
          },
          "metadata": {},
          "execution_count": 10
        }
      ],
      "source": [
        "import random\n",
        "funcion = lambda: sorted([random.randint(10,50) for i in range(20)])[:10]\n",
        "funcion()"
      ]
    },
    {
      "cell_type": "markdown",
      "id": "af2c3e2a",
      "metadata": {
        "id": "af2c3e2a"
      },
      "source": [
        "### Ejercicio 5\n",
        "- Crea una función que realice la misma tarea que **`len()`**."
      ]
    },
    {
      "cell_type": "code",
      "execution_count": null,
      "id": "fd7e71ac",
      "metadata": {
        "id": "fd7e71ac"
      },
      "outputs": [],
      "source": []
    },
    {
      "cell_type": "code",
      "execution_count": null,
      "id": "d0271389",
      "metadata": {
        "id": "d0271389"
      },
      "outputs": [],
      "source": []
    },
    {
      "cell_type": "code",
      "execution_count": null,
      "id": "68d70a18",
      "metadata": {
        "id": "68d70a18"
      },
      "outputs": [],
      "source": []
    },
    {
      "cell_type": "markdown",
      "id": "16725232",
      "metadata": {
        "id": "16725232"
      },
      "source": [
        "### Ejercicio 6\n",
        "- Escribe una función que:\n",
        "- Tome como parametro de entrada una lista de números y letras\n",
        "- Convierta las letras a su forma en mayuscula.\n",
        "- Que calcule el cuadrado de los números\n",
        "- Que retorne ese resultado en una lista en el mismo orden.\n",
        "\n",
        "**Ejemplo:**\n",
        "\n",
        "**`entrada = [1, 2, 3, 4, \"a\", \"b\", \"c\", \"d\"]`**\n",
        "\n",
        "**`salida = [1, 4, 9, 16, \"A\", \"B\", \"C\", \"D\"]`**"
      ]
    },
    {
      "cell_type": "code",
      "execution_count": null,
      "id": "f47c456d",
      "metadata": {
        "id": "f47c456d"
      },
      "outputs": [],
      "source": []
    },
    {
      "cell_type": "code",
      "execution_count": null,
      "id": "ca5a46ed",
      "metadata": {
        "id": "ca5a46ed"
      },
      "outputs": [],
      "source": []
    },
    {
      "cell_type": "code",
      "execution_count": null,
      "id": "930c636a",
      "metadata": {
        "id": "930c636a"
      },
      "outputs": [],
      "source": []
    },
    {
      "cell_type": "markdown",
      "id": "b8061721",
      "metadata": {
        "id": "b8061721"
      },
      "source": [
        "### Ejercicio 7\n",
        "\n",
        "- Crea una funcion que reciba una lista de enteros y que retorne la misma lista sin numeros repetidos y ordenados."
      ]
    },
    {
      "cell_type": "code",
      "execution_count": null,
      "id": "3cb92788",
      "metadata": {
        "id": "3cb92788"
      },
      "outputs": [],
      "source": []
    },
    {
      "cell_type": "code",
      "execution_count": null,
      "id": "03e590e1",
      "metadata": {
        "id": "03e590e1"
      },
      "outputs": [],
      "source": []
    },
    {
      "cell_type": "code",
      "execution_count": null,
      "id": "e555b77e",
      "metadata": {
        "id": "e555b77e"
      },
      "outputs": [],
      "source": []
    },
    {
      "cell_type": "markdown",
      "id": "cd4a3b21",
      "metadata": {
        "id": "cd4a3b21"
      },
      "source": [
        "### Ejercicio 8\n",
        "- Dada una lista de numeros enteros, retornar cuantos numeros hay con un numero par de digitos."
      ]
    },
    {
      "cell_type": "code",
      "execution_count": null,
      "id": "ce211af8",
      "metadata": {
        "id": "ce211af8"
      },
      "outputs": [],
      "source": []
    },
    {
      "cell_type": "markdown",
      "id": "77e29947-68e8-4e36-a3bd-0021c7c109e5",
      "metadata": {
        "id": "77e29947-68e8-4e36-a3bd-0021c7c109e5"
      },
      "source": [
        "### Encriptando un mensaje"
      ]
    },
    {
      "cell_type": "code",
      "execution_count": null,
      "id": "2a9afbdd-b6c3-4437-b47e-d72e2ff45953",
      "metadata": {
        "id": "2a9afbdd-b6c3-4437-b47e-d72e2ff45953"
      },
      "outputs": [],
      "source": [
        "import random\n",
        "import unicodedata  # Para eliminar acentos"
      ]
    },
    {
      "cell_type": "code",
      "execution_count": null,
      "id": "908279a8-9afb-4c60-a6ca-36a906df2438",
      "metadata": {
        "id": "908279a8-9afb-4c60-a6ca-36a906df2438",
        "outputId": "6ed60c32-c9fb-44a6-f47e-320ef63faa0d"
      },
      "outputs": [
        {
          "name": "stdout",
          "output_type": "stream",
          "text": [
            "Diccionario de cifrado: {'a': '¥', 'b': '£', 'c': '€', 'd': '¢', 'e': '¿', 'f': '¡', 'g': '/', 'h': '\\\\', 'i': '|', 'j': '`', 'k': '\"', 'l': '}', 'm': '{', 'n': ']', 'o': '[', 'p': ')', 'q': '(', 'r': '>', 's': '<', 't': ';', 'u': ':', 'v': ',', 'w': '.', 'x': '_', 'y': '-', 'z': '~', '0': '^', '1': '+', '2': '=', '3': '?', '4': '!', '5': '*', '6': '&', '7': '%', '8': '$', '9': '#'}\n"
          ]
        }
      ],
      "source": [
        "# Letras (a-z), números (0-9) y símbolos\n",
        "letras = [chr(letra) for letra in range(97, 123)]  # Genera ['a', 'b', ..., 'z']\n",
        "numeros = [str(num) for num in range(10)]  # Genera ['0', '1', ..., '9']\n",
        "lista_completa = letras + numeros  # Caracteres a cifrar (36 en total)\n",
        "\n",
        "# Símbolos disponibles (al menos 36 símbolos únicos)\n",
        "simbolos = ['@', '#', '$', '%', '&', '*', '!', '?', '=', '+', '^', '~',\n",
        "            '-', '_', '.', ',', ':', ';', '<', '>', '(', ')', '[', ']',\n",
        "            '{', '}', '\"', '`', '|', '\\\\', '/', '¡', '¿', '¢', '€', '£', '¥']\n",
        "\n",
        "def generar_cifrado():\n",
        "    cifrado = {}\n",
        "    simbolos_disponibles = simbolos.copy()  # Copia para no modificar la original\n",
        "\n",
        "    for caracter in lista_completa:\n",
        "        cifrado[caracter] = simbolos_disponibles.pop()  # Asignar símbolos únicos\n",
        "\n",
        "    return cifrado\n",
        "\n",
        "cifrado = generar_cifrado()\n",
        "print(\"Diccionario de cifrado:\", cifrado)"
      ]
    },
    {
      "cell_type": "code",
      "execution_count": null,
      "id": "c7861022-892c-410f-80fc-cc251dc06b13",
      "metadata": {
        "id": "c7861022-892c-410f-80fc-cc251dc06b13",
        "outputId": "46c5b4be-f27f-4746-8024-747b2abbb2af"
      },
      "outputs": [
        {
          "name": "stdout",
          "output_type": "stream",
          "text": [
            "Mensaje encriptado: ¡¿}|€¿< }[< !\n"
          ]
        }
      ],
      "source": [
        "def encriptar(mensaje, cifrado):\n",
        "    # Normalizar texto: quitar acentos y convertir a minúsculas\n",
        "    mensaje_procesado = unicodedata.normalize('NFKD', mensaje).encode('ASCII', 'ignore').decode('ASCII').lower()\n",
        "\n",
        "    mensaje_encriptado = []\n",
        "    for caracter in mensaje_procesado:\n",
        "        if caracter in cifrado:\n",
        "            mensaje_encriptado.append(cifrado[caracter])\n",
        "        else:\n",
        "            mensaje_encriptado.append(caracter)  # Mantener espacios, puntuación, etc.\n",
        "\n",
        "    return ''.join(mensaje_encriptado)\n",
        "\n",
        "# Ejemplo con acentos y números\n",
        "mensaje = \"Felíces los 4\"\n",
        "mensaje_encriptado = encriptar(mensaje, cifrado)\n",
        "print(\"Mensaje encriptado:\", mensaje_encriptado)"
      ]
    },
    {
      "cell_type": "code",
      "execution_count": null,
      "id": "518c3aa5-7c01-4d76-b27c-887fa79b300b",
      "metadata": {
        "id": "518c3aa5-7c01-4d76-b27c-887fa79b300b",
        "outputId": "0a4dbcde-7973-426e-82d4-e386944c9af7"
      },
      "outputs": [
        {
          "name": "stdout",
          "output_type": "stream",
          "text": [
            "Mensaje original procesado: felices los 4\n"
          ]
        }
      ],
      "source": [
        "def desencriptar(mensaje_encriptado, cifrado):\n",
        "    cifrado_inverso = {simbolo: letra for letra, simbolo in cifrado.items()}\n",
        "    mensaje_original = []\n",
        "\n",
        "    for simbolo in mensaje_encriptado:\n",
        "        if simbolo in cifrado_inverso:\n",
        "            mensaje_original.append(cifrado_inverso[simbolo])\n",
        "        else:\n",
        "            mensaje_original.append(simbolo)\n",
        "\n",
        "    return ''.join(mensaje_original)\n",
        "\n",
        "mensaje_original = desencriptar(mensaje_encriptado, cifrado)\n",
        "print(\"Mensaje original procesado:\", mensaje_original)  # Resultado: \"hol4 mund0\""
      ]
    },
    {
      "cell_type": "code",
      "execution_count": null,
      "id": "3982157f-74f4-4602-8856-704cc63d4a66",
      "metadata": {
        "id": "3982157f-74f4-4602-8856-704cc63d4a66"
      },
      "outputs": [],
      "source": []
    }
  ],
  "metadata": {
    "kernelspec": {
      "display_name": "Python 3 (ipykernel)",
      "language": "python",
      "name": "python3"
    },
    "language_info": {
      "codemirror_mode": {
        "name": "ipython",
        "version": 3
      },
      "file_extension": ".py",
      "mimetype": "text/x-python",
      "name": "python",
      "nbconvert_exporter": "python",
      "pygments_lexer": "ipython3",
      "version": "3.13.2"
    },
    "colab": {
      "provenance": [],
      "include_colab_link": true
    }
  },
  "nbformat": 4,
  "nbformat_minor": 5
}