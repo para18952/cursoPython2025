{
  "cells": [
    {
      "cell_type": "markdown",
      "metadata": {
        "id": "view-in-github",
        "colab_type": "text"
      },
      "source": [
        "<a href=\"https://colab.research.google.com/github/ednavivianasegura/ERAP_CursoPython/blob/main/Modulo1/20.programacio%CC%81n_objetos_ejercicios.ipynb\" target=\"_parent\"><img src=\"https://colab.research.google.com/assets/colab-badge.svg\" alt=\"Open In Colab\"/></a>"
      ]
    },
    {
      "cell_type": "markdown",
      "id": "fcda8787",
      "metadata": {
        "id": "fcda8787"
      },
      "source": [
        "## Programación Orientada a Objetos Ejercicios"
      ]
    },
    {
      "cell_type": "markdown",
      "id": "d9ec0018",
      "metadata": {
        "id": "d9ec0018"
      },
      "source": [
        "### Ejercicio 1:\n",
        "- Define una clase con el nombre **`CuentaBancaria`**:\n",
        "\n",
        "1. **Parametros**: esta clase va a tomar los parametros: **`nombre`**, **`apellido`**, **`dni`**, **`tipo_cuenta`**.\n",
        "- **`tipo_cuenta`** puede ser **\"Debito\"** o **\"Credito\"**.\n",
        "- Define estos parametros en la clase como atributos con el mismo nombre:\n",
        "    - **Ejemplo:** **`self.nombre = nombre`**\n",
        "            \n",
        "================================================================================================================================            \n",
        "\n",
        "2. **Atributos**: además de los atributos creados en base a los parametros, inicializa los siguientes:\n",
        "- **`email`** que sera un string con la siguiente forma **`nombre.apellido@python.com`** (todo en minúsculas).\n",
        "- **`balance`** que sera un número flotante aleatorio entre 100 y 1000.\n",
        "- **`id_usuario`** que sera un **número aleatorio entre 1000000 y 9999999**.\n",
        "    \n",
        "===============================================================================================================================\n",
        "        \n",
        "3. **Métodos**:\n",
        "- **`usuario_info()`** que no tome parametros y que imprima por pantalla los datos de la persona (**`nombre`**, **`apellido`**, **`email`**, **`dni`**, **`id_usuario`** y **`tipo_cuenta`**)\n",
        "\n",
        "\n",
        "- **`mostrar_balance()`** que no tome parametros y que imprima por pantalla el balance actual de la persona, si el balance es negativo que imprima una advertencia.\n",
        "\n",
        "\n",
        "- **`ingresar()`** que tome como parametro un número positvo (**`ingreso`**) y que modifique el valor del atributo **`balance`** sumandole el valor de **`ingreso`**, luego que llame al método **`mostrar_balance()`**.\n",
        "\n",
        "\n",
        "- **`hacer_bizum()`** que tome como parametro un número positvo (**`bizum`**) y que haga lo siguiente:\n",
        "    - Verifique que **`balance`** >= **`bizum`**.\n",
        "    - Si se cumple la condición entonces que imprima por pantalla **`Bizum realizado con exito`** y que modifique el valor del atributo **`balance`** restandole el valor de **`bizum`**.\n",
        "    - Si no se cumple la condición entonces que imprima por pantalla **`No se puede realizar el bizum, fondos insuficientes`**.\n",
        "    - Luego que llame al método **`mostrar_balance()`**.\n",
        "\n",
        "\n",
        "- **`cambiar_cuenta()`** que no tome parametros de entrada y que al ejecutarse modifique el atributo **`tipo_cuenta`**:\n",
        "    - Si estaba en **Debito** que se cambie por **Credito**.\n",
        "    - Si estaba en **Credito** que se cambie por **Debito**.\n",
        "    - Que imprima por pantalla **`Tu tipo de cuenta ha sido cambiada con exito.`**\n",
        "    \n",
        "- **`exportar_datos()`** que no tome parametros de entrada y que retorne un diccionario con los datos del usuario (**`nombre`**, **`apellido`**, **`email`**, **`dni`**, **`tipo_cuenta`**, **`balance`**).\n",
        "\n",
        "===============================================================================================================================\n",
        "\n",
        "\n",
        "**Inicializa una instacia de esta clase, ejecuta todos los métodos y atributos para verificar que funciona correctamente.**\n",
        "\n",
        "**Define cualquier otro método que se te ocurra.**"
      ]
    },
    {
      "cell_type": "code",
      "execution_count": null,
      "id": "79d3426a",
      "metadata": {
        "id": "79d3426a"
      },
      "outputs": [],
      "source": []
    },
    {
      "cell_type": "code",
      "execution_count": null,
      "id": "1031f73a",
      "metadata": {
        "id": "1031f73a"
      },
      "outputs": [],
      "source": []
    },
    {
      "cell_type": "code",
      "execution_count": null,
      "id": "731d0988",
      "metadata": {
        "id": "731d0988"
      },
      "outputs": [],
      "source": []
    },
    {
      "cell_type": "code",
      "execution_count": null,
      "id": "80cdf0d5",
      "metadata": {
        "id": "80cdf0d5"
      },
      "outputs": [],
      "source": []
    },
    {
      "cell_type": "code",
      "execution_count": null,
      "id": "50bc3f61",
      "metadata": {
        "id": "50bc3f61"
      },
      "outputs": [],
      "source": []
    },
    {
      "cell_type": "code",
      "execution_count": null,
      "id": "5d6e2d63",
      "metadata": {
        "id": "5d6e2d63"
      },
      "outputs": [],
      "source": []
    },
    {
      "cell_type": "code",
      "execution_count": null,
      "id": "13f447a2",
      "metadata": {
        "id": "13f447a2"
      },
      "outputs": [],
      "source": []
    },
    {
      "cell_type": "code",
      "execution_count": null,
      "id": "cde1376c",
      "metadata": {
        "id": "cde1376c"
      },
      "outputs": [],
      "source": []
    },
    {
      "cell_type": "code",
      "execution_count": null,
      "id": "bd2c21eb",
      "metadata": {
        "id": "bd2c21eb"
      },
      "outputs": [],
      "source": []
    }
  ],
  "metadata": {
    "kernelspec": {
      "display_name": "Python 3 (ipykernel)",
      "language": "python",
      "name": "python3"
    },
    "language_info": {
      "codemirror_mode": {
        "name": "ipython",
        "version": 3
      },
      "file_extension": ".py",
      "mimetype": "text/x-python",
      "name": "python",
      "nbconvert_exporter": "python",
      "pygments_lexer": "ipython3",
      "version": "3.11.4"
    },
    "colab": {
      "provenance": [],
      "include_colab_link": true
    }
  },
  "nbformat": 4,
  "nbformat_minor": 5
}