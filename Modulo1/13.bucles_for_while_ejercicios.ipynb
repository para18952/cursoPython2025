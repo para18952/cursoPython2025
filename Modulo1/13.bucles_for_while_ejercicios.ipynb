{
  "cells": [
    {
      "cell_type": "markdown",
      "metadata": {
        "id": "view-in-github",
        "colab_type": "text"
      },
      "source": [
        "<a href=\"https://colab.research.google.com/github/para18952/cursoPython2025/blob/main/Modulo1/13.bucles_for_while_ejercicios.ipynb\" target=\"_parent\"><img src=\"https://colab.research.google.com/assets/colab-badge.svg\" alt=\"Open In Colab\"/></a>"
      ]
    },
    {
      "cell_type": "markdown",
      "id": "d6ba5bce",
      "metadata": {
        "id": "d6ba5bce"
      },
      "source": [
        "## Ejercicios Bucles"
      ]
    },
    {
      "cell_type": "markdown",
      "id": "80012d75",
      "metadata": {
        "id": "80012d75"
      },
      "source": [
        "### Ejercicio 1\n",
        "\n",
        "- Dada la siguiente **lista = [1, 2, 3, 4, 5, 6, 7, 8, 9, 10]**, imprimir cada número sumandole 10 unidades utilizando un bucle **`for`**."
      ]
    },
    {
      "cell_type": "code",
      "execution_count": null,
      "id": "5436374e",
      "metadata": {
        "id": "5436374e"
      },
      "outputs": [],
      "source": [
        "lista = [1, 2, 3, 4, 5, 6, 7, 8, 9, 10]\n",
        "for numero in lista:\n",
        "    print(numero + 10)"
      ]
    },
    {
      "cell_type": "markdown",
      "id": "615b834a",
      "metadata": {
        "id": "615b834a"
      },
      "source": [
        "### Ejercicio 2\n",
        "- Crea un bucle for que muestre la tabla de multiplicar del 1 al 10 de un número dado por el usuario.\n",
        "- Ejemplo:\n",
        "\n",
        "```html\n",
        "1 x 2 = 2\n",
        "2 x 2 = 4\n",
        "3 x 2 = 6\n",
        "4 x 2 = 8\n",
        "5 x 2 = 10\n",
        "6 x 2 = 12\n",
        "7 x 2 = 14\n",
        "8 x 2 = 16\n",
        "9 x 2 = 18\n",
        "10 x 2 = 20\n",
        "```"
      ]
    },
    {
      "cell_type": "code",
      "execution_count": 3,
      "id": "4c07823e",
      "metadata": {
        "id": "4c07823e",
        "colab": {
          "base_uri": "https://localhost:8080/"
        },
        "outputId": "4c758c8f-f4c3-4c76-e017-92dcfa366a37"
      },
      "outputs": [
        {
          "output_type": "stream",
          "name": "stdout",
          "text": [
            "1 x 2 = 2\n",
            "2 x 2 = 4\n",
            "3 x 2 = 6\n",
            "4 x 2 = 8\n",
            "5 x 2 = 10\n",
            "6 x 2 = 12\n",
            "7 x 2 = 14\n",
            "8 x 2 = 16\n",
            "9 x 2 = 18\n",
            "10 x 2 = 20\n"
          ]
        }
      ],
      "source": [
        "for i in range(1, 11):\n",
        "    print(f\"{i} x 2 = {i * 2}\")"
      ]
    },
    {
      "cell_type": "markdown",
      "id": "3c8a4c44",
      "metadata": {
        "id": "3c8a4c44"
      },
      "source": [
        "### Ejercicio 3\n",
        "- Crear una lista vacia.\n",
        "- Llenar la lista con los numero del 200 al 215 usando un bucle **`for`**."
      ]
    },
    {
      "cell_type": "code",
      "execution_count": null,
      "id": "92d1be47",
      "metadata": {
        "id": "92d1be47"
      },
      "outputs": [],
      "source": [
        "lista = []\n",
        "for i in range(200, 216):\n",
        "    lista.append(i)\n",
        "print(lista)"
      ]
    },
    {
      "cell_type": "markdown",
      "id": "073bada8",
      "metadata": {
        "id": "073bada8"
      },
      "source": [
        "### Ejercicio 4\n",
        "- Crea una lista de números pares entre el 555 y el 599 utilizando bucle **`for`**."
      ]
    },
    {
      "cell_type": "code",
      "execution_count": null,
      "id": "2ea6dc60",
      "metadata": {
        "id": "2ea6dc60"
      },
      "outputs": [],
      "source": [
        "for i in range(556, 599, 2):\n",
        "    print(i)"
      ]
    },
    {
      "cell_type": "markdown",
      "id": "282e98c2",
      "metadata": {
        "id": "282e98c2"
      },
      "source": [
        "### Ejercicio 5\n",
        "- Crea un bucle **`for`** que sume los valores de la siguiente lista: **[51, 52, 53, 54, 55]**."
      ]
    },
    {
      "cell_type": "code",
      "execution_count": null,
      "id": "3d4d4485",
      "metadata": {
        "id": "3d4d4485"
      },
      "outputs": [],
      "source": [
        "for i in range(51, 56):\n",
        "    print(i)"
      ]
    },
    {
      "cell_type": "markdown",
      "id": "ac9f3703",
      "metadata": {
        "id": "ac9f3703"
      },
      "source": [
        "### Ejercicio 6\n",
        "- Crea una lista con 5 elementos y cada elemento de esa lista, va a ser una lista con los siguientes datos: **[1, 2, 3]**, utiliza 2 **`for`** anidados.\n",
        "\n",
        "- Resultado: [[1, 2, 3], [1, 2, 3], [1, 2, 3], [1, 2, 3], [1, 2, 3]]"
      ]
    },
    {
      "cell_type": "code",
      "execution_count": null,
      "id": "70ba6e94",
      "metadata": {
        "id": "70ba6e94"
      },
      "outputs": [],
      "source": [
        "lista = []\n",
        "for i in range(5):\n",
        "    for j in range(3):\n",
        "        lista.append(i)\n",
        "print(lista)"
      ]
    },
    {
      "cell_type": "markdown",
      "id": "b7bb3dcc",
      "metadata": {
        "id": "b7bb3dcc"
      },
      "source": [
        "### Ejercicio 7\n",
        "- Crea un bucle que cuente del 10 al 1."
      ]
    },
    {
      "cell_type": "code",
      "execution_count": null,
      "id": "ac6f8092",
      "metadata": {
        "id": "ac6f8092"
      },
      "outputs": [],
      "source": [
        "for i in range(10, 0, -1):\n",
        "    print(i)"
      ]
    },
    {
      "cell_type": "markdown",
      "id": "6d158465",
      "metadata": {
        "id": "6d158465"
      },
      "source": [
        "### Ejercicio 8\n",
        "- Crea dos variables llamadas **`par`** e **`impar`** e inicializalas en 0.\n",
        "- Dada la siguiente lista de números = **[10, 7, 8, 3, 5, 2, 71, 21, 88]**, crea un bucle que recorra la lista y sume los números pares a la variable **`par`** y sume los números impares a la variable **`impar`**."
      ]
    },
    {
      "cell_type": "code",
      "execution_count": null,
      "id": "df34a94b",
      "metadata": {
        "id": "df34a94b"
      },
      "outputs": [],
      "source": [
        "par = 0\n",
        "impar = 0\n",
        "lista = [10, 7, 8, 3, 5, 2, 71, 21, 88]\n",
        "for i in lista:\n",
        "    if i % 2 == 0:\n",
        "        par += i\n",
        "    else:\n",
        "        impar += i\n",
        "print(f\"La suma de los números pares es: {par}\")\n",
        "print(f\"La suma de los números impares es: {impar}\")"
      ]
    },
    {
      "cell_type": "markdown",
      "id": "367b6971",
      "metadata": {
        "id": "367b6971"
      },
      "source": [
        "### Ejercicio 9\n",
        "- Crea una lista con 5 colores diferentes.\n",
        "- Y con bucles anidados imprime las letras de los colores."
      ]
    },
    {
      "cell_type": "code",
      "execution_count": null,
      "id": "01085cd1",
      "metadata": {
        "id": "01085cd1"
      },
      "outputs": [],
      "source": [
        "colores = [\"rojo\", \"azul\", \"verde\", \"amarillo\", \"naranja\"]\n",
        "for color in colores:\n",
        "    for letra in color:\n",
        "        print(letra)"
      ]
    },
    {
      "cell_type": "markdown",
      "id": "bf59c876",
      "metadata": {
        "id": "bf59c876"
      },
      "source": [
        "### Ejercicio 10\n",
        "- Imprimir el índice y valor de cada elemento de la **lista = [-5, -4, -3, -2, -1, 0, 1, 2, 3, 4, 5]** utilizando un bucle **`for`**"
      ]
    },
    {
      "cell_type": "code",
      "execution_count": null,
      "id": "db8dad4b",
      "metadata": {
        "id": "db8dad4b"
      },
      "outputs": [],
      "source": [
        "lista = [-5, -4, -3, -2, -1, 0, 1, 2, 3, 4, 5]\n",
        "for i, valor in enumerate(lista):\n",
        "    print(f\"El índice es {i} y el valor es {valor}\")"
      ]
    },
    {
      "cell_type": "markdown",
      "id": "eb2b14d4",
      "metadata": {
        "id": "eb2b14d4"
      },
      "source": [
        "### Ejercicio 11\n",
        "- Crea un bucle **`while`** donde le pregunte al usuario un número y si ese número es impar el programa se detiene."
      ]
    },
    {
      "cell_type": "code",
      "execution_count": null,
      "id": "1f61356a",
      "metadata": {
        "id": "1f61356a"
      },
      "outputs": [],
      "source": [
        "while True:\n",
        "    numero = int(input(\"Introduce un número: \"))\n",
        "    if numero % 2 == 0:\n",
        "        print(\"El número es par\")\n",
        "    else:\n",
        "        print(\"El número es impar\")\n",
        "        break"
      ]
    },
    {
      "cell_type": "markdown",
      "id": "506b594c",
      "metadata": {
        "id": "506b594c"
      },
      "source": [
        "### Ejercicio 12\n",
        "- Pide al usuario una frase.\n",
        "- Has un bucle que recorra la frase y que imprima las letras de la frase y cuantas veces aparece."
      ]
    },
    {
      "cell_type": "code",
      "execution_count": null,
      "id": "6d5eed1e",
      "metadata": {
        "id": "6d5eed1e"
      },
      "outputs": [],
      "source": []
    },
    {
      "cell_type": "code",
      "execution_count": null,
      "id": "c80fb589",
      "metadata": {
        "id": "c80fb589",
        "outputId": "6bec39a9-abd9-4d14-dd2b-74e296ab5274"
      },
      "outputs": [
        {
          "ename": "SyntaxError",
          "evalue": "invalid character '😅' (U+1F605) (1847839217.py, line 1)",
          "output_type": "error",
          "traceback": [
            "\u001b[0;36m  Cell \u001b[0;32mIn[201], line 1\u001b[0;36m\u001b[0m\n\u001b[0;31m    😅\u001b[0m\n\u001b[0m    ^\u001b[0m\n\u001b[0;31mSyntaxError\u001b[0m\u001b[0;31m:\u001b[0m invalid character '😅' (U+1F605)\n"
          ]
        }
      ],
      "source": []
    },
    {
      "cell_type": "code",
      "execution_count": null,
      "id": "421d0877-4f49-405e-a24b-29219677c488",
      "metadata": {
        "id": "421d0877-4f49-405e-a24b-29219677c488"
      },
      "outputs": [],
      "source": [
        "####################################################################################################################\n",
        "#print(\"\\U0001f600\")"
      ]
    },
    {
      "cell_type": "markdown",
      "id": "a25260a4-77ce-4f5a-8574-f5f1e0adacbf",
      "metadata": {
        "id": "a25260a4-77ce-4f5a-8574-f5f1e0adacbf"
      },
      "source": [
        "## Vamos a analizar el siguiente texto"
      ]
    },
    {
      "cell_type": "code",
      "execution_count": null,
      "id": "c675f98b-4934-4e28-80f2-2a75c74157a3",
      "metadata": {
        "id": "c675f98b-4934-4e28-80f2-2a75c74157a3"
      },
      "outputs": [],
      "source": [
        "Chat_maria_pablo =\"\"\"\n",
        "María: Hola, Pablo 😊 ¿Cómo te ha ido esta semana? He pensado en ti un par de veces, no sé por qué.\n",
        "Pablo: Hola, María. ¿Pensaste en mí? ¡Espero que no haya sido por una deuda! 😅\n",
        "María: No, más bien porque extraño nuestras charlas. Siempre me hacen bien.\n",
        "Pablo: Jajaja, ¿ves? Ya soy medicina natural. Te voy a empezar a cobrar por consulta.\n",
        "María: Pues no estaría mal que me recetaras un paseo contigo. Este viernes hay un mercadillo de arte en la plaza, podríamos ir.\n",
        "Pablo: Uy, arte... eso suena sofisticado. ¿Piden saber de pintura o puedo solo señalar y decir “bonito”?\n",
        "María: Puedes decir “bonito” y sonreír, eso ya es suficiente. Me gustaría compartir ese tiempo contigo.\n",
        "Pablo: Justo creo que tengo una cita con mi lavadora. Me está ignorando desde la semana pasada.\n",
        "María: Siempre haces bromas cuando intento hablar en serio. No pasa nada, quiero ir contigo, pero igual puedo ir sola.\n",
        "Pablo: ¡Eso! Y así te das un tiempo contigo misma. Muy saludable eso, ¿eh?\n",
        "María: Ya paso mucho tiempo sola. Me gusta estar contigo, eres especial aunque a veces pareces no darte cuenta.\n",
        "Pablo: Me doy cuenta... pero soy de procesamiento lento, como una impresora vieja.\n",
        "María: A veces pienso que lo haces a propósito, para no dejarme avanzar.\n",
        "Pablo: ¿Avanzar? Esto suena a videojuego. Yo ni jefe final soy.\n",
        "María: No hace falta que lo seas. Con que seas tú, ya es bastante. Pero no sé, da la sensación de que solo estoy hablando con una pared con buen humor.\n",
        "Pablo: Bueno, al menos soy una pared simpática. No todas las paredes hacen chistes.\n",
        "María: ¿Sabes? Me gustas, aunque no lo diga con todas las letras. Pero ya cansa sentir que solo yo empujo esto.\n",
        "Pablo: Ay, María... eres genial, en serio. Pero yo soy como un gato: cuando me buscan, me escondo; cuando no, aparezco.\n",
        "María: ¿Y no te parece injusto? Porque yo no soy un juego de buscar y encontrar.\n",
        "Pablo: No quise sonar así. Es que... no soy muy bueno con estas cosas.\n",
        "María: No hace falta ser bueno. Hace falta querer estar. Pero tú solo lanzas chistes para no responder.\n",
        "Pablo: Tal vez tienes razón. A veces prefiero no entrar en terrenos donde puedo tropezar.\n",
        "María: Ya veo. Pues nada. Gracias por la charla. Supongo que tengo que aprender a no esperar tanto de ti.\n",
        "Pablo: María...\n",
        "María: No te preocupes. Tenía interés en conocerte, pero se me ha ido. Que estés bien, ¿vale?\n",
        "Pablo: Claro... tú también.\n",
        "\"\"\""
      ]
    },
    {
      "cell_type": "markdown",
      "id": "ea530625-0c29-4fa0-b540-be3550d203db",
      "metadata": {
        "id": "ea530625-0c29-4fa0-b540-be3550d203db"
      },
      "source": [
        "## Iniciamos con un preproceso de datos."
      ]
    },
    {
      "cell_type": "code",
      "execution_count": null,
      "id": "25f058a9-727c-44f2-bd2e-ce2acce351ad",
      "metadata": {
        "id": "25f058a9-727c-44f2-bd2e-ce2acce351ad"
      },
      "outputs": [],
      "source": [
        "# Aplanar el texto\n"
      ]
    },
    {
      "cell_type": "code",
      "execution_count": null,
      "id": "1f15953e-fb3f-4642-8d7a-eef5de470e7b",
      "metadata": {
        "id": "1f15953e-fb3f-4642-8d7a-eef5de470e7b"
      },
      "outputs": [],
      "source": [
        "# Vamos a separar las dos conversaciones\n"
      ]
    },
    {
      "cell_type": "code",
      "execution_count": null,
      "id": "7c676178-0554-43af-ad6b-dd92f9ae8da2",
      "metadata": {
        "id": "7c676178-0554-43af-ad6b-dd92f9ae8da2"
      },
      "outputs": [],
      "source": [
        "# Vamos a limpiar los nombres de los textos de maría y pablo"
      ]
    },
    {
      "cell_type": "code",
      "execution_count": null,
      "id": "4c775da4-6053-407e-95e0-ca8db5e3d73c",
      "metadata": {
        "id": "4c775da4-6053-407e-95e0-ca8db5e3d73c"
      },
      "outputs": [],
      "source": [
        "# Vamos a juntar en un solo string todas las frases. El objetivo es tener dos string para poder usar sus métodos"
      ]
    },
    {
      "cell_type": "markdown",
      "id": "681ab6f4-ac3c-4531-9a09-70de06cde90d",
      "metadata": {
        "id": "681ab6f4-ac3c-4531-9a09-70de06cde90d"
      },
      "source": [
        "### Fin del preproceso de datos"
      ]
    },
    {
      "cell_type": "markdown",
      "id": "1497ecd6-5a05-4160-a105-bfa4f605e766",
      "metadata": {
        "id": "1497ecd6-5a05-4160-a105-bfa4f605e766"
      },
      "source": [
        "## Inicio del análisis"
      ]
    },
    {
      "cell_type": "code",
      "execution_count": null,
      "id": "6652ec00-96e0-425f-b83e-3442b40b3051",
      "metadata": {
        "id": "6652ec00-96e0-425f-b83e-3442b40b3051"
      },
      "outputs": [],
      "source": [
        "# Vamos a  dejar el texto completamente plano\n",
        "\n",
        "#signos = [\",\", \".\", \";\", \":\",\"¿\",\"?\", \"¡\",\"!\", \"\\n\"]"
      ]
    },
    {
      "cell_type": "code",
      "execution_count": null,
      "id": "495fcdc3-9421-4089-b4ff-00dbd08fa755",
      "metadata": {
        "id": "495fcdc3-9421-4089-b4ff-00dbd08fa755"
      },
      "outputs": [],
      "source": [
        "# Vamos a crear dos conjuntos con cada una de las listas, el objetivo es comparar a ver si tienen cosas en común\n"
      ]
    },
    {
      "cell_type": "code",
      "execution_count": null,
      "id": "5aaea8ec-76f9-458e-8578-76e582e897fd",
      "metadata": {
        "id": "5aaea8ec-76f9-458e-8578-76e582e897fd"
      },
      "outputs": [],
      "source": [
        "# Son muchas palabras, reduzcamos quitando las que son muy cortas"
      ]
    },
    {
      "cell_type": "code",
      "execution_count": null,
      "id": "0cb31099-8533-4c45-bf30-727710cd79a3",
      "metadata": {
        "id": "0cb31099-8533-4c45-bf30-727710cd79a3"
      },
      "outputs": [],
      "source": []
    },
    {
      "cell_type": "raw",
      "id": "f015eecb-f8d3-4f82-bcc6-a5629bdfc742",
      "metadata": {
        "id": "f015eecb-f8d3-4f82-bcc6-a5629bdfc742"
      },
      "source": [
        "Palabras más frecuentes en lenguaje romántico inicial:\n",
        "\n",
        "**contigo**:         Suele expresar el deseo de compartir tiempo o experiencias.\n",
        "\n",
        "**podríamos**:       Palabra clave que involucra planes en común.\n",
        "\n",
        "**especial**:        Se usa para destacar al otro como diferente y valioso.\n",
        "\n",
        "**me gusta(s)**:     Expresión directa o indirecta de atracción.\n",
        "\n",
        "**tiempo**:          Referencia al deseo de pasar tiempo juntos.\n",
        "\n",
        "**quiero**:          Indica iniciativa o intenciones: quiero verte, quiero hablar\n",
        "                 más.\n",
        "\n",
        "**sentir/siento**:   Para expresar emociones o vulnerabilidad.\n",
        "\n",
        "**pienso**:          Cuando se menciona con frases como pienso en ti, pienso en nosotros.\n",
        "\n",
        "**mirada/sonrisa**:  En lenguaje romántico, se destacan rasgos apreciados del otro.\n",
        "\n",
        "**conocer**:         Se usa cuando la persona quiere profundizar en la relación: quiero conocerte mejor."
      ]
    },
    {
      "cell_type": "code",
      "execution_count": null,
      "id": "a69e4b28-95b5-477c-bb39-7fe99c666c08",
      "metadata": {
        "id": "a69e4b28-95b5-477c-bb39-7fe99c666c08"
      },
      "outputs": [],
      "source": [
        "# palabras_romanticas=[\"contigo\",\"podríamos\",\"me gusta\",\"me gustas\",\"tiempo contigo\",\"quiero\",\"sentir\",\"pensado en ti\",\"extraño\",\"sonreír\",\"conocerte\"]"
      ]
    },
    {
      "cell_type": "code",
      "execution_count": null,
      "id": "f30848fd-5846-45b3-9918-ba3496c9f18d",
      "metadata": {
        "id": "f30848fd-5846-45b3-9918-ba3496c9f18d"
      },
      "outputs": [],
      "source": [
        "# Vamos a contar las palabras románticas"
      ]
    },
    {
      "cell_type": "code",
      "source": [],
      "metadata": {
        "id": "8SShHD1uH3fL"
      },
      "id": "8SShHD1uH3fL",
      "execution_count": null,
      "outputs": []
    }
  ],
  "metadata": {
    "kernelspec": {
      "display_name": "Python 3 (ipykernel)",
      "language": "python",
      "name": "python3"
    },
    "language_info": {
      "codemirror_mode": {
        "name": "ipython",
        "version": 3
      },
      "file_extension": ".py",
      "mimetype": "text/x-python",
      "name": "python",
      "nbconvert_exporter": "python",
      "pygments_lexer": "ipython3",
      "version": "3.13.2"
    },
    "colab": {
      "provenance": [],
      "include_colab_link": true
    }
  },
  "nbformat": 4,
  "nbformat_minor": 5
}