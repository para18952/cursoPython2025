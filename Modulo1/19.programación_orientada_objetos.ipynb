{
  "cells": [
    {
      "cell_type": "markdown",
      "metadata": {
        "id": "view-in-github",
        "colab_type": "text"
      },
      "source": [
        "<a href=\"https://colab.research.google.com/github/para18952/cursoPython2025/blob/dia_2/Modulo1/19.programacio%CC%81n_orientada_objetos.ipynb\" target=\"_parent\"><img src=\"https://colab.research.google.com/assets/colab-badge.svg\" alt=\"Open In Colab\"/></a>"
      ]
    },
    {
      "cell_type": "markdown",
      "id": "716ef758",
      "metadata": {
        "id": "716ef758"
      },
      "source": [
        "## Clases (class)\n",
        "\n",
        "La programación orientada a objetos (**Object-Oriented Programming (OOP)**) se basa en el hecho de que **se debe dividir el programa en modelos de objetos físicos o simulados**. Se debe expresar un programa como un **conjunto de objetos que colaboran entre si mismos** para realizar tareas.\n",
        "\n",
        "**Un objeto** es la representación en un programa de un concepto y contiene la información necesaría para abstraerlo:\n",
        "\n",
        "- **Atributos**: que describen al objeto.\n",
        "- **Métodos**: operaciones que se pueden realizar al objeto.\n",
        "\n",
        "\n",
        "Los objetos pueden agruparse en categorías y una clase describe (de un modo abstracto) todos los objetos de un tipo o categoría determinada.\n",
        "\n",
        "<img src=\"https://github.com/ednavivianasegura/ERAP_CursoPython/blob/main/Modulo1/Imagenes%20Notebooks/oop_1.png?raw=true\" width=\"300\" />\n",
        "\n",
        "\n",
        "**La idea de la programación orientada a objetos puede parecer abstracta y compleja**, pero ya hemos estado utilizando objetos sin darnos cuenta. **Casi todo en Python es un objeto**, todas las cadenas, listas, y diccionarios que hemos visto hasta ahora y que hemos usado han sido objetos.\n",
        "\n",
        "- **Objeto**\n",
        "    - El objeto es el centro de la programación orientada a objetos. Un objeto es algo que se visualiza, se utiliza y que juega un papel o un rol en el dominio del problema del programa. La estructura interna y el comportamiento de un objeto, en consecuencia, no es prioritario durante el modelado del problema.\n",
        "    \n",
        "\n",
        "- **Clase**\n",
        "    - En el mundo real existen varios objetos de un mismo tipo o clase, por lo que una clase equivale a la generalización de un tipo específico de objetos. Una clase es una plantilla que define las variables y los métodos que son comunes para todos los objetos de un cierto tipo.\n",
        "    \n",
        "\n",
        "- **Instancia**\n",
        "    - Una vez definida la clase se pueden crear objetos a partir de ésta, a este proceso se le conoce como crear instancias de una clase o instanciar una clase. En este momento el sistema reserva suficiente memoria para el objeto con todos sus atributos.\n",
        "\n",
        "    - Una instancia es un elemento de una clase (un objeto). Cada uno de los objetos o instancias tiene su propia copia de las variables definidas en la clase de la cual son instanciados y comparten la misma implementación de los métodos. Sin embargo, cada objeto asigna valores a sus atributos y es totalmente independiente de los demás.\n",
        "    \n",
        "\n",
        "- **Método**\n",
        "    - Los métodos especifican el comportamiento de la clase y sus instancias. En el momento de la declaración hay que indicar cuál es el tipo del parámetro que devolverá el método.\n",
        "    \n",
        "\n",
        "- **Atributos**\n",
        "    - Tipos de datos asociados a un objeto (o a una clase de objetos), que hace los datos visibles desde fuera del objeto y esto se define como sus características predeterminadas, cuyo valor puede ser alterado por la ejecución de algún método.\n",
        "    \n",
        "\n",
        "**Ejemplos:**"
      ]
    },
    {
      "cell_type": "code",
      "execution_count": 1,
      "id": "12ffbb61",
      "metadata": {
        "id": "12ffbb61",
        "outputId": "bf4a8d6f-7575-46b2-8e57-a37ac14294ec",
        "colab": {
          "base_uri": "https://localhost:8080/"
        }
      },
      "outputs": [
        {
          "output_type": "stream",
          "name": "stdout",
          "text": [
            "<class 'tuple'>\n"
          ]
        }
      ],
      "source": [
        "# Listas\n",
        "\n",
        "lista = (0, 1, 2, 3, 4)\n",
        "\n",
        "print(type(lista))"
      ]
    },
    {
      "cell_type": "code",
      "execution_count": 2,
      "id": "dfb07e58",
      "metadata": {
        "scrolled": true,
        "id": "dfb07e58",
        "outputId": "191290f1-e11d-418a-8ecf-7f0802420f3f",
        "colab": {
          "base_uri": "https://localhost:8080/"
        }
      },
      "outputs": [
        {
          "output_type": "execute_result",
          "data": {
            "text/plain": [
              "['__add__',\n",
              " '__class__',\n",
              " '__class_getitem__',\n",
              " '__contains__',\n",
              " '__delattr__',\n",
              " '__dir__',\n",
              " '__doc__',\n",
              " '__eq__',\n",
              " '__format__',\n",
              " '__ge__',\n",
              " '__getattribute__',\n",
              " '__getitem__',\n",
              " '__getnewargs__',\n",
              " '__getstate__',\n",
              " '__gt__',\n",
              " '__hash__',\n",
              " '__init__',\n",
              " '__init_subclass__',\n",
              " '__iter__',\n",
              " '__le__',\n",
              " '__len__',\n",
              " '__lt__',\n",
              " '__mul__',\n",
              " '__ne__',\n",
              " '__new__',\n",
              " '__reduce__',\n",
              " '__reduce_ex__',\n",
              " '__repr__',\n",
              " '__rmul__',\n",
              " '__setattr__',\n",
              " '__sizeof__',\n",
              " '__str__',\n",
              " '__subclasshook__',\n",
              " 'count',\n",
              " 'index']"
            ]
          },
          "metadata": {},
          "execution_count": 2
        }
      ],
      "source": [
        "# La función dir() nos muestra todos los atributos y métodos de una clase\n",
        "\n",
        "dir(lista)\n",
        "\n",
        "# Los métodos con doble guión bajo se llaman métodos especiales\n",
        "# y se utilizan con funciones externas: reversed, dir...\n",
        "\n",
        "# Los métodos sin el doble guión son los métodos comunes\n",
        "# Algunos ya los conocemos como: append, pop, remove, reverse..."
      ]
    },
    {
      "cell_type": "code",
      "execution_count": 3,
      "id": "98850ce0",
      "metadata": {
        "scrolled": true,
        "id": "98850ce0",
        "outputId": "0fa26222-b119-4c53-ac8e-595eaa6535c1",
        "colab": {
          "base_uri": "https://localhost:8080/"
        }
      },
      "outputs": [
        {
          "output_type": "execute_result",
          "data": {
            "text/plain": [
              "['__class__',\n",
              " '__class_getitem__',\n",
              " '__contains__',\n",
              " '__delattr__',\n",
              " '__delitem__',\n",
              " '__dir__',\n",
              " '__doc__',\n",
              " '__eq__',\n",
              " '__format__',\n",
              " '__ge__',\n",
              " '__getattribute__',\n",
              " '__getitem__',\n",
              " '__getstate__',\n",
              " '__gt__',\n",
              " '__hash__',\n",
              " '__init__',\n",
              " '__init_subclass__',\n",
              " '__ior__',\n",
              " '__iter__',\n",
              " '__le__',\n",
              " '__len__',\n",
              " '__lt__',\n",
              " '__ne__',\n",
              " '__new__',\n",
              " '__or__',\n",
              " '__reduce__',\n",
              " '__reduce_ex__',\n",
              " '__repr__',\n",
              " '__reversed__',\n",
              " '__ror__',\n",
              " '__setattr__',\n",
              " '__setitem__',\n",
              " '__sizeof__',\n",
              " '__str__',\n",
              " '__subclasshook__',\n",
              " 'clear',\n",
              " 'copy',\n",
              " 'fromkeys',\n",
              " 'get',\n",
              " 'items',\n",
              " 'keys',\n",
              " 'pop',\n",
              " 'popitem',\n",
              " 'setdefault',\n",
              " 'update',\n",
              " 'values']"
            ]
          },
          "metadata": {},
          "execution_count": 3
        }
      ],
      "source": [
        "# Clase Diccionario\n",
        "\n",
        "dir({})"
      ]
    },
    {
      "cell_type": "markdown",
      "id": "9beb2606",
      "metadata": {
        "id": "9beb2606"
      },
      "source": [
        "### Definir una clase\n",
        "\n",
        "Para definir una clase utilizamos la función **`class`** seguido del nombre que le queramos poner a la clase (como si fuese una función). **Usualmente los nombres se escriben usando \"Upper Camel Case\"**."
      ]
    },
    {
      "cell_type": "code",
      "source": [
        "# Definición de la clase. Un personaje de videojuegos que tenga 3 atributos, nombre, clase, salud\n",
        "\n",
        "class Personaje:\n",
        "  # Creamos el constructor con los atributos\n",
        "  def __init__(self, nombre, clase, salud):\n",
        "    self.nombre = nombre\n",
        "    self.clase = clase\n",
        "    self.salud = salud\n",
        "\n",
        "  # Crear los métodos atacar, recoger objeto, mostrar su estado\n",
        "  def atacar(self, enemigo):\n",
        "    enemigo.salud -= 10\n",
        "    print(f\"{self.nombre} ha atacado a {enemigo.nombre}\")\n",
        "\n",
        "  def recoger_objeto(self, objeto):\n",
        "    print(f\"{self.nombre} ha recogido un {objeto}\")\n",
        "\n",
        "  def mostrar_estado(self):\n",
        "    print(f\"Nombre: {self.nombre}\")\n",
        "    print(f\"Clase: {self.clase}\")\n",
        "    print(f\"Salud: {self.salud}\")\n",
        "\n",
        "  def __str__(self):\n",
        "    return f\"Nombre: {self.nombre}\\nClase: {self.clase}\\nSalud: {self.salud}\"\n",
        "\n",
        "  def saludar(self):\n",
        "    print(f\"Hola, soy {self.nombre}\")\n",
        "\n",
        "  def __del__(self):\n",
        "    print(f\"{self.nombre} ha muerto\")\n",
        "\n",
        "  def __add__(self, enemigo):\n",
        "    return self.salud + enemigo.salud\n",
        "\n",
        "  def __lt__(self, enemigo):\n",
        "    return self.salud < enemigo.salud\n",
        "\n",
        "  def __le__(self, enemigo):\n",
        "    return self.salud <= enemigo.salud\n",
        "\n",
        "  def __gt__(self, enemigo):\n",
        "    return self.salud > enemigo.salud\n",
        "\n",
        "  def __ge__(self, enemigo):\n",
        "    return self.salud >= enemigo.salud\n",
        "\n",
        "  def __eq__(self, enemigo):\n",
        "    return self.salud == enemigo.salud\n",
        "\n",
        "  def __ne__(self, enemigo):\n",
        "    return self.salud != enemigo.salud\n",
        "\n",
        "  def __len__(self):\n",
        "    return len(self.nombre)"
      ],
      "metadata": {
        "id": "WQoSphXoVaNE"
      },
      "id": "WQoSphXoVaNE",
      "execution_count": 4,
      "outputs": []
    },
    {
      "cell_type": "code",
      "execution_count": 5,
      "id": "e9588f76",
      "metadata": {
        "id": "e9588f76",
        "outputId": "6baf4ba6-ac1c-4785-ea20-d544ce68c1f3",
        "colab": {
          "base_uri": "https://localhost:8080/"
        }
      },
      "outputs": [
        {
          "output_type": "stream",
          "name": "stdout",
          "text": [
            "Link\n"
          ]
        }
      ],
      "source": [
        "# Creamos dos personajes heroe y enemigo\n",
        "heroe = Personaje(\"Link\", \"Guerrero\", 100)\n",
        "enemigo = Personaje(\"Goblin\", \"Monstruo\", 300)\n",
        "\n",
        "print(heroe.nombre)\n",
        "\n",
        "# Interacción entre personajes\n"
      ]
    },
    {
      "cell_type": "markdown",
      "id": "7dd9d582",
      "metadata": {
        "id": "7dd9d582"
      },
      "source": [
        "### Herencias (inheritance)\n",
        "\n",
        "**Las herencias nos permiten definir una clase a partir de otra ya creada**, esto significa que la clase \"hija\" **tendrá todos los atributos y métodos** de la clase \"padre\", **esta nueva clase también puede tener nuevos atributos y métodos, modificar los que haya heredado o eliminarlos**.\n",
        "\n",
        "\n",
        "Para crear una clase a partir de otra usamos la siguiente sintaxis:\n",
        "\n",
        "**`class NuevaClase(ViejaClase):`**"
      ]
    },
    {
      "cell_type": "code",
      "execution_count": null,
      "id": "fb82ad02",
      "metadata": {
        "id": "fb82ad02"
      },
      "outputs": [],
      "source": [
        "# Agregar un mago que herede las carácterisitcas del presonaje\n",
        "\n",
        "class Mago(Personaje):\n",
        "\n",
        "  # definir que es de la clase mago y que parte con una salud \"especial\"\n",
        "\n",
        "    def __init__(self, nombre):\n",
        "        super().__init__(nombre, clase=\"Mago\", salud=80)\n",
        "  # darle un método adicional (un poder: lanzar hechizo )\n",
        "\n"
      ]
    },
    {
      "cell_type": "code",
      "execution_count": null,
      "id": "f383bc27",
      "metadata": {
        "scrolled": true,
        "id": "f383bc27"
      },
      "outputs": [],
      "source": [
        "# Crear instancias de las subclases\n",
        "\n",
        "# Mostrar estados\n",
        "\n",
        "\n",
        "# Acciones específicas\n",
        "\n",
        "\n",
        "# Acción heredada\n"
      ]
    },
    {
      "cell_type": "code",
      "execution_count": null,
      "id": "5aa5b1ec",
      "metadata": {
        "id": "5aa5b1ec"
      },
      "outputs": [],
      "source": [
        "################################################################################################################################"
      ]
    }
  ],
  "metadata": {
    "kernelspec": {
      "display_name": "Python 3 (ipykernel)",
      "language": "python",
      "name": "python3"
    },
    "language_info": {
      "codemirror_mode": {
        "name": "ipython",
        "version": 3
      },
      "file_extension": ".py",
      "mimetype": "text/x-python",
      "name": "python",
      "nbconvert_exporter": "python",
      "pygments_lexer": "ipython3",
      "version": "3.13.2"
    },
    "colab": {
      "provenance": [],
      "include_colab_link": true
    }
  },
  "nbformat": 4,
  "nbformat_minor": 5
}