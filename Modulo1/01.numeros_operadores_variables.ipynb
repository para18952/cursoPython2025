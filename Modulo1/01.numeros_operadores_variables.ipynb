{
  "cells": [
    {
      "cell_type": "markdown",
      "metadata": {
        "id": "view-in-github",
        "colab_type": "text"
      },
      "source": [
        "<a href=\"https://colab.research.google.com/github/para18952/cursoPython2025/blob/main/Modulo1/01.numeros_operadores_variables.ipynb\" target=\"_parent\"><img src=\"https://colab.research.google.com/assets/colab-badge.svg\" alt=\"Open In Colab\"/></a>"
      ]
    },
    {
      "cell_type": "markdown",
      "id": "2d4b2799",
      "metadata": {
        "id": "2d4b2799"
      },
      "source": [
        "## Números (int & float)\n",
        "\n",
        "En python podemos representar números usando tres tipos de datos diferentes: **int, float & complex**.\n",
        "- **int:** se usa para representar números enteros, pueden ser positivos, negativos y el cero.\n",
        "    - En python, se representa usando **int (integer o entero)**.\n",
        "    \n",
        "    \n",
        "- **float:** se usa para repersentar los números con coma decimal, estos pueden ser positivos, negativos y el cero.\n",
        "    - En python, se representan usando **float (floating point o punto flotante)**.\n",
        "    \n",
        "    \n",
        "- **complex:** se usa para representar números reales con parte imaginaria `a + bi`.\n",
        "    - En python, se representan usando **complex (complejos)**\n",
        "    \n",
        "\n",
        "Podemos verificar el tipo de dato de un número usando la función **`type()`**."
      ]
    },
    {
      "cell_type": "code",
      "execution_count": null,
      "id": "1f2d1f4f",
      "metadata": {
        "id": "1f2d1f4f"
      },
      "outputs": [],
      "source": [
        "#complex(1, 1)\n"
      ]
    },
    {
      "cell_type": "markdown",
      "id": "9ebe6862",
      "metadata": {
        "id": "9ebe6862"
      },
      "source": [
        "## Operadores Aritméticos\n",
        "\n",
        "Son operaciones aritmeticas que se pueden utilizar con diferentes tipos de datos en python:\n",
        "\n",
        "| Operador | Operación      | Ejemplo |\n",
        "|----------|----------------|---------|\n",
        "| +        | Suma           | x + y   |\n",
        "| -        | Resta          | x - y   |\n",
        "| *        | Multiplicación | x * y   |\n",
        "| /        | División       | x / y   |\n",
        "| %        | Modulo         | x % y   |\n",
        "| **       | Exponente      | x ** y  |\n",
        "| //       | División Entera| x // y  |"
      ]
    },
    {
      "cell_type": "code",
      "execution_count": null,
      "id": "ece99ec0",
      "metadata": {
        "id": "ece99ec0",
        "outputId": "dac42cbe-7c81-4833-d914-558756d091ef",
        "colab": {
          "base_uri": "https://localhost:8080/"
        }
      },
      "outputs": [
        {
          "output_type": "execute_result",
          "data": {
            "text/plain": [
              "1111111110"
            ]
          },
          "metadata": {},
          "execution_count": 3
        }
      ],
      "source": [
        "# Suma\n",
        "123456789+987654321\n"
      ]
    },
    {
      "cell_type": "code",
      "execution_count": null,
      "id": "6f6b9925",
      "metadata": {
        "id": "6f6b9925"
      },
      "outputs": [],
      "source": [
        "# Resta"
      ]
    },
    {
      "cell_type": "code",
      "execution_count": null,
      "id": "51204628",
      "metadata": {
        "id": "51204628"
      },
      "outputs": [],
      "source": [
        "# División"
      ]
    },
    {
      "cell_type": "code",
      "execution_count": null,
      "id": "71b70b9d",
      "metadata": {
        "id": "71b70b9d"
      },
      "outputs": [],
      "source": [
        "# Multiplicación"
      ]
    },
    {
      "cell_type": "code",
      "execution_count": null,
      "id": "3d879483",
      "metadata": {
        "id": "3d879483"
      },
      "outputs": [],
      "source": [
        "# Modulo (el resto de dividir x en y partes)"
      ]
    },
    {
      "cell_type": "code",
      "execution_count": null,
      "id": "a95a1c9b",
      "metadata": {
        "id": "a95a1c9b"
      },
      "outputs": [],
      "source": [
        "# Exponente"
      ]
    },
    {
      "cell_type": "code",
      "execution_count": null,
      "id": "5c033cf3",
      "metadata": {
        "id": "5c033cf3"
      },
      "outputs": [],
      "source": [
        "# División Entera"
      ]
    },
    {
      "cell_type": "code",
      "execution_count": null,
      "id": "fe407150-95ba-4ada-944a-ee1c0c7eac63",
      "metadata": {
        "id": "fe407150-95ba-4ada-944a-ee1c0c7eac63"
      },
      "outputs": [],
      "source": [
        "# Letras \"que...\" + \"ja\"*7"
      ]
    },
    {
      "cell_type": "markdown",
      "id": "a9dad416",
      "metadata": {
        "id": "a9dad416"
      },
      "source": [
        "## Variables\n",
        "\n",
        "En python podemos inicializar variables con cualquier tipo de dato que queramos utilizando el operador `=`.\n",
        "\n",
        "- Al nombrar una variable podemos utilizar letras minúsculas (a-z), letras mayúsculas (A-Z), números (0-9) y underscore (_).\n",
        "\n",
        "\n",
        "- Los nombres de las variables NO pueden empezar por un número.\n",
        "\n",
        "\n",
        "- Aunque es posible, es considerado como mala práctica utilizar palabras reservadas para nombrar variables.\n",
        "\n",
        "\n",
        "- Las variables no pueden solo contener digitos.\n",
        "\n",
        "\n",
        "- Las variables son \"case sensitive\", es decir, diferencian entre mayúsculas y minúsculas."
      ]
    },
    {
      "cell_type": "markdown",
      "id": "1c036e7c-c4d7-4cf8-a3bd-dbb198853b80",
      "metadata": {
        "id": "1c036e7c-c4d7-4cf8-a3bd-dbb198853b80"
      },
      "source": [
        "- Cuando inicializamos una variable el valor no se muestra en pantalla"
      ]
    },
    {
      "cell_type": "code",
      "execution_count": null,
      "id": "fefdb6c2",
      "metadata": {
        "id": "fefdb6c2"
      },
      "outputs": [],
      "source": [
        "# Utilidad: ayuda por integrante de familia (muchas familias)"
      ]
    },
    {
      "cell_type": "markdown",
      "id": "3f534dc2",
      "metadata": {
        "id": "3f534dc2"
      },
      "source": [
        "- Podemos asignarle a una variable el resultado de una operación:"
      ]
    },
    {
      "cell_type": "code",
      "execution_count": null,
      "id": "227e22e1-5211-4292-a171-01abc37a7c17",
      "metadata": {
        "id": "227e22e1-5211-4292-a171-01abc37a7c17"
      },
      "outputs": [],
      "source": []
    },
    {
      "cell_type": "markdown",
      "id": "2c32208c",
      "metadata": {
        "id": "2c32208c"
      },
      "source": [
        "- Y podemos verificar que tipo de dato es una variable:"
      ]
    },
    {
      "cell_type": "code",
      "execution_count": null,
      "id": "b1c46e91-ef79-4a18-afc2-c4cf88cb2b87",
      "metadata": {
        "id": "b1c46e91-ef79-4a18-afc2-c4cf88cb2b87"
      },
      "outputs": [],
      "source": []
    },
    {
      "cell_type": "markdown",
      "id": "567e1de8-b14e-4c20-b11d-51fe927bf82a",
      "metadata": {
        "id": "567e1de8-b14e-4c20-b11d-51fe927bf82a"
      },
      "source": [
        "- ¿qué pasa si se suma un entero y un decimal? suma = entero + decimal"
      ]
    },
    {
      "cell_type": "code",
      "execution_count": 3,
      "id": "4af98399-5a8b-4a4c-8642-6a155ca949ed",
      "metadata": {
        "id": "4af98399-5a8b-4a4c-8642-6a155ca949ed",
        "outputId": "e4bff3a1-4d73-40e3-c7c6-bdaf165d63d4",
        "colab": {
          "base_uri": "https://localhost:8080/"
        }
      },
      "outputs": [
        {
          "output_type": "execute_result",
          "data": {
            "text/plain": [
              "float"
            ]
          },
          "metadata": {},
          "execution_count": 3
        }
      ],
      "source": [
        "entero = 3\n",
        "decimal = 4.2\n",
        "type(entero+decimal)"
      ]
    },
    {
      "cell_type": "code",
      "execution_count": null,
      "id": "4b78a89b",
      "metadata": {
        "id": "4b78a89b"
      },
      "outputs": [],
      "source": [
        "# Veamos el módulo"
      ]
    },
    {
      "cell_type": "code",
      "execution_count": null,
      "id": "1a1d2e7a",
      "metadata": {
        "id": "1a1d2e7a"
      },
      "outputs": [],
      "source": [
        "################################################################################################################################"
      ]
    }
  ],
  "metadata": {
    "kernelspec": {
      "display_name": "Python 3 (ipykernel)",
      "language": "python",
      "name": "python3"
    },
    "language_info": {
      "codemirror_mode": {
        "name": "ipython",
        "version": 3
      },
      "file_extension": ".py",
      "mimetype": "text/x-python",
      "name": "python",
      "nbconvert_exporter": "python",
      "pygments_lexer": "ipython3",
      "version": "3.13.2"
    },
    "colab": {
      "provenance": [],
      "include_colab_link": true
    }
  },
  "nbformat": 4,
  "nbformat_minor": 5
}