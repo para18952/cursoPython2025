{
  "cells": [
    {
      "cell_type": "markdown",
      "metadata": {
        "id": "view-in-github",
        "colab_type": "text"
      },
      "source": [
        "<a href=\"https://colab.research.google.com/github/ednavivianasegura/ERAP_CursoPython/blob/main/Modulo1/16.math_random_ejercicios.ipynb\" target=\"_parent\"><img src=\"https://colab.research.google.com/assets/colab-badge.svg\" alt=\"Open In Colab\"/></a>"
      ]
    },
    {
      "cell_type": "markdown",
      "id": "3b9c8335",
      "metadata": {
        "id": "3b9c8335"
      },
      "source": [
        "## Ejercicios math y random"
      ]
    },
    {
      "cell_type": "code",
      "execution_count": null,
      "id": "ed13011e",
      "metadata": {
        "id": "ed13011e"
      },
      "outputs": [],
      "source": [
        "import math\n",
        "import random"
      ]
    },
    {
      "cell_type": "markdown",
      "id": "eca8b13f",
      "metadata": {
        "id": "eca8b13f"
      },
      "source": [
        "### Ejercicio 1\n",
        "- Crea una lista de 10 numeros enteros aleatorios entre el rango de 10 y 20 utilizando la función random.randint()"
      ]
    },
    {
      "cell_type": "code",
      "execution_count": null,
      "id": "a9c5468a",
      "metadata": {
        "id": "a9c5468a"
      },
      "outputs": [],
      "source": []
    },
    {
      "cell_type": "code",
      "execution_count": null,
      "id": "91329916",
      "metadata": {
        "id": "91329916"
      },
      "outputs": [],
      "source": []
    },
    {
      "cell_type": "code",
      "execution_count": null,
      "id": "afeb807a",
      "metadata": {
        "id": "afeb807a"
      },
      "outputs": [],
      "source": []
    },
    {
      "cell_type": "markdown",
      "id": "fc1a19d0",
      "metadata": {
        "id": "fc1a19d0"
      },
      "source": [
        "### Ejercicio 2\n",
        "- Crea una lista de 10 numeros enteros aleatorios entre el rango de 10 y 20 sin utilizar la función random.randint()"
      ]
    },
    {
      "cell_type": "code",
      "execution_count": null,
      "id": "0985d30a",
      "metadata": {
        "id": "0985d30a"
      },
      "outputs": [],
      "source": []
    },
    {
      "cell_type": "code",
      "execution_count": null,
      "id": "b04bcddf",
      "metadata": {
        "id": "b04bcddf"
      },
      "outputs": [],
      "source": []
    },
    {
      "cell_type": "code",
      "execution_count": null,
      "id": "07139a13",
      "metadata": {
        "id": "07139a13"
      },
      "outputs": [],
      "source": []
    },
    {
      "cell_type": "markdown",
      "id": "381a2b23",
      "metadata": {
        "id": "381a2b23"
      },
      "source": [
        "### Ejercicio 3\n",
        "- Genera una lista de 100 numero enteros aleatorios entre 0 y 100.\n",
        "- Genera otra lista con solo los números pares de la primera lista.\n",
        "\n",
        "- **Extra**: Hacer este ejercicio usando 1 solo bucle."
      ]
    },
    {
      "cell_type": "code",
      "execution_count": null,
      "id": "ed54e490",
      "metadata": {
        "id": "ed54e490"
      },
      "outputs": [],
      "source": []
    },
    {
      "cell_type": "code",
      "execution_count": null,
      "id": "570ff2b3",
      "metadata": {
        "id": "570ff2b3"
      },
      "outputs": [],
      "source": []
    },
    {
      "cell_type": "code",
      "execution_count": null,
      "id": "8ac4e27c",
      "metadata": {
        "id": "8ac4e27c"
      },
      "outputs": [],
      "source": []
    },
    {
      "cell_type": "markdown",
      "id": "576a3ad4",
      "metadata": {
        "id": "576a3ad4"
      },
      "source": [
        "### Ejercicio 4\n",
        "- Escribe la siguiente función utilizando las funciónes de la libreria math:\n",
        "\n",
        "<img src=\"https://github.com/ednavivianasegura/ERAP_CursoPython/blob/main/Modulo1/Imagenes%20Notebooks/math_1.png?raw=true\" width=\"300\" />"
      ]
    },
    {
      "cell_type": "markdown",
      "id": "30f3b0dd",
      "metadata": {
        "id": "30f3b0dd"
      },
      "source": [
        "<img src=\"https://github.com/ednavivianasegura/ERAP_CursoPython/blob/main/Modulo1/Imagenes%20Notebooks/math_2.png?raw=true\" width=\"300\" />\n",
        "\n",
        "- Luego prueba la función con los valores de X."
      ]
    },
    {
      "cell_type": "code",
      "execution_count": null,
      "id": "ed901e37",
      "metadata": {
        "id": "ed901e37"
      },
      "outputs": [],
      "source": [
        "x = [10, 15, 25, 35, 45]"
      ]
    },
    {
      "cell_type": "code",
      "execution_count": null,
      "id": "33621a2c",
      "metadata": {
        "id": "33621a2c"
      },
      "outputs": [],
      "source": [
        "# Escribe la formula donde esta la variable Z\n",
        "# Usa la variable X\n",
        "\n",
        "for X in x:\n",
        "    Z =\n",
        "    print(Z)"
      ]
    },
    {
      "cell_type": "code",
      "execution_count": null,
      "id": "97be855b",
      "metadata": {
        "id": "97be855b"
      },
      "outputs": [],
      "source": []
    },
    {
      "cell_type": "markdown",
      "id": "cbf0faef",
      "metadata": {
        "id": "cbf0faef"
      },
      "source": [
        "### Ejercicio 5\n",
        "- Escribe la siguiente función utilizando las funciónes de la libreria math:\n",
        "\n",
        "<img src=\"https://github.com/ednavivianasegura/ERAP_CursoPython/blob/main/Modulo1/Imagenes%20Notebooks/math_3.png?raw=true\" width=\"300\" />"
      ]
    },
    {
      "cell_type": "markdown",
      "id": "16fe5900",
      "metadata": {
        "id": "16fe5900"
      },
      "source": [
        "<img src=\"https://github.com/ednavivianasegura/ERAP_CursoPython/blob/main/Modulo1/Imagenes%20Notebooks/math_4.png?raw=true\" width=\"300\" />\n",
        "\n",
        "- Luego prueba la función con los valores de X e Y."
      ]
    },
    {
      "cell_type": "code",
      "execution_count": null,
      "id": "2190d7a4",
      "metadata": {
        "id": "2190d7a4"
      },
      "outputs": [],
      "source": [
        "x = [10, 15, 25, 35, 45]\n",
        "y = [15, 20, 30, 40, 50]"
      ]
    },
    {
      "cell_type": "code",
      "execution_count": null,
      "id": "f65f0c36",
      "metadata": {
        "id": "f65f0c36"
      },
      "outputs": [],
      "source": [
        "# Escribe la formula donde esta la variable Z\n",
        "# Usa las variables X, Y\n",
        "\n",
        "for X, Y in zip(x, y):\n",
        "    Z =\n",
        "    print(Z)"
      ]
    },
    {
      "cell_type": "code",
      "execution_count": null,
      "id": "963ecd2c",
      "metadata": {
        "id": "963ecd2c"
      },
      "outputs": [],
      "source": []
    },
    {
      "cell_type": "markdown",
      "id": "2cf9fcc4",
      "metadata": {
        "id": "2cf9fcc4"
      },
      "source": [
        "### Ejercicio 6\n",
        "- Escribe la siguiente función utilizando las funciónes de la libreria math:\n",
        "\n",
        "<img src=\"https://github.com/ednavivianasegura/ERAP_CursoPython/blob/main/Modulo1/Imagenes%20Notebooks/math_5.png?raw=true\" width=\"300\" />"
      ]
    },
    {
      "cell_type": "markdown",
      "id": "7704adab",
      "metadata": {
        "id": "7704adab"
      },
      "source": [
        "<img src=\"https://github.com/ednavivianasegura/ERAP_CursoPython/blob/main/Modulo1/Imagenes%20Notebooks/math_6.png?raw=true\" width=\"300\" />\n",
        "\n",
        "- Luego prueba la función con los valores de X e Y."
      ]
    },
    {
      "cell_type": "code",
      "execution_count": null,
      "id": "d2a14860",
      "metadata": {
        "id": "d2a14860"
      },
      "outputs": [],
      "source": [
        "x = [10, 15, 25, 35, 45]\n",
        "y = [15, 20, 30, 40, 50]"
      ]
    },
    {
      "cell_type": "code",
      "execution_count": null,
      "id": "2656ee47",
      "metadata": {
        "id": "2656ee47"
      },
      "outputs": [],
      "source": [
        "# Escribe la formula donde esta la variable Z\n",
        "# Usa las variables X, Y\n",
        "\n",
        "for X, Y in zip(x, y):\n",
        "    Z =\n",
        "    print(Z)"
      ]
    },
    {
      "cell_type": "code",
      "execution_count": null,
      "id": "c4be16b7",
      "metadata": {
        "id": "c4be16b7"
      },
      "outputs": [],
      "source": []
    },
    {
      "cell_type": "markdown",
      "id": "3b20c494",
      "metadata": {
        "id": "3b20c494"
      },
      "source": [
        "### Ejercicio 7\n",
        "- Escribe la siguiente función utilizando las funciónes de la libreria math:\n",
        "\n",
        "<img src=\"https://github.com/ednavivianasegura/ERAP_CursoPython/blob/main/Modulo1/Imagenes%20Notebooks/math_7.png?raw=true\" width=\"300\" />"
      ]
    },
    {
      "cell_type": "markdown",
      "id": "798e666b",
      "metadata": {
        "id": "798e666b"
      },
      "source": [
        "<img src=\"https://github.com/ednavivianasegura/ERAP_CursoPython/blob/main/Modulo1/Imagenes%20Notebooks/math_8.png?raw=true\" width=\"300\" />\n",
        "\n",
        "- Luego prueba la función con los valores de X e Y."
      ]
    },
    {
      "cell_type": "code",
      "execution_count": null,
      "id": "13b9f3cd",
      "metadata": {
        "id": "13b9f3cd"
      },
      "outputs": [],
      "source": [
        "x = [10, 15, 25, 35, 45]\n",
        "y = [15, 20, 30, 40, 50]"
      ]
    },
    {
      "cell_type": "code",
      "execution_count": null,
      "id": "fd22b843",
      "metadata": {
        "id": "fd22b843"
      },
      "outputs": [],
      "source": [
        "# Escribe la formula donde esta la variable Z\n",
        "# Usa las variables X, Y\n",
        "\n",
        "for X, Y in zip(x, y):\n",
        "    Z =\n",
        "    print(Z)"
      ]
    },
    {
      "cell_type": "code",
      "execution_count": null,
      "id": "3989b760",
      "metadata": {
        "id": "3989b760"
      },
      "outputs": [],
      "source": [
        "\n"
      ]
    }
  ],
  "metadata": {
    "kernelspec": {
      "display_name": "Python 3 (ipykernel)",
      "language": "python",
      "name": "python3"
    },
    "language_info": {
      "codemirror_mode": {
        "name": "ipython",
        "version": 3
      },
      "file_extension": ".py",
      "mimetype": "text/x-python",
      "name": "python",
      "nbconvert_exporter": "python",
      "pygments_lexer": "ipython3",
      "version": "3.13.2"
    },
    "colab": {
      "provenance": [],
      "include_colab_link": true
    }
  },
  "nbformat": 4,
  "nbformat_minor": 5
}