{
  "cells": [
    {
      "cell_type": "markdown",
      "metadata": {
        "id": "view-in-github",
        "colab_type": "text"
      },
      "source": [
        "<a href=\"https://colab.research.google.com/github/para18952/cursoPython2025/blob/dia_3/Modulo1/16.math_random_ejercicios.ipynb\" target=\"_parent\"><img src=\"https://colab.research.google.com/assets/colab-badge.svg\" alt=\"Open In Colab\"/></a>"
      ]
    },
    {
      "cell_type": "markdown",
      "id": "3b9c8335",
      "metadata": {
        "id": "3b9c8335"
      },
      "source": [
        "## Ejercicios math y random"
      ]
    },
    {
      "cell_type": "code",
      "execution_count": 2,
      "id": "ed13011e",
      "metadata": {
        "id": "ed13011e"
      },
      "outputs": [],
      "source": [
        "import math\n",
        "import random"
      ]
    },
    {
      "cell_type": "markdown",
      "id": "eca8b13f",
      "metadata": {
        "id": "eca8b13f"
      },
      "source": [
        "### Ejercicio 1\n",
        "- Crea una lista de 10 numeros enteros aleatorios entre el rango de 10 y 20 utilizando la función random.randint()"
      ]
    },
    {
      "cell_type": "code",
      "execution_count": 3,
      "id": "a9c5468a",
      "metadata": {
        "id": "a9c5468a",
        "outputId": "ae81498b-68bc-4fb3-f493-6bc57665110c",
        "colab": {
          "base_uri": "https://localhost:8080/"
        }
      },
      "outputs": [
        {
          "output_type": "stream",
          "name": "stdout",
          "text": [
            "[19, 14, 15, 11, 13, 11, 19, 18, 16, 14]\n"
          ]
        }
      ],
      "source": [
        "lista =[]\n",
        "for i in range(10):\n",
        "  lista.append(random.randint(10, 20))\n",
        "print(lista)"
      ]
    },
    {
      "cell_type": "code",
      "execution_count": null,
      "id": "91329916",
      "metadata": {
        "id": "91329916"
      },
      "outputs": [],
      "source": [
        "# lista de 10 numeros enteros aleatorios entre el rango de 10 y 20\n",
        "lista = [random.randint(10, 20) for i in range(10)]\n",
        "print(lista)"
      ]
    },
    {
      "cell_type": "markdown",
      "id": "fc1a19d0",
      "metadata": {
        "id": "fc1a19d0"
      },
      "source": [
        "### Ejercicio 2\n",
        "- Crea una lista de 10 numeros enteros aleatorios entre el rango de 10 y 20 sin utilizar la función random.randint()"
      ]
    },
    {
      "cell_type": "code",
      "execution_count": null,
      "id": "0985d30a",
      "metadata": {
        "id": "0985d30a"
      },
      "outputs": [],
      "source": [
        "lista = []\n",
        "for i in range(10):\n",
        "  lista.append(random.randrange(10,20,1) )\n",
        "print(lista)"
      ]
    },
    {
      "cell_type": "code",
      "execution_count": null,
      "id": "b04bcddf",
      "metadata": {
        "id": "b04bcddf"
      },
      "outputs": [],
      "source": [
        "lista = [random.randrange(10,20,1) for i in range(10)]\n",
        "print(lista)"
      ]
    },
    {
      "cell_type": "markdown",
      "id": "381a2b23",
      "metadata": {
        "id": "381a2b23"
      },
      "source": [
        "### Ejercicio 3\n",
        "- Genera una lista de 100 numero enteros aleatorios entre 0 y 100.\n",
        "- Genera otra lista con solo los números pares de la primera lista.\n",
        "\n",
        "- **Extra**: Hacer este ejercicio usando 1 solo bucle."
      ]
    },
    {
      "cell_type": "code",
      "execution_count": 5,
      "id": "ed54e490",
      "metadata": {
        "id": "ed54e490",
        "outputId": "8c8521cd-dd04-4a65-96fd-8a1f6aa0a4bc",
        "colab": {
          "base_uri": "https://localhost:8080/"
        }
      },
      "outputs": [
        {
          "output_type": "stream",
          "name": "stdout",
          "text": [
            "[94, 40, 63, 54, 80, 8, 65, 41, 74, 51, 95, 2, 66, 11, 23, 37, 2, 48, 46, 4, 40, 48, 86, 88, 49, 32, 63, 73, 10, 1, 19, 13, 2, 11, 28, 23, 48, 99, 53, 98, 84, 6, 100, 100, 36, 0, 14, 52, 93, 41, 86, 54, 58, 22, 33, 67, 2, 63, 19, 53, 5, 30, 63, 11, 63, 67, 67, 64, 61, 65, 34, 46, 42, 23, 23, 18, 78, 46, 43, 67, 11, 1, 90, 36, 51, 92, 91, 3, 16, 74, 67, 68, 14, 85, 12, 66, 83, 80, 82, 0]\n"
          ]
        }
      ],
      "source": [
        "# 100 numeros enteros aleatorios entre 0 y 100.\n",
        "lista = [random.randint(0, 100) for i in range(100)]\n",
        "print(lista)"
      ]
    },
    {
      "cell_type": "code",
      "execution_count": null,
      "id": "570ff2b3",
      "metadata": {
        "id": "570ff2b3"
      },
      "outputs": [],
      "source": [
        "listaPares = []\n",
        "for i in lista:\n",
        "  if i % 2 == 0:\n",
        "    listaPares.append(i)\n",
        "print(listaPares)"
      ]
    },
    {
      "cell_type": "code",
      "execution_count": 6,
      "id": "8ac4e27c",
      "metadata": {
        "id": "8ac4e27c",
        "outputId": "8453b076-b028-424e-f112-0674130d42e7",
        "colab": {
          "base_uri": "https://localhost:8080/"
        }
      },
      "outputs": [
        {
          "output_type": "stream",
          "name": "stdout",
          "text": [
            "[94, 40, 54, 80, 8, 74, 2, 66, 2, 48, 46, 4, 40, 48, 86, 88, 32, 10, 2, 28, 48, 98, 84, 6, 100, 100, 36, 0, 14, 52, 86, 54, 58, 22, 2, 30, 64, 34, 46, 42, 18, 78, 46, 90, 36, 92, 16, 74, 68, 14, 12, 66, 80, 82, 0]\n"
          ]
        }
      ],
      "source": [
        "listaPares = [i for i in lista if i % 2 == 0]\n",
        "print(listaPares)"
      ]
    },
    {
      "cell_type": "markdown",
      "id": "576a3ad4",
      "metadata": {
        "id": "576a3ad4"
      },
      "source": [
        "### Ejercicio 4\n",
        "- Escribe la siguiente función utilizando las funciónes de la libreria math:\n",
        "\n",
        "<img src=\"https://github.com/ednavivianasegura/ERAP_CursoPython/blob/main/Modulo1/Imagenes%20Notebooks/math_1.png?raw=true\" width=\"300\" />"
      ]
    },
    {
      "cell_type": "markdown",
      "id": "30f3b0dd",
      "metadata": {
        "id": "30f3b0dd"
      },
      "source": [
        "<img src=\"https://github.com/ednavivianasegura/ERAP_CursoPython/blob/main/Modulo1/Imagenes%20Notebooks/math_2.png?raw=true\" width=\"300\" />\n",
        "\n",
        "- Luego prueba la función con los valores de X."
      ]
    },
    {
      "cell_type": "code",
      "source": [
        "# función seno(10 pi x)/ 2x + (x-1)⁴\n",
        "funcion = lambda x: (math.sin(10 * math.pi * x) / (2 * x)) + ((x - 1) ** 4)"
      ],
      "metadata": {
        "id": "dit_onveSe1N"
      },
      "id": "dit_onveSe1N",
      "execution_count": 7,
      "outputs": []
    },
    {
      "cell_type": "code",
      "execution_count": 8,
      "id": "ed901e37",
      "metadata": {
        "id": "ed901e37",
        "outputId": "bbe22048-2a34-45ad-b1ac-7830862eae89",
        "colab": {
          "base_uri": "https://localhost:8080/"
        }
      },
      "outputs": [
        {
          "output_type": "stream",
          "name": "stdout",
          "text": [
            "[6561.0, 38416.0, 331776.0, 1336336.0, 3748096.0]\n"
          ]
        }
      ],
      "source": [
        "x = [10, 15, 25, 35, 45]\n",
        "# probar la funcion con estos valores\n",
        "resultados = [funcion(i) for i in x]\n",
        "print(resultados)"
      ]
    },
    {
      "cell_type": "code",
      "execution_count": 9,
      "id": "33621a2c",
      "metadata": {
        "id": "33621a2c",
        "outputId": "7a5a09f3-50ec-4529-b3c8-2ab46dab9d2b",
        "colab": {
          "base_uri": "https://localhost:8080/"
        }
      },
      "outputs": [
        {
          "output_type": "stream",
          "name": "stdout",
          "text": [
            "6561.0\n",
            "38416.0\n",
            "331776.0\n",
            "1336336.0\n",
            "3748096.0\n"
          ]
        }
      ],
      "source": [
        "# Escribe la formula donde esta la variable Z\n",
        "# Usa la variable X\n",
        "\n",
        "for X in x:\n",
        "    Z = funcion(X)\n",
        "    print(Z)"
      ]
    },
    {
      "cell_type": "markdown",
      "id": "cbf0faef",
      "metadata": {
        "id": "cbf0faef"
      },
      "source": [
        "### Ejercicio 5\n",
        "- Escribe la siguiente función utilizando las funciónes de la libreria math:\n",
        "\n",
        "<img src=\"https://github.com/ednavivianasegura/ERAP_CursoPython/blob/main/Modulo1/Imagenes%20Notebooks/math_3.png?raw=true\" width=\"300\" />"
      ]
    },
    {
      "cell_type": "markdown",
      "id": "16fe5900",
      "metadata": {
        "id": "16fe5900"
      },
      "source": [
        "<img src=\"https://github.com/ednavivianasegura/ERAP_CursoPython/blob/main/Modulo1/Imagenes%20Notebooks/math_4.png?raw=true\" width=\"300\" />\n",
        "\n",
        "- Luego prueba la función con los valores de X e Y."
      ]
    },
    {
      "cell_type": "code",
      "source": [
        "# funcion2 = sen(x+y)+(x-y)²-1.5x+2.5y+1\n",
        "funcion2 = lambda x, y: math.sin(x + y) + (x - y) ** 2 - 1.5 * x + 2.5 * y + 1"
      ],
      "metadata": {
        "id": "9RmRXU6sTC5g"
      },
      "id": "9RmRXU6sTC5g",
      "execution_count": 10,
      "outputs": []
    },
    {
      "cell_type": "code",
      "execution_count": 11,
      "id": "2190d7a4",
      "metadata": {
        "id": "2190d7a4",
        "outputId": "da9a429d-233a-4ad6-a805-94d13ee2d162",
        "colab": {
          "base_uri": "https://localhost:8080/"
        }
      },
      "outputs": [
        {
          "output_type": "stream",
          "name": "stdout",
          "text": [
            "[48.36764824990223, 53.07181733050385, 62.50024482664138, 73.11221836459057, 84.18326171473612]\n"
          ]
        }
      ],
      "source": [
        "x = [10, 15, 25, 35, 45]\n",
        "y = [15, 20, 30, 40, 50]\n",
        "# Llamar a la función con los valores de x e y\n",
        "resultados2 = [funcion2(i, j) for i, j in zip(x, y)]\n",
        "print(resultados2)"
      ]
    },
    {
      "cell_type": "code",
      "execution_count": 12,
      "id": "f65f0c36",
      "metadata": {
        "id": "f65f0c36",
        "outputId": "478580cf-8d60-4ca6-8e0a-138c5a0e2822",
        "colab": {
          "base_uri": "https://localhost:8080/"
        }
      },
      "outputs": [
        {
          "output_type": "stream",
          "name": "stdout",
          "text": [
            "48.36764824990223\n",
            "53.07181733050385\n",
            "62.50024482664138\n",
            "73.11221836459057\n",
            "84.18326171473612\n"
          ]
        }
      ],
      "source": [
        "# Escribe la formula donde esta la variable Z\n",
        "# Usa las variables X, Y\n",
        "\n",
        "for X, Y in zip(x, y):\n",
        "    Z = funcion2(X, Y)\n",
        "    print(Z)"
      ]
    },
    {
      "cell_type": "markdown",
      "id": "2cf9fcc4",
      "metadata": {
        "id": "2cf9fcc4"
      },
      "source": [
        "### Ejercicio 6\n",
        "- Escribe la siguiente función utilizando las funciónes de la libreria math:\n",
        "\n",
        "<img src=\"https://github.com/ednavivianasegura/ERAP_CursoPython/blob/main/Modulo1/Imagenes%20Notebooks/math_5.png?raw=true\" width=\"300\" />"
      ]
    },
    {
      "cell_type": "markdown",
      "id": "7704adab",
      "metadata": {
        "id": "7704adab"
      },
      "source": [
        "<img src=\"https://github.com/ednavivianasegura/ERAP_CursoPython/blob/main/Modulo1/Imagenes%20Notebooks/math_6.png?raw=true\" width=\"300\" />\n",
        "\n",
        "- Luego prueba la función con los valores de X e Y."
      ]
    },
    {
      "cell_type": "code",
      "source": [
        "# funcion3 = x²+2y²-0.3cos(3pix)-0.4cos(4piy)+0.7\n",
        "funcion3 = lambda x, y: x ** 2 + 2 * y ** 2 - 0.3 * math.cos(3 * math.pi * x) - 0.4 * math.cos(4 * math.pi * y) + 0.7"
      ],
      "metadata": {
        "id": "EpBbg9BlTY9Y"
      },
      "id": "EpBbg9BlTY9Y",
      "execution_count": 13,
      "outputs": []
    },
    {
      "cell_type": "code",
      "execution_count": 14,
      "id": "d2a14860",
      "metadata": {
        "id": "d2a14860",
        "outputId": "539de28a-9bb4-43e8-8359-dca8e63ae58d",
        "colab": {
          "base_uri": "https://localhost:8080/"
        }
      },
      "outputs": [
        {
          "output_type": "stream",
          "name": "stdout",
          "text": [
            "[550.0000000000001, 1025.6, 2425.6, 4425.6, 7025.6]\n"
          ]
        }
      ],
      "source": [
        "x = [10, 15, 25, 35, 45]\n",
        "y = [15, 20, 30, 40, 50]\n",
        "# llamar a funcion3 en resultados3 con los pares x e y\n",
        "resultados3 = [funcion3(i, j) for i, j in zip(x, y)]\n",
        "print(resultados3)"
      ]
    },
    {
      "cell_type": "code",
      "execution_count": null,
      "id": "2656ee47",
      "metadata": {
        "id": "2656ee47"
      },
      "outputs": [],
      "source": [
        "# Escribe la formula donde esta la variable Z\n",
        "# Usa las variables X, Y\n",
        "\n",
        "for X, Y in zip(x, y):\n",
        "    Z = funcion3(X, Y)\n",
        "    print(Z)"
      ]
    },
    {
      "cell_type": "markdown",
      "id": "3b20c494",
      "metadata": {
        "id": "3b20c494"
      },
      "source": [
        "### Ejercicio 7\n",
        "- Escribe la siguiente función utilizando las funciónes de la libreria math:\n",
        "\n",
        "<img src=\"https://github.com/ednavivianasegura/ERAP_CursoPython/blob/main/Modulo1/Imagenes%20Notebooks/math_7.png?raw=true\" width=\"300\" />"
      ]
    },
    {
      "cell_type": "markdown",
      "id": "798e666b",
      "metadata": {
        "id": "798e666b"
      },
      "source": [
        "<img src=\"https://github.com/ednavivianasegura/ERAP_CursoPython/blob/main/Modulo1/Imagenes%20Notebooks/math_8.png?raw=true\" width=\"300\" />\n",
        "\n",
        "- Luego prueba la función con los valores de X e Y."
      ]
    },
    {
      "cell_type": "code",
      "execution_count": null,
      "id": "13b9f3cd",
      "metadata": {
        "id": "13b9f3cd"
      },
      "outputs": [],
      "source": [
        "x = [10, 15, 25, 35, 45]\n",
        "y = [15, 20, 30, 40, 50]"
      ]
    },
    {
      "cell_type": "code",
      "execution_count": null,
      "id": "fd22b843",
      "metadata": {
        "id": "fd22b843"
      },
      "outputs": [],
      "source": [
        "# Escribe la formula donde esta la variable Z\n",
        "# Usa las variables X, Y\n",
        "\n",
        "for X, Y in zip(x, y):\n",
        "    Z =\n",
        "    print(Z)"
      ]
    },
    {
      "cell_type": "code",
      "execution_count": null,
      "id": "3989b760",
      "metadata": {
        "id": "3989b760"
      },
      "outputs": [],
      "source": [
        "\n"
      ]
    }
  ],
  "metadata": {
    "kernelspec": {
      "display_name": "Python 3 (ipykernel)",
      "language": "python",
      "name": "python3"
    },
    "language_info": {
      "codemirror_mode": {
        "name": "ipython",
        "version": 3
      },
      "file_extension": ".py",
      "mimetype": "text/x-python",
      "name": "python",
      "nbconvert_exporter": "python",
      "pygments_lexer": "ipython3",
      "version": "3.13.2"
    },
    "colab": {
      "provenance": [],
      "include_colab_link": true
    }
  },
  "nbformat": 4,
  "nbformat_minor": 5
}