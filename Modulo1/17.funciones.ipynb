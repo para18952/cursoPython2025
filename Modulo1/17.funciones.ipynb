{
  "cells": [
    {
      "cell_type": "markdown",
      "metadata": {
        "id": "view-in-github",
        "colab_type": "text"
      },
      "source": [
        "<a href=\"https://colab.research.google.com/github/ednavivianasegura/ERAP_CursoPython/blob/main/Modulo1/17.funciones.ipynb\" target=\"_parent\"><img src=\"https://colab.research.google.com/assets/colab-badge.svg\" alt=\"Open In Colab\"/></a>"
      ]
    },
    {
      "cell_type": "markdown",
      "id": "8f80f7cc",
      "metadata": {
        "id": "8f80f7cc"
      },
      "source": [
        "## Funciones\n",
        "\n",
        "Una **función** es un bloque de código con un nombre asociado, que **recibe cero o más argumentos como entrada**, sigue una secuencia de sentencias, la cuales ejecuta una operación deseada y **devuelve un valor y/o realiza una tarea**.\n",
        "\n",
        "En python las funciones se definen con la palabra reservada **`def`** y si es necesario, se utiliza la palabra reservada **`return`**.\n",
        "\n",
        "- Sintaxis:\n",
        "```python\n",
        "    def NombreFuncion(parametros):\n",
        "        \"bloque de código\"\n",
        "        return\n",
        "```\n",
        "\n",
        "**Ejemplo:**"
      ]
    },
    {
      "cell_type": "code",
      "execution_count": 1,
      "id": "5ce0239c",
      "metadata": {
        "id": "5ce0239c"
      },
      "outputs": [],
      "source": [
        "# El cuadrado de un número\n",
        "\n",
        "# Esta función toma como parametro un número \"x\" y retorna el cuadrado de \"x\""
      ]
    },
    {
      "cell_type": "code",
      "execution_count": null,
      "id": "b0c0a303",
      "metadata": {
        "id": "b0c0a303"
      },
      "outputs": [],
      "source": []
    },
    {
      "cell_type": "code",
      "execution_count": null,
      "id": "164fc5b8",
      "metadata": {
        "id": "164fc5b8"
      },
      "outputs": [],
      "source": [
        "# Datos de un usuario\n",
        "\n",
        "def func_datos():\n",
        "\n",
        "    nombre   =   input(\"Ingresa tu nombre: \")\n",
        "    apellido =   input(\"Ingresa tu apellido: \")\n",
        "    edad     =   int(input(\"Ingresa tu edad: \"))\n",
        "    lenguaje =   input(\"Ingresa tu lenguaje de programación favorito: \")\n",
        "\n",
        "    datos = [nombre, apellido, edad, lenguaje]\n",
        "\n",
        "    return datos\n",
        "\n",
        "# Esta función no toma ningún parametro, pero retorna una lista con los datos que pregunta al usuario al ejecutarse."
      ]
    },
    {
      "cell_type": "code",
      "source": [
        "# Asignar el retorno a una lista"
      ],
      "metadata": {
        "id": "LQldn7d1qlhI"
      },
      "id": "LQldn7d1qlhI",
      "execution_count": null,
      "outputs": []
    },
    {
      "cell_type": "markdown",
      "source": [
        "### Retornar más de un elemento\n",
        "\n",
        "Hasta ahora hemos hecho funciones que solo retornan un elemento, número, lista... Pero podemos hacer que el **`return`** nos retorne varias elementos, de esta forma podemos asignar varias variables al mismo tiempo."
      ],
      "metadata": {
        "id": "0OlpgshIuKQB"
      },
      "id": "0OlpgshIuKQB"
    },
    {
      "cell_type": "code",
      "source": [],
      "metadata": {
        "id": "LWFJCG3IuOuB"
      },
      "id": "LWFJCG3IuOuB",
      "execution_count": null,
      "outputs": []
    },
    {
      "cell_type": "code",
      "execution_count": null,
      "id": "8a20dc16",
      "metadata": {
        "id": "8a20dc16"
      },
      "outputs": [],
      "source": [
        "# Función que calcula el valor máximo, el mínimo y el promedio de una lista"
      ]
    },
    {
      "cell_type": "markdown",
      "id": "8bcc04ee",
      "metadata": {
        "id": "8bcc04ee"
      },
      "source": [
        "### Parámetros por defecto (opcionales) y return\n",
        "\n",
        "- En python se pueden crear funciones con parámetros por defecto, estos parametros se pueden modificar al momento de llamar a la función.\n",
        "\n",
        "- Al momento de definir una función con parámetros opcionales de definen después de los obligatorios. Es decir, primero se escriben los parámetros obligatorios y de segundo los opcionales.\n",
        "\n",
        "- **`return:`** Cuando la función llega a la parte del **`return`** esta se detiene y termina su ejecución. Una función puede tener más de un **`return`** o no tenerlo."
      ]
    },
    {
      "cell_type": "code",
      "execution_count": null,
      "id": "4c92786f",
      "metadata": {
        "id": "4c92786f"
      },
      "outputs": [],
      "source": [
        "# En esta función tenemos 2 parametros obligatorios y 1 opcional"
      ]
    },
    {
      "cell_type": "code",
      "source": [],
      "metadata": {
        "id": "grcHnBcx48-k"
      },
      "id": "grcHnBcx48-k",
      "execution_count": null,
      "outputs": []
    },
    {
      "cell_type": "markdown",
      "id": "a84373ca",
      "metadata": {
        "id": "a84373ca"
      },
      "source": [
        "### Lambda (función anónima)\n",
        "\n",
        "Python cuenta con la función **`lambda`**, también llamada función anónima, su utilidad es poder crear funciones sin tener que darle un nombre. Debido a la sintaxis de la función **`lambda`** está es un poco limitada.\n",
        "\n",
        "Se usa principalmente para funciones cortas, puede tomar muchos parámetros y puede retornar cualquier tipo de dato (numero, tupla, lista, diccionario...).\n",
        "\n",
        "- Sintaxis: **`lambda parametros : expresiones`**"
      ]
    },
    {
      "cell_type": "code",
      "execution_count": null,
      "id": "fdca7a3b",
      "metadata": {
        "id": "fdca7a3b"
      },
      "outputs": [],
      "source": [
        "x = lambda a, b : a + b\n",
        "\n",
        "x(10, 20)"
      ]
    },
    {
      "cell_type": "markdown",
      "id": "51844126",
      "metadata": {
        "id": "51844126"
      },
      "source": [
        "**Si quisieramos que retorne más de un elemento, podemos colocar las operaciones en una lista o tupla.**"
      ]
    },
    {
      "cell_type": "code",
      "execution_count": null,
      "id": "bd2a5a9c",
      "metadata": {
        "id": "bd2a5a9c"
      },
      "outputs": [],
      "source": [
        "x = lambda a, b : [a + b, a - b]\n",
        "x(10, 10)"
      ]
    },
    {
      "cell_type": "code",
      "source": [
        "# Se pueden usar funciones dentro de lambda\n"
      ],
      "metadata": {
        "id": "tI3FphAr_F9y"
      },
      "id": "tI3FphAr_F9y",
      "execution_count": null,
      "outputs": []
    },
    {
      "cell_type": "code",
      "source": [
        "# Util con funciones como filter"
      ],
      "metadata": {
        "id": "TIp99uI8_aoY"
      },
      "id": "TIp99uI8_aoY",
      "execution_count": null,
      "outputs": []
    },
    {
      "cell_type": "markdown",
      "id": "1c1ed8b9",
      "metadata": {
        "id": "1c1ed8b9"
      },
      "source": [
        "**También podemos usar funciones dentro de `lambda`**"
      ]
    },
    {
      "cell_type": "code",
      "execution_count": null,
      "id": "112702bc",
      "metadata": {
        "id": "112702bc"
      },
      "outputs": [],
      "source": [
        "################################################################################################################################"
      ]
    }
  ],
  "metadata": {
    "kernelspec": {
      "display_name": "Python 3 (ipykernel)",
      "language": "python",
      "name": "python3"
    },
    "language_info": {
      "codemirror_mode": {
        "name": "ipython",
        "version": 3
      },
      "file_extension": ".py",
      "mimetype": "text/x-python",
      "name": "python",
      "nbconvert_exporter": "python",
      "pygments_lexer": "ipython3",
      "version": "3.13.2"
    },
    "colab": {
      "provenance": [],
      "include_colab_link": true
    }
  },
  "nbformat": 4,
  "nbformat_minor": 5
}