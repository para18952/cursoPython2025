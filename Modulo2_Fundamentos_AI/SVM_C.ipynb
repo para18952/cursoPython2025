{
  "cells": [
    {
      "cell_type": "markdown",
      "metadata": {
        "id": "view-in-github",
        "colab_type": "text"
      },
      "source": [
        "<a href=\"https://colab.research.google.com/github/ednavivianasegura/ERAP_CursoPython/blob/main/Modulo2_Fundamentos_AI/SVM_C.ipynb\" target=\"_parent\"><img src=\"https://colab.research.google.com/assets/colab-badge.svg\" alt=\"Open In Colab\"/></a>"
      ]
    },
    {
      "cell_type": "code",
      "source": [
        "!git clone https://github.com/ednavivianasegura/ERAP_CursoPython.git"
      ],
      "metadata": {
        "id": "VF2ynZOn7xhP"
      },
      "id": "VF2ynZOn7xhP",
      "execution_count": null,
      "outputs": []
    },
    {
      "cell_type": "code",
      "source": [
        "import os\n",
        "os.chdir(\"/content/ERAP_CursoPython/Modulo2_Fundamentos_AI\")"
      ],
      "metadata": {
        "id": "84QjGM4z7xWj"
      },
      "id": "84QjGM4z7xWj",
      "execution_count": null,
      "outputs": []
    },
    {
      "cell_type": "code",
      "execution_count": null,
      "id": "f2ec376e-d935-4310-b949-fb52dbc14711",
      "metadata": {
        "id": "f2ec376e-d935-4310-b949-fb52dbc14711"
      },
      "outputs": [],
      "source": [
        "# Importar librerías\n",
        "import pandas as pd\n",
        "import seaborn as sns\n",
        "import matplotlib.pyplot as plt\n",
        "from sklearn.datasets import load_breast_cancer\n",
        "from sklearn.model_selection import train_test_split\n",
        "from sklearn.preprocessing import StandardScaler\n",
        "from sklearn.svm import SVC\n",
        "from sklearn.metrics import confusion_matrix, classification_report"
      ]
    },
    {
      "cell_type": "code",
      "execution_count": null,
      "id": "3bdc6d56-d927-4bcd-a278-90cc1a6f50d0",
      "metadata": {
        "id": "3bdc6d56-d927-4bcd-a278-90cc1a6f50d0"
      },
      "outputs": [],
      "source": [
        "import matplotlib.pyplot as plt\n",
        "import matplotlib.image as mpimg\n",
        "plt.figure(figsize=(10, 6))\n",
        "img = mpimg.imread('Imagenes/SVM_C.png')\n",
        "plt.imshow(img)\n",
        "plt.axis('off')  # Opcional: oculta los ejes\n",
        "plt.show()"
      ]
    },
    {
      "cell_type": "code",
      "execution_count": null,
      "id": "d209f5e6-382f-4377-a021-18d98f1f3e0e",
      "metadata": {
        "id": "d209f5e6-382f-4377-a021-18d98f1f3e0e"
      },
      "outputs": [],
      "source": [
        "import matplotlib.pyplot as plt\n",
        "import matplotlib.image as mpimg\n",
        "plt.figure(figsize=(10, 6))\n",
        "img = mpimg.imread('Imagenes/VectoresSoporte.png')\n",
        "plt.imshow(img)\n",
        "plt.axis('off')  # Opcional: oculta los ejes\n",
        "plt.show()"
      ]
    },
    {
      "cell_type": "code",
      "execution_count": null,
      "id": "7bf40231-e347-4c3b-b57d-33d18724fe2a",
      "metadata": {
        "id": "7bf40231-e347-4c3b-b57d-33d18724fe2a"
      },
      "outputs": [],
      "source": [
        "import matplotlib.pyplot as plt\n",
        "import matplotlib.image as mpimg\n",
        "plt.figure(figsize=(10, 6))\n",
        "img = mpimg.imread('Imagenes/SVM_C_MargenBlando.png')\n",
        "plt.imshow(img)\n",
        "plt.axis('off')  # Opcional: oculta los ejes\n",
        "plt.show()"
      ]
    },
    {
      "cell_type": "code",
      "execution_count": null,
      "id": "03c54271-aa99-48f4-9bbb-a52a5d56cc59",
      "metadata": {
        "id": "03c54271-aa99-48f4-9bbb-a52a5d56cc59"
      },
      "outputs": [],
      "source": [
        "import matplotlib.pyplot as plt\n",
        "import matplotlib.image as mpimg\n",
        "plt.figure(figsize=(10, 6))\n",
        "img = mpimg.imread('Imagenes/SVM_C_Kernel.png')\n",
        "plt.imshow(img)\n",
        "plt.axis('off')  # Opcional: oculta los ejes\n",
        "plt.show()"
      ]
    },
    {
      "cell_type": "code",
      "execution_count": null,
      "id": "b096b470-5545-45e9-bc7d-449b251e4173",
      "metadata": {
        "id": "b096b470-5545-45e9-bc7d-449b251e4173"
      },
      "outputs": [],
      "source": [
        "# 1. Cargar el dataset y convertirlo en DataFrame\n",
        "data = load_breast_cancer()\n",
        "df = pd.DataFrame(data.data, columns=data.feature_names)\n",
        "df['target'] = data.target\n",
        "\n",
        "# Separar X (características) e y (etiqueta) usando .drop()\n",
        "X = df.drop('target', axis=1)\n",
        "y = df['target']\n",
        "# df['target'] = df['target'].map({0: 'malignant', 1: 'benign'})  # etiquetas legibles"
      ]
    },
    {
      "cell_type": "code",
      "execution_count": null,
      "id": "4a9a7fba-14dd-4bfb-bef8-5767ec0da0ab",
      "metadata": {
        "id": "4a9a7fba-14dd-4bfb-bef8-5767ec0da0ab"
      },
      "outputs": [],
      "source": [
        "# Configurar el estilo de Seaborn\n",
        "sns.set(style=\"whitegrid\")\n",
        "\n",
        "# Crear un pairplot y guardarlo en una variable\n",
        "pairplot = sns.pairplot(df[['mean radius', 'mean texture', 'mean perimeter', 'mean area',\n",
        "       'mean smoothness','target']], hue='target')"
      ]
    },
    {
      "cell_type": "code",
      "execution_count": null,
      "id": "71ec8baf-af07-4fe7-9658-fb0c3091a303",
      "metadata": {
        "id": "71ec8baf-af07-4fe7-9658-fb0c3091a303"
      },
      "outputs": [],
      "source": [
        "# 2. Visualización exploratoria con seaborn\n",
        "plt.figure(figsize=(8, 4))\n",
        "sns.countplot(x='target', data=df, palette='Set2')\n",
        "plt.title('Distribución de clases')\n",
        "plt.show()"
      ]
    },
    {
      "cell_type": "code",
      "execution_count": null,
      "id": "f3e2a657-3888-47a8-987b-29eacbbeaa0f",
      "metadata": {
        "id": "f3e2a657-3888-47a8-987b-29eacbbeaa0f"
      },
      "outputs": [],
      "source": [
        "# 3. División en entrenamiento y prueba\n",
        "X_train, X_test, y_train, y_test = train_test_split(X, y, test_size=0.3, random_state=42)"
      ]
    },
    {
      "cell_type": "code",
      "execution_count": null,
      "id": "cb5d3736-332c-4547-b2ac-5d4ac2fcdeb4",
      "metadata": {
        "id": "cb5d3736-332c-4547-b2ac-5d4ac2fcdeb4"
      },
      "outputs": [],
      "source": [
        "# 4. Escalar características (muy importante para SVM)\n",
        "scaler = StandardScaler()\n",
        "X_train_scaled = scaler.fit_transform(X_train)\n",
        "X_test_scaled = scaler.transform(X_test)"
      ]
    },
    {
      "cell_type": "code",
      "execution_count": null,
      "id": "9b8a9881-9507-43d4-aaf2-a7ee63a3032a",
      "metadata": {
        "id": "9b8a9881-9507-43d4-aaf2-a7ee63a3032a"
      },
      "outputs": [],
      "source": [
        "# 5. Entrenar el modelo SVM con kernel lineal\n",
        "svm = SVC(kernel='linear', C=1.0, random_state=42)\n",
        "svm.fit(X_train_scaled, y_train)"
      ]
    },
    {
      "cell_type": "code",
      "execution_count": null,
      "id": "734cced3-7497-4a3d-b14b-4aa2b3e16d36",
      "metadata": {
        "id": "734cced3-7497-4a3d-b14b-4aa2b3e16d36"
      },
      "outputs": [],
      "source": [
        "# 6. Predicciones\n",
        "y_pred = svm.predict(X_test_scaled)"
      ]
    },
    {
      "cell_type": "code",
      "execution_count": null,
      "id": "97595f85-d043-4324-b16c-c03a06f5158a",
      "metadata": {
        "id": "97595f85-d043-4324-b16c-c03a06f5158a"
      },
      "outputs": [],
      "source": [
        "# 7. Matriz de confusión\n",
        "cm = confusion_matrix(y_test, y_pred)\n",
        "\n",
        "plt.figure(figsize=(6, 5))\n",
        "sns.heatmap(cm, annot=True, fmt='d', cmap='Blues',\n",
        "            xticklabels=data.target_names,\n",
        "            yticklabels=data.target_names)\n",
        "plt.xlabel('Predicción')\n",
        "plt.ylabel('Real')\n",
        "plt.title('Matriz de Confusión - SVM Lineal')\n",
        "plt.show()"
      ]
    },
    {
      "cell_type": "code",
      "execution_count": null,
      "id": "7a478a1f-7784-4010-a6b4-bf8ca77e1b94",
      "metadata": {
        "id": "7a478a1f-7784-4010-a6b4-bf8ca77e1b94"
      },
      "outputs": [],
      "source": [
        "# 8. Reporte de clasificación\n",
        "print(\"Reporte de Clasificación:\\n\")\n",
        "print(classification_report(y_test, y_pred, target_names=data.target_names))"
      ]
    },
    {
      "cell_type": "code",
      "execution_count": null,
      "id": "3ebe3224-7f27-4ec9-89d5-f6d0fd059028",
      "metadata": {
        "id": "3ebe3224-7f27-4ec9-89d5-f6d0fd059028"
      },
      "outputs": [],
      "source": [
        "import numpy as np\n",
        "import matplotlib.pyplot as plt\n",
        "import pandas as pd\n",
        "from sklearn.datasets import make_circles\n",
        "from sklearn.model_selection import train_test_split\n",
        "from sklearn.preprocessing import StandardScaler\n",
        "from sklearn.svm import SVC\n",
        "from sklearn.metrics import confusion_matrix, ConfusionMatrixDisplay, classification_report\n",
        "import seaborn as sns\n",
        "\n",
        "# 1. Generar datos artificiales no linealmente separables\n",
        "X, y = make_circles(n_samples=300, factor=0.3, noise=0.1, random_state=42)\n",
        "\n",
        "# Escalar los datos (importante para SVM con kernel RBF)\n",
        "scaler = StandardScaler()\n",
        "X_scaled = scaler.fit_transform(X)"
      ]
    },
    {
      "cell_type": "code",
      "execution_count": null,
      "id": "4543af12-ba05-4442-b823-a515cdcd9b1c",
      "metadata": {
        "id": "4543af12-ba05-4442-b823-a515cdcd9b1c"
      },
      "outputs": [],
      "source": [
        "# Se grafican los datos\n",
        "sns.scatterplot(x=X[:, 0], y=X[:, 1], hue=y, palette=\"Set1\", edgecolor='k')"
      ]
    },
    {
      "cell_type": "code",
      "execution_count": null,
      "id": "a7994aa7-1bc4-4fe6-acf0-048140e84e66",
      "metadata": {
        "id": "a7994aa7-1bc4-4fe6-acf0-048140e84e66"
      },
      "outputs": [],
      "source": [
        "# Se divide en train/test\n",
        "X_train, X_test, y_train, y_test = train_test_split(X_scaled, y, test_size=0.3, random_state=42)"
      ]
    },
    {
      "cell_type": "code",
      "execution_count": null,
      "id": "a69b4f5e-9a54-4df7-9431-9f9a334dc140",
      "metadata": {
        "id": "a69b4f5e-9a54-4df7-9431-9f9a334dc140"
      },
      "outputs": [],
      "source": [
        "# 2. Entrenar SVM con kernel LINEAL\n",
        "svm_linear = SVC(kernel='linear', C=1)\n",
        "svm_linear.fit(X_train, y_train)\n",
        "y_pred_linear = svm_linear.predict(X_test)"
      ]
    },
    {
      "cell_type": "code",
      "execution_count": null,
      "id": "fcf1b73c-a936-4d4c-964b-6ba43b12a652",
      "metadata": {
        "id": "fcf1b73c-a936-4d4c-964b-6ba43b12a652"
      },
      "outputs": [],
      "source": [
        "# Se define una función para calcular la matriz de confusión y mostrar las métricas\n",
        "def evaluar_modelo(y_test, y_pred, titulo):\n",
        "    print(f\"\\n🔍 Evaluación del modelo: {titulo}\")\n",
        "    print(classification_report(y_test, y_pred))\n",
        "    cm = confusion_matrix(y_test, y_pred)\n",
        "    disp = ConfusionMatrixDisplay(confusion_matrix=cm)\n",
        "    disp.plot(cmap='Blues')\n",
        "    plt.title(f\"Matriz de confusión: {titulo}\")\n",
        "    plt.show()"
      ]
    },
    {
      "cell_type": "code",
      "execution_count": null,
      "id": "3a29c99e-4823-4f52-b3be-c197cb7dbc43",
      "metadata": {
        "id": "3a29c99e-4823-4f52-b3be-c197cb7dbc43"
      },
      "outputs": [],
      "source": [
        "# Se define una función para calcular la matriz de confusión y mostrar las métricas\n",
        "def graficar_frontera(modelo, X, y, titulo):\n",
        "    h = 0.02  # paso del mesh\n",
        "    x_min, x_max = X[:, 0].min() - 1, X[:, 0].max() + 1\n",
        "    y_min, y_max = X[:, 1].min() - 1, X[:, 1].max() + 1\n",
        "    xx, yy = np.meshgrid(np.arange(x_min, x_max, h),\n",
        "                         np.arange(y_min, y_max, h))\n",
        "\n",
        "    Z = modelo.predict(np.c_[xx.ravel(), yy.ravel()])\n",
        "    Z = Z.reshape(xx.shape)\n",
        "\n",
        "    plt.figure(figsize=(8,6))\n",
        "    plt.contourf(xx, yy, Z, cmap=plt.cm.Pastel1, alpha=0.8)\n",
        "    sns.scatterplot(x=X[:, 0], y=X[:, 1], hue=y, palette=\"Set1\", edgecolor='k')\n",
        "    plt.title(titulo)\n",
        "    plt.xlabel(\"Característica 1\")\n",
        "    plt.ylabel(\"Característica 2\")\n",
        "    plt.grid(True)\n",
        "    plt.show()"
      ]
    },
    {
      "cell_type": "code",
      "execution_count": null,
      "id": "32e8b8ac-522a-40a7-bd5e-b8242f79666a",
      "metadata": {
        "id": "32e8b8ac-522a-40a7-bd5e-b8242f79666a"
      },
      "outputs": [],
      "source": [
        "graficar_frontera(svm_linear, X_scaled, y, \"Frontera de decisión - Kernel Lineal\")"
      ]
    },
    {
      "cell_type": "code",
      "execution_count": null,
      "id": "e1d72951-523f-4aa3-8b6f-0c19543df6bd",
      "metadata": {
        "id": "e1d72951-523f-4aa3-8b6f-0c19543df6bd"
      },
      "outputs": [],
      "source": [
        "evaluar_modelo(y_test, y_pred_linear, \"SVM con Kernel Lineal\")"
      ]
    },
    {
      "cell_type": "markdown",
      "id": "0200a1af-ed0d-4e10-979f-59951602c16b",
      "metadata": {
        "id": "0200a1af-ed0d-4e10-979f-59951602c16b"
      },
      "source": [
        "**Esto significa que el modelo SVM con kernel lineal, está clasificando todos los datos como clase 0, y ninguno como clase 1.**"
      ]
    },
    {
      "cell_type": "code",
      "execution_count": null,
      "id": "9caef005-ccb9-42fa-97fa-11c950cd3c5c",
      "metadata": {
        "id": "9caef005-ccb9-42fa-97fa-11c950cd3c5c"
      },
      "outputs": [],
      "source": [
        "## Ahora con un kernel de una función de base radial."
      ]
    },
    {
      "cell_type": "code",
      "execution_count": null,
      "id": "9a76ec16-06ce-4b29-b8d3-dcada2d97dd2",
      "metadata": {
        "id": "9a76ec16-06ce-4b29-b8d3-dcada2d97dd2"
      },
      "outputs": [],
      "source": [
        "# 3. Entrenar SVM con kernel RBF\n",
        "svm_rbf = SVC(kernel='rbf', C=1, gamma='scale')\n",
        "svm_rbf.fit(X_train, y_train)\n",
        "y_pred_rbf = svm_rbf.predict(X_test)"
      ]
    },
    {
      "cell_type": "code",
      "execution_count": null,
      "id": "ea4f8419-8f43-4457-8a49-f3c4410d3aaf",
      "metadata": {
        "id": "ea4f8419-8f43-4457-8a49-f3c4410d3aaf"
      },
      "outputs": [],
      "source": [
        "evaluar_modelo(y_test, y_pred_rbf, \"SVM con Kernel RBF\")"
      ]
    },
    {
      "cell_type": "code",
      "execution_count": null,
      "id": "8c941d61-e9de-40b1-a1fd-48b5ca2fadeb",
      "metadata": {
        "id": "8c941d61-e9de-40b1-a1fd-48b5ca2fadeb"
      },
      "outputs": [],
      "source": [
        "graficar_frontera(svm_rbf, X_scaled, y, \"Frontera de decisión - Kernel RBF\")"
      ]
    },
    {
      "cell_type": "code",
      "execution_count": null,
      "id": "0c6438e7-5ba0-42e6-bf38-c54f613d3e9c",
      "metadata": {
        "id": "0c6438e7-5ba0-42e6-bf38-c54f613d3e9c"
      },
      "outputs": [],
      "source": [
        "# Se grafican los datos\n",
        "sns.scatterplot(x=X[:, 0], y=X[:, 1], hue=y, palette=\"Set1\", edgecolor='k')"
      ]
    },
    {
      "cell_type": "code",
      "execution_count": null,
      "id": "3f234c4c-4d7c-4a57-8c9c-37b9e77d0d14",
      "metadata": {
        "id": "3f234c4c-4d7c-4a57-8c9c-37b9e77d0d14"
      },
      "outputs": [],
      "source": [
        "nuevo_dato = np.array([[-0.5, 0]])"
      ]
    },
    {
      "cell_type": "code",
      "execution_count": null,
      "id": "ad528d36-aa71-462f-a7da-70ed62fd2447",
      "metadata": {
        "id": "ad528d36-aa71-462f-a7da-70ed62fd2447"
      },
      "outputs": [],
      "source": [
        "nuevo_dato_escalado = scaler.transform(nuevo_dato)"
      ]
    },
    {
      "cell_type": "code",
      "execution_count": null,
      "id": "5a6a223b-df5e-428f-ad60-da60d08f5075",
      "metadata": {
        "id": "5a6a223b-df5e-428f-ad60-da60d08f5075"
      },
      "outputs": [],
      "source": [
        "prediccion = svm_rbf.predict(nuevo_dato_escalado)\n",
        "print(\"Clase predicha:\", prediccion[0])"
      ]
    },
    {
      "cell_type": "code",
      "execution_count": null,
      "id": "89bdfb9f-e318-45da-980f-266289c776a3",
      "metadata": {
        "id": "89bdfb9f-e318-45da-980f-266289c776a3"
      },
      "outputs": [],
      "source": []
    }
  ],
  "metadata": {
    "kernelspec": {
      "display_name": "Python 3 (ipykernel)",
      "language": "python",
      "name": "python3"
    },
    "language_info": {
      "codemirror_mode": {
        "name": "ipython",
        "version": 3
      },
      "file_extension": ".py",
      "mimetype": "text/x-python",
      "name": "python",
      "nbconvert_exporter": "python",
      "pygments_lexer": "ipython3",
      "version": "3.13.2"
    },
    "colab": {
      "provenance": [],
      "include_colab_link": true
    }
  },
  "nbformat": 4,
  "nbformat_minor": 5
}