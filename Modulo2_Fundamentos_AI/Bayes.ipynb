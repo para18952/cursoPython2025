{
  "cells": [
    {
      "cell_type": "markdown",
      "metadata": {
        "id": "view-in-github",
        "colab_type": "text"
      },
      "source": [
        "<a href=\"https://colab.research.google.com/github/ednavivianasegura/ERAP_CursoPython/blob/main/Modulo2_Fundamentos_AI/Bayes.ipynb\" target=\"_parent\"><img src=\"https://colab.research.google.com/assets/colab-badge.svg\" alt=\"Open In Colab\"/></a>"
      ]
    },
    {
      "cell_type": "code",
      "source": [
        "!git clone https://github.com/ednavivianasegura/ERAP_CursoPython.git"
      ],
      "metadata": {
        "id": "m_jJ2uox8Ocx"
      },
      "id": "m_jJ2uox8Ocx",
      "execution_count": null,
      "outputs": []
    },
    {
      "cell_type": "code",
      "source": [
        "import os\n",
        "os.chdir(\"/content/ERAP_CursoPython/Modulo2_Fundamentos_AI\")"
      ],
      "metadata": {
        "id": "A7DHPE2Z8ORn"
      },
      "id": "A7DHPE2Z8ORn",
      "execution_count": null,
      "outputs": []
    },
    {
      "cell_type": "markdown",
      "id": "56c76a93-cff2-4018-bdcd-4d7b226c31ef",
      "metadata": {
        "id": "56c76a93-cff2-4018-bdcd-4d7b226c31ef"
      },
      "source": [
        "### 🧠 Clasificadores Bayesianos: Teoría Breve\n",
        "\n",
        "Los clasificadores bayesianos se basan en el **Teorema de Bayes**, el cual permite calcular la probabilidad posterior de una clase dada una observación \\( x \\). Se expresa de la siguiente forma:\n",
        "\n",
        "$$\n",
        "P(C_k \\mid x) = \\frac{P(x \\mid C_k) \\cdot P(C_k)}{P(x)}\n",
        "$$\n",
        "\n",
        "**Donde:**\n",
        "\n",
        "$P(C_k \\mid x)$: Probabilidad posterior de que la observación $ x $ pertenezca a la clase $ C_k $,\n",
        "\n",
        "$P(x \\mid C_k)$: Verosimilitud, es decir, la probabilidad de observar $ x $ dado que pertenece a la clase $ C_k $,\n",
        "\n",
        "$ P(C_k)$      : Probabilidad previa de la clase $ C_k $,\n",
        "\n",
        "$ P(x) $       : Probabilidad total de observar $ x $ (es constante para todas las clases).\n",
        "\n",
        "\n",
        "**Para clasificar una nueva observación, se escoge la clase con mayor probabilidad a posteriori.**\n"
      ]
    },
    {
      "cell_type": "code",
      "execution_count": null,
      "id": "006fc0f0-6066-4eb4-9afe-06e901a6c452",
      "metadata": {
        "id": "006fc0f0-6066-4eb4-9afe-06e901a6c452"
      },
      "outputs": [],
      "source": [
        "import matplotlib.pyplot as plt\n",
        "import matplotlib.image as mpimg\n",
        "plt.figure(figsize=(10, 6))\n",
        "img = mpimg.imread('Imagenes/NaiveBayes.png')\n",
        "plt.imshow(img)\n",
        "plt.axis('off')  # Opcional: oculta los ejes\n",
        "plt.show()"
      ]
    },
    {
      "cell_type": "code",
      "execution_count": null,
      "id": "66d32d44-8a0c-4a03-a3c1-905c13d20592",
      "metadata": {
        "id": "66d32d44-8a0c-4a03-a3c1-905c13d20592"
      },
      "outputs": [],
      "source": [
        "plt.figure(figsize=(10, 6))\n",
        "img = mpimg.imread('Imagenes/BayesEj_1.png')\n",
        "plt.imshow(img)\n",
        "plt.axis('off')  # Opcional: oculta los ejes\n",
        "plt.show()"
      ]
    },
    {
      "cell_type": "code",
      "execution_count": null,
      "id": "35e145c5-db95-467e-ba5a-c8d3cf5c767e",
      "metadata": {
        "id": "35e145c5-db95-467e-ba5a-c8d3cf5c767e"
      },
      "outputs": [],
      "source": [
        "plt.figure(figsize=(10, 6))\n",
        "img = mpimg.imread('Imagenes/BayesEj_2.png')\n",
        "plt.imshow(img)\n",
        "plt.axis('off')  # Opcional: oculta los ejes\n",
        "plt.show()"
      ]
    },
    {
      "cell_type": "code",
      "execution_count": null,
      "id": "656acb0f-3733-4fea-9970-e65e5cf403d2",
      "metadata": {
        "id": "656acb0f-3733-4fea-9970-e65e5cf403d2"
      },
      "outputs": [],
      "source": [
        "plt.figure(figsize=(10, 6))\n",
        "img = mpimg.imread('Imagenes/BayesEj_3.png')\n",
        "plt.imshow(img)\n",
        "plt.axis('off')  # Opcional: oculta los ejes\n",
        "plt.show()"
      ]
    },
    {
      "cell_type": "code",
      "execution_count": null,
      "id": "7e9eda5d-e1c1-4bff-8a87-7eaeaefb1dae",
      "metadata": {
        "id": "7e9eda5d-e1c1-4bff-8a87-7eaeaefb1dae"
      },
      "outputs": [],
      "source": [
        "# 1. Importamos librerías\n",
        "import numpy as np\n",
        "import pandas as pd\n",
        "import matplotlib.pyplot as plt\n",
        "import seaborn as sns\n",
        "\n",
        "from sklearn.datasets import load_wine\n",
        "from sklearn.model_selection import train_test_split\n",
        "from sklearn.naive_bayes import GaussianNB\n",
        "from sklearn.metrics import classification_report, confusion_matrix, ConfusionMatrixDisplay"
      ]
    },
    {
      "cell_type": "code",
      "execution_count": null,
      "id": "e9a594bb-158f-4473-84fc-6189ef86fefd",
      "metadata": {
        "id": "e9a594bb-158f-4473-84fc-6189ef86fefd"
      },
      "outputs": [],
      "source": [
        "# 2. Cargamos el dataset\n",
        "data = load_wine()\n",
        "df = pd.DataFrame(data.data, columns=data.feature_names)\n",
        "df['target'] = data.target\n",
        "\n",
        "# Separar X (características) e y (etiqueta) usando .drop()\n",
        "X = df.drop('target', axis=1)\n",
        "y = df['target']\n",
        "#X.columns"
      ]
    },
    {
      "cell_type": "code",
      "execution_count": null,
      "id": "edb554e5-9cd8-46d5-88d7-f881d8ef141c",
      "metadata": {
        "id": "edb554e5-9cd8-46d5-88d7-f881d8ef141c"
      },
      "outputs": [],
      "source": [
        "# 2-1 Agregar ruido gaussiano: media=0, std=0.5\n",
        "np.random.seed(42)  # para reproducibilidad\n",
        "noise = np.random.normal(loc=0.0, scale=2, size=X.shape)\n",
        "X = X + noise  # nueva base con ruido"
      ]
    },
    {
      "cell_type": "code",
      "execution_count": null,
      "id": "b79739e7-ddd8-4c17-af82-3d6f024925c7",
      "metadata": {
        "id": "b79739e7-ddd8-4c17-af82-3d6f024925c7"
      },
      "outputs": [],
      "source": [
        "# 3. Exploramos brevemente los datos\n",
        "\n",
        "pairplot = sns.pairplot(df[['alcohol', 'malic_acid', 'ash','proanthocyanins', 'color_intensity','target']], hue='target')\n",
        "plt.suptitle(\"Distribución de características (primeras 3)\", y=1.02)\n",
        "plt.show()"
      ]
    },
    {
      "cell_type": "code",
      "execution_count": null,
      "id": "48f28bf1-f47b-4864-ba7e-90da35311e06",
      "metadata": {
        "id": "48f28bf1-f47b-4864-ba7e-90da35311e06"
      },
      "outputs": [],
      "source": [
        "# 4. Dividimos en train/test\n",
        "X_train, X_test, y_train, y_test = train_test_split(X, y, test_size=0.3, random_state=42)"
      ]
    },
    {
      "cell_type": "code",
      "execution_count": null,
      "id": "a1938e3e-e777-49ee-bbd2-9e1e9de435a6",
      "metadata": {
        "id": "a1938e3e-e777-49ee-bbd2-9e1e9de435a6"
      },
      "outputs": [],
      "source": [
        "# 5. Creamos y entrenamos el modelo\n",
        "model = GaussianNB()\n",
        "model.fit(X_train, y_train)"
      ]
    },
    {
      "cell_type": "code",
      "execution_count": null,
      "id": "7d3ebb8f-9cdb-4a60-8076-c0789528a858",
      "metadata": {
        "id": "7d3ebb8f-9cdb-4a60-8076-c0789528a858"
      },
      "outputs": [],
      "source": [
        "# 6. Hacemos predicciones\n",
        "y_pred = model.predict(X_test)"
      ]
    },
    {
      "cell_type": "code",
      "execution_count": null,
      "id": "44e332bc-4bb4-4a66-a3f5-3ea1b4071b33",
      "metadata": {
        "id": "44e332bc-4bb4-4a66-a3f5-3ea1b4071b33"
      },
      "outputs": [],
      "source": [
        "# 7. Evaluamos el modelo\n",
        "print(\"📊 Reporte de clasificación:\\n\")\n",
        "print(classification_report(y_test, y_pred))\n",
        "\n",
        "cm = confusion_matrix(y_test, y_pred)\n",
        "ConfusionMatrixDisplay(cm, display_labels=data.target_names).plot(cmap=\"Blues\")\n",
        "plt.title(\"Matriz de confusión - Naive Bayes\")\n",
        "plt.show()"
      ]
    },
    {
      "cell_type": "code",
      "execution_count": null,
      "id": "39e23b1e-1c25-4b87-af9c-f8c0b5b27d29",
      "metadata": {
        "id": "39e23b1e-1c25-4b87-af9c-f8c0b5b27d29"
      },
      "outputs": [],
      "source": [
        "# predicción Manual:\n",
        "\n",
        "nuevo_dato = np.array([[1.52234283e+01, 1.43347140e+00, 3.72537708e+00, 1.86460597e+01,\n",
        "       1.26531693e+02, 2.33172609e+00, 6.21842563e+00, 1.81486946e+00,\n",
        "       1.35105123e+00, 6.72512009e+00, 1.13164614e-01, 2.98854049e+00,\n",
        "       1.06548392e+03]])"
      ]
    },
    {
      "cell_type": "code",
      "execution_count": null,
      "id": "dd5782e4-628a-4877-8808-bbf9f90a641f",
      "metadata": {
        "id": "dd5782e4-628a-4877-8808-bbf9f90a641f"
      },
      "outputs": [],
      "source": [
        "model.predict(nuevo_dato)"
      ]
    },
    {
      "cell_type": "code",
      "execution_count": null,
      "id": "372dff59-4721-4edd-a84f-1d63d29d894f",
      "metadata": {
        "id": "372dff59-4721-4edd-a84f-1d63d29d894f"
      },
      "outputs": [],
      "source": [
        "# Para quitar la advertencia:\n",
        "\n",
        "# Usar los mismos nombres de las columnas con las que se entrenó\n",
        "nuevo_dato_df = pd.DataFrame(nuevo_dato, columns=X.columns)\n",
        "\n",
        "prediccion = model.predict(nuevo_dato_df)\n",
        "print(\"Predicción:\", prediccion)\n"
      ]
    },
    {
      "cell_type": "markdown",
      "id": "a4e56b7d-8b71-4361-b51e-689522b63de6",
      "metadata": {
        "id": "a4e56b7d-8b71-4361-b51e-689522b63de6"
      },
      "source": [
        "## Seleccionamos solo 2 características para poder graficar"
      ]
    },
    {
      "cell_type": "code",
      "execution_count": null,
      "id": "45bbbe8c-9083-470a-84b2-2b79e36da3a2",
      "metadata": {
        "id": "45bbbe8c-9083-470a-84b2-2b79e36da3a2"
      },
      "outputs": [],
      "source": [
        "X_vis = X.iloc[:, [0, 2]]  # 'alcohol' y 'ash'\n",
        "X_vis_train, X_vis_test, y_vis_train, y_vis_test = train_test_split(X_vis, y, test_size=0.3, random_state=42)"
      ]
    },
    {
      "cell_type": "code",
      "execution_count": null,
      "id": "88333153-50ce-47a3-b2a8-76b2b27db1f9",
      "metadata": {
        "id": "88333153-50ce-47a3-b2a8-76b2b27db1f9"
      },
      "outputs": [],
      "source": [
        "# Entrenamos un nuevo modelo con sólo esas 2 características\n",
        "model_vis = GaussianNB()\n",
        "model_vis.fit(X_vis_train, y_vis_train)"
      ]
    },
    {
      "cell_type": "code",
      "execution_count": null,
      "id": "3020772f-3dd9-4423-9286-65bf0762b34b",
      "metadata": {
        "id": "3020772f-3dd9-4423-9286-65bf0762b34b"
      },
      "outputs": [],
      "source": [
        "# Crear una malla de puntos para graficar la frontera de decisión\n",
        "h = 0.1  # paso de la malla\n",
        "x_min, x_max = X_vis_train.iloc[:, 0].min() - 1, X_vis_train.iloc[:, 0].max() + 1\n",
        "y_min, y_max = X_vis_train.iloc[:, 1].min() - 1, X_vis_train.iloc[:, 1].max() + 1\n",
        "xx, yy = np.meshgrid(np.arange(x_min, x_max, h),\n",
        "                     np.arange(y_min, y_max, h))"
      ]
    },
    {
      "cell_type": "code",
      "execution_count": null,
      "id": "c5a03b16-7319-47d8-bc60-b165699fca16",
      "metadata": {
        "id": "c5a03b16-7319-47d8-bc60-b165699fca16"
      },
      "outputs": [],
      "source": [
        "# Predecimos sobre todos los puntos del meshgrid\n",
        "Z = model_vis.predict(np.c_[xx.ravel(), yy.ravel()])\n",
        "Z = Z.reshape(xx.shape)"
      ]
    },
    {
      "cell_type": "code",
      "execution_count": null,
      "id": "a730004c-f508-435a-ac8d-f81c716ea508",
      "metadata": {
        "id": "a730004c-f508-435a-ac8d-f81c716ea508"
      },
      "outputs": [],
      "source": [
        "# Para eliminar la advertencia:\n",
        "\n",
        "# Crear un DataFrame con nombres de columnas antes de predecir\n",
        "grid_points = pd.DataFrame(np.c_[xx.ravel(), yy.ravel()], columns=X_vis.columns)\n",
        "Z = model_vis.predict(grid_points)\n",
        "Z = Z.reshape(xx.shape)"
      ]
    },
    {
      "cell_type": "code",
      "execution_count": null,
      "id": "ff59a010-b67d-4aea-9313-381377d9a593",
      "metadata": {
        "id": "ff59a010-b67d-4aea-9313-381377d9a593"
      },
      "outputs": [],
      "source": [
        "# Graficamos\n",
        "plt.figure(figsize=(8,6))\n",
        "plt.contourf(xx, yy, Z, cmap=plt.cm.Pastel2, alpha=0.6)\n",
        "sns.scatterplot(x=X_vis_train.iloc[:, 0], y=X_vis_train.iloc[:, 1], hue=y_vis_train, palette='Set1', edgecolor='k')\n",
        "plt.xlabel(\"Alcohol\")\n",
        "plt.ylabel(\"Ash\")\n",
        "plt.title(\"Frontera de decisión - Naive Bayes (2 características)\")\n",
        "plt.grid(True)\n",
        "plt.show()"
      ]
    },
    {
      "cell_type": "code",
      "execution_count": null,
      "id": "62c80662-f938-4f14-b0c7-6c3e6f7e2f64",
      "metadata": {
        "id": "62c80662-f938-4f14-b0c7-6c3e6f7e2f64"
      },
      "outputs": [],
      "source": [
        "# Predicciones sobre el conjunto de prueba\n",
        "y_pred_vis = model_vis.predict(X_vis_test)\n",
        "\n",
        "# Matriz de confusión\n",
        "cm = confusion_matrix( y_vis_test, y_pred_vis)\n",
        "disp = ConfusionMatrixDisplay(confusion_matrix=cm)\n",
        "disp.plot(cmap=\"Blues\")\n",
        "plt.title(\"Matriz de Confusión - Naive Bayes (2 características)\")\n",
        "plt.grid(False)\n",
        "plt.show()\n",
        "\n",
        "# Reporte de clasificación\n",
        "print(\"📊 Reporte de clasificación:\")\n",
        "print(classification_report( y_vis_test, y_pred_vis))"
      ]
    },
    {
      "cell_type": "code",
      "execution_count": null,
      "id": "d80f26f2-cd82-4fe5-8000-55e233248050",
      "metadata": {
        "id": "d80f26f2-cd82-4fe5-8000-55e233248050"
      },
      "outputs": [],
      "source": [
        "# Usar los mismos nombres de las columnas\n",
        "nuevo_dato_df = pd.DataFrame(nuevo_dato, columns=X.columns)\n",
        "\n",
        "prediccion = model.predict(nuevo_dato_df)\n",
        "print(\"Predicción:\", prediccion)"
      ]
    }
  ],
  "metadata": {
    "kernelspec": {
      "display_name": "Python 3 (ipykernel)",
      "language": "python",
      "name": "python3"
    },
    "language_info": {
      "codemirror_mode": {
        "name": "ipython",
        "version": 3
      },
      "file_extension": ".py",
      "mimetype": "text/x-python",
      "name": "python",
      "nbconvert_exporter": "python",
      "pygments_lexer": "ipython3",
      "version": "3.13.2"
    },
    "colab": {
      "provenance": [],
      "include_colab_link": true
    }
  },
  "nbformat": 4,
  "nbformat_minor": 5
}